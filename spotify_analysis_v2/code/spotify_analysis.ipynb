{
 "cells": [
  {
   "cell_type": "markdown",
   "metadata": {},
   "source": [
    "Spotify Song Analysis (Tune Squad)\n",
    "Team Members: Geo Mirador, Pema Yangzom, Ralph Watson-Quartey, King D. Nsiah\n",
    "\n",
    "Project Goals:\n",
    "1. Determine Most Popular Songs by Artist and Genre\n",
    "2. Determine top 10 Artists of the decade (by count and by popularity rating)\n",
    "3. Determine top 10 Genres of the decade (by count and by popularity rating)\n",
    "4. Compare audio features between (2010 to 2012), (2013 to 2015), and (2016 to 2019)\n",
    "   and determine if they contribute to the popularity of songs.\n",
    "5. Analyze trend in the popularity ratings.\n",
    "6. "
   ]
  },
  {
   "cell_type": "code",
   "execution_count": null,
   "metadata": {},
   "outputs": [],
   "source": [
    "#Import libraries and dependencies\n",
    "import pandas as pd\n",
    "import numpy as np\n",
    "import matplotlib.pyplot as plt\n",
    "import seaborn as sns\n",
    "import plotly.express as px"
   ]
  },
  {
   "cell_type": "code",
   "execution_count": 2,
   "metadata": {
    "scrolled": true
   },
   "outputs": [
    {
     "data": {
      "text/html": [
       "<div>\n",
       "<style scoped>\n",
       "    .dataframe tbody tr th:only-of-type {\n",
       "        vertical-align: middle;\n",
       "    }\n",
       "\n",
       "    .dataframe tbody tr th {\n",
       "        vertical-align: top;\n",
       "    }\n",
       "\n",
       "    .dataframe thead th {\n",
       "        text-align: right;\n",
       "    }\n",
       "</style>\n",
       "<table border=\"1\" class=\"dataframe\">\n",
       "  <thead>\n",
       "    <tr style=\"text-align: right;\">\n",
       "      <th></th>\n",
       "      <th>Index</th>\n",
       "      <th>title</th>\n",
       "      <th>artist</th>\n",
       "      <th>top genre</th>\n",
       "      <th>year</th>\n",
       "      <th>bpm</th>\n",
       "      <th>nrgy</th>\n",
       "      <th>dnce</th>\n",
       "      <th>dB</th>\n",
       "      <th>live</th>\n",
       "      <th>val</th>\n",
       "      <th>dur</th>\n",
       "      <th>acous</th>\n",
       "      <th>spch</th>\n",
       "      <th>pop</th>\n",
       "    </tr>\n",
       "  </thead>\n",
       "  <tbody>\n",
       "    <tr>\n",
       "      <th>0</th>\n",
       "      <td>1</td>\n",
       "      <td>Hey, Soul Sister</td>\n",
       "      <td>Train</td>\n",
       "      <td>neo mellow</td>\n",
       "      <td>2010</td>\n",
       "      <td>97</td>\n",
       "      <td>89</td>\n",
       "      <td>67</td>\n",
       "      <td>-4</td>\n",
       "      <td>8</td>\n",
       "      <td>80</td>\n",
       "      <td>217</td>\n",
       "      <td>19</td>\n",
       "      <td>4</td>\n",
       "      <td>83</td>\n",
       "    </tr>\n",
       "    <tr>\n",
       "      <th>1</th>\n",
       "      <td>2</td>\n",
       "      <td>Love The Way You Lie</td>\n",
       "      <td>Eminem</td>\n",
       "      <td>detroit hip hop</td>\n",
       "      <td>2010</td>\n",
       "      <td>87</td>\n",
       "      <td>93</td>\n",
       "      <td>75</td>\n",
       "      <td>-5</td>\n",
       "      <td>52</td>\n",
       "      <td>64</td>\n",
       "      <td>263</td>\n",
       "      <td>24</td>\n",
       "      <td>23</td>\n",
       "      <td>82</td>\n",
       "    </tr>\n",
       "    <tr>\n",
       "      <th>2</th>\n",
       "      <td>3</td>\n",
       "      <td>TiK ToK</td>\n",
       "      <td>Kesha</td>\n",
       "      <td>dance pop</td>\n",
       "      <td>2010</td>\n",
       "      <td>120</td>\n",
       "      <td>84</td>\n",
       "      <td>76</td>\n",
       "      <td>-3</td>\n",
       "      <td>29</td>\n",
       "      <td>71</td>\n",
       "      <td>200</td>\n",
       "      <td>10</td>\n",
       "      <td>14</td>\n",
       "      <td>80</td>\n",
       "    </tr>\n",
       "    <tr>\n",
       "      <th>3</th>\n",
       "      <td>4</td>\n",
       "      <td>Bad Romance</td>\n",
       "      <td>Lady Gaga</td>\n",
       "      <td>dance pop</td>\n",
       "      <td>2010</td>\n",
       "      <td>119</td>\n",
       "      <td>92</td>\n",
       "      <td>70</td>\n",
       "      <td>-4</td>\n",
       "      <td>8</td>\n",
       "      <td>71</td>\n",
       "      <td>295</td>\n",
       "      <td>0</td>\n",
       "      <td>4</td>\n",
       "      <td>79</td>\n",
       "    </tr>\n",
       "    <tr>\n",
       "      <th>4</th>\n",
       "      <td>5</td>\n",
       "      <td>Just the Way You Are</td>\n",
       "      <td>Bruno Mars</td>\n",
       "      <td>pop</td>\n",
       "      <td>2010</td>\n",
       "      <td>109</td>\n",
       "      <td>84</td>\n",
       "      <td>64</td>\n",
       "      <td>-5</td>\n",
       "      <td>9</td>\n",
       "      <td>43</td>\n",
       "      <td>221</td>\n",
       "      <td>2</td>\n",
       "      <td>4</td>\n",
       "      <td>78</td>\n",
       "    </tr>\n",
       "    <tr>\n",
       "      <th>...</th>\n",
       "      <td>...</td>\n",
       "      <td>...</td>\n",
       "      <td>...</td>\n",
       "      <td>...</td>\n",
       "      <td>...</td>\n",
       "      <td>...</td>\n",
       "      <td>...</td>\n",
       "      <td>...</td>\n",
       "      <td>...</td>\n",
       "      <td>...</td>\n",
       "      <td>...</td>\n",
       "      <td>...</td>\n",
       "      <td>...</td>\n",
       "      <td>...</td>\n",
       "      <td>...</td>\n",
       "    </tr>\n",
       "    <tr>\n",
       "      <th>598</th>\n",
       "      <td>599</td>\n",
       "      <td>Find U Again (feat. Camila Cabello)</td>\n",
       "      <td>Mark Ronson</td>\n",
       "      <td>dance pop</td>\n",
       "      <td>2019</td>\n",
       "      <td>104</td>\n",
       "      <td>66</td>\n",
       "      <td>61</td>\n",
       "      <td>-7</td>\n",
       "      <td>20</td>\n",
       "      <td>16</td>\n",
       "      <td>176</td>\n",
       "      <td>1</td>\n",
       "      <td>3</td>\n",
       "      <td>75</td>\n",
       "    </tr>\n",
       "    <tr>\n",
       "      <th>599</th>\n",
       "      <td>600</td>\n",
       "      <td>Cross Me (feat. Chance the Rapper &amp; PnB Rock)</td>\n",
       "      <td>Ed Sheeran</td>\n",
       "      <td>pop</td>\n",
       "      <td>2019</td>\n",
       "      <td>95</td>\n",
       "      <td>79</td>\n",
       "      <td>75</td>\n",
       "      <td>-6</td>\n",
       "      <td>7</td>\n",
       "      <td>61</td>\n",
       "      <td>206</td>\n",
       "      <td>21</td>\n",
       "      <td>12</td>\n",
       "      <td>75</td>\n",
       "    </tr>\n",
       "    <tr>\n",
       "      <th>600</th>\n",
       "      <td>601</td>\n",
       "      <td>No Brainer (feat. Justin Bieber, Chance the Ra...</td>\n",
       "      <td>DJ Khaled</td>\n",
       "      <td>dance pop</td>\n",
       "      <td>2019</td>\n",
       "      <td>136</td>\n",
       "      <td>76</td>\n",
       "      <td>53</td>\n",
       "      <td>-5</td>\n",
       "      <td>9</td>\n",
       "      <td>65</td>\n",
       "      <td>260</td>\n",
       "      <td>7</td>\n",
       "      <td>34</td>\n",
       "      <td>70</td>\n",
       "    </tr>\n",
       "    <tr>\n",
       "      <th>601</th>\n",
       "      <td>602</td>\n",
       "      <td>Nothing Breaks Like a Heart (feat. Miley Cyrus)</td>\n",
       "      <td>Mark Ronson</td>\n",
       "      <td>dance pop</td>\n",
       "      <td>2019</td>\n",
       "      <td>114</td>\n",
       "      <td>79</td>\n",
       "      <td>60</td>\n",
       "      <td>-6</td>\n",
       "      <td>42</td>\n",
       "      <td>24</td>\n",
       "      <td>217</td>\n",
       "      <td>1</td>\n",
       "      <td>7</td>\n",
       "      <td>69</td>\n",
       "    </tr>\n",
       "    <tr>\n",
       "      <th>602</th>\n",
       "      <td>603</td>\n",
       "      <td>Kills You Slowly</td>\n",
       "      <td>The Chainsmokers</td>\n",
       "      <td>electropop</td>\n",
       "      <td>2019</td>\n",
       "      <td>150</td>\n",
       "      <td>44</td>\n",
       "      <td>70</td>\n",
       "      <td>-9</td>\n",
       "      <td>13</td>\n",
       "      <td>23</td>\n",
       "      <td>213</td>\n",
       "      <td>6</td>\n",
       "      <td>6</td>\n",
       "      <td>67</td>\n",
       "    </tr>\n",
       "  </tbody>\n",
       "</table>\n",
       "<p>603 rows × 15 columns</p>\n",
       "</div>"
      ],
      "text/plain": [
       "     Index                                              title  \\\n",
       "0        1                                   Hey, Soul Sister   \n",
       "1        2                               Love The Way You Lie   \n",
       "2        3                                            TiK ToK   \n",
       "3        4                                        Bad Romance   \n",
       "4        5                               Just the Way You Are   \n",
       "..     ...                                                ...   \n",
       "598    599                Find U Again (feat. Camila Cabello)   \n",
       "599    600      Cross Me (feat. Chance the Rapper & PnB Rock)   \n",
       "600    601  No Brainer (feat. Justin Bieber, Chance the Ra...   \n",
       "601    602    Nothing Breaks Like a Heart (feat. Miley Cyrus)   \n",
       "602    603                                   Kills You Slowly   \n",
       "\n",
       "               artist        top genre  year  bpm  nrgy  dnce  dB  live  val  \\\n",
       "0               Train       neo mellow  2010   97    89    67  -4     8   80   \n",
       "1              Eminem  detroit hip hop  2010   87    93    75  -5    52   64   \n",
       "2               Kesha        dance pop  2010  120    84    76  -3    29   71   \n",
       "3           Lady Gaga        dance pop  2010  119    92    70  -4     8   71   \n",
       "4          Bruno Mars              pop  2010  109    84    64  -5     9   43   \n",
       "..                ...              ...   ...  ...   ...   ...  ..   ...  ...   \n",
       "598       Mark Ronson        dance pop  2019  104    66    61  -7    20   16   \n",
       "599        Ed Sheeran              pop  2019   95    79    75  -6     7   61   \n",
       "600         DJ Khaled        dance pop  2019  136    76    53  -5     9   65   \n",
       "601       Mark Ronson        dance pop  2019  114    79    60  -6    42   24   \n",
       "602  The Chainsmokers       electropop  2019  150    44    70  -9    13   23   \n",
       "\n",
       "     dur  acous  spch  pop  \n",
       "0    217     19     4   83  \n",
       "1    263     24    23   82  \n",
       "2    200     10    14   80  \n",
       "3    295      0     4   79  \n",
       "4    221      2     4   78  \n",
       "..   ...    ...   ...  ...  \n",
       "598  176      1     3   75  \n",
       "599  206     21    12   75  \n",
       "600  260      7    34   70  \n",
       "601  217      1     7   69  \n",
       "602  213      6     6   67  \n",
       "\n",
       "[603 rows x 15 columns]"
      ]
     },
     "execution_count": 2,
     "metadata": {},
     "output_type": "execute_result"
    }
   ],
   "source": [
    "#Read in file and create dataframe\n",
    "spotify = pd.read_csv('../resources/top_spotify_songs_2010_2019.csv', encoding='ISO-8859-1')\n",
    "spotify_df = pd.DataFrame(spotify)\n",
    "spotify_df"
   ]
  },
  {
   "cell_type": "code",
   "execution_count": 3,
   "metadata": {},
   "outputs": [
    {
     "data": {
      "text/html": [
       "<div>\n",
       "<style scoped>\n",
       "    .dataframe tbody tr th:only-of-type {\n",
       "        vertical-align: middle;\n",
       "    }\n",
       "\n",
       "    .dataframe tbody tr th {\n",
       "        vertical-align: top;\n",
       "    }\n",
       "\n",
       "    .dataframe thead th {\n",
       "        text-align: right;\n",
       "    }\n",
       "</style>\n",
       "<table border=\"1\" class=\"dataframe\">\n",
       "  <thead>\n",
       "    <tr style=\"text-align: right;\">\n",
       "      <th></th>\n",
       "      <th>Index</th>\n",
       "      <th>Title</th>\n",
       "      <th>Artist</th>\n",
       "      <th>Genre</th>\n",
       "      <th>Year</th>\n",
       "      <th>Tempo</th>\n",
       "      <th>Energy</th>\n",
       "      <th>Danceability</th>\n",
       "      <th>Loudness</th>\n",
       "      <th>Liveness</th>\n",
       "      <th>Valence</th>\n",
       "      <th>Length</th>\n",
       "      <th>Acousticness</th>\n",
       "      <th>Speechiness</th>\n",
       "      <th>Popularity</th>\n",
       "    </tr>\n",
       "  </thead>\n",
       "  <tbody>\n",
       "    <tr>\n",
       "      <th>0</th>\n",
       "      <td>1</td>\n",
       "      <td>Hey, Soul Sister</td>\n",
       "      <td>Train</td>\n",
       "      <td>neo mellow</td>\n",
       "      <td>2010</td>\n",
       "      <td>97</td>\n",
       "      <td>89</td>\n",
       "      <td>67</td>\n",
       "      <td>-4</td>\n",
       "      <td>8</td>\n",
       "      <td>80</td>\n",
       "      <td>217</td>\n",
       "      <td>19</td>\n",
       "      <td>4</td>\n",
       "      <td>83</td>\n",
       "    </tr>\n",
       "    <tr>\n",
       "      <th>1</th>\n",
       "      <td>2</td>\n",
       "      <td>Love The Way You Lie</td>\n",
       "      <td>Eminem</td>\n",
       "      <td>detroit hip hop</td>\n",
       "      <td>2010</td>\n",
       "      <td>87</td>\n",
       "      <td>93</td>\n",
       "      <td>75</td>\n",
       "      <td>-5</td>\n",
       "      <td>52</td>\n",
       "      <td>64</td>\n",
       "      <td>263</td>\n",
       "      <td>24</td>\n",
       "      <td>23</td>\n",
       "      <td>82</td>\n",
       "    </tr>\n",
       "    <tr>\n",
       "      <th>2</th>\n",
       "      <td>3</td>\n",
       "      <td>TiK ToK</td>\n",
       "      <td>Kesha</td>\n",
       "      <td>dance pop</td>\n",
       "      <td>2010</td>\n",
       "      <td>120</td>\n",
       "      <td>84</td>\n",
       "      <td>76</td>\n",
       "      <td>-3</td>\n",
       "      <td>29</td>\n",
       "      <td>71</td>\n",
       "      <td>200</td>\n",
       "      <td>10</td>\n",
       "      <td>14</td>\n",
       "      <td>80</td>\n",
       "    </tr>\n",
       "    <tr>\n",
       "      <th>3</th>\n",
       "      <td>4</td>\n",
       "      <td>Bad Romance</td>\n",
       "      <td>Lady Gaga</td>\n",
       "      <td>dance pop</td>\n",
       "      <td>2010</td>\n",
       "      <td>119</td>\n",
       "      <td>92</td>\n",
       "      <td>70</td>\n",
       "      <td>-4</td>\n",
       "      <td>8</td>\n",
       "      <td>71</td>\n",
       "      <td>295</td>\n",
       "      <td>0</td>\n",
       "      <td>4</td>\n",
       "      <td>79</td>\n",
       "    </tr>\n",
       "    <tr>\n",
       "      <th>4</th>\n",
       "      <td>5</td>\n",
       "      <td>Just the Way You Are</td>\n",
       "      <td>Bruno Mars</td>\n",
       "      <td>pop</td>\n",
       "      <td>2010</td>\n",
       "      <td>109</td>\n",
       "      <td>84</td>\n",
       "      <td>64</td>\n",
       "      <td>-5</td>\n",
       "      <td>9</td>\n",
       "      <td>43</td>\n",
       "      <td>221</td>\n",
       "      <td>2</td>\n",
       "      <td>4</td>\n",
       "      <td>78</td>\n",
       "    </tr>\n",
       "  </tbody>\n",
       "</table>\n",
       "</div>"
      ],
      "text/plain": [
       "   Index                 Title      Artist            Genre  Year  Tempo  \\\n",
       "0      1      Hey, Soul Sister       Train       neo mellow  2010     97   \n",
       "1      2  Love The Way You Lie      Eminem  detroit hip hop  2010     87   \n",
       "2      3               TiK ToK       Kesha        dance pop  2010    120   \n",
       "3      4           Bad Romance   Lady Gaga        dance pop  2010    119   \n",
       "4      5  Just the Way You Are  Bruno Mars              pop  2010    109   \n",
       "\n",
       "   Energy  Danceability  Loudness  Liveness  Valence  Length  Acousticness  \\\n",
       "0      89            67        -4         8       80     217            19   \n",
       "1      93            75        -5        52       64     263            24   \n",
       "2      84            76        -3        29       71     200            10   \n",
       "3      92            70        -4         8       71     295             0   \n",
       "4      84            64        -5         9       43     221             2   \n",
       "\n",
       "   Speechiness  Popularity  \n",
       "0            4          83  \n",
       "1           23          82  \n",
       "2           14          80  \n",
       "3            4          79  \n",
       "4            4          78  "
      ]
     },
     "execution_count": 3,
     "metadata": {},
     "output_type": "execute_result"
    }
   ],
   "source": [
    "#Renaming Spotify Dataset Columns\n",
    "spotify_df = spotify_df.rename(columns={\"title\":\"Title\",\"artist\":\"Artist\",\"top genre\":\"Genre\",\"year\":\"Year\",\n",
    "                                        \"bpm\":\"Tempo\",\"nrgy\":\"Energy\",\"dnce\":\"Danceability\",\"dB\":\"Loudness\",\"live\":\"Liveness\",\"val\":\"Valence\",\n",
    "                                        \"dur\":\"Length\",\"acous\":\"Acousticness\",\"spch\":\"Speechiness\",\"pop\":\"Popularity\"})\n",
    "spotify_df.head()"
   ]
  },
  {
   "cell_type": "code",
   "execution_count": 10,
   "metadata": {},
   "outputs": [
    {
     "data": {
      "text/html": [
       "<div>\n",
       "<style scoped>\n",
       "    .dataframe tbody tr th:only-of-type {\n",
       "        vertical-align: middle;\n",
       "    }\n",
       "\n",
       "    .dataframe tbody tr th {\n",
       "        vertical-align: top;\n",
       "    }\n",
       "\n",
       "    .dataframe thead th {\n",
       "        text-align: right;\n",
       "    }\n",
       "</style>\n",
       "<table border=\"1\" class=\"dataframe\">\n",
       "  <thead>\n",
       "    <tr style=\"text-align: right;\">\n",
       "      <th></th>\n",
       "      <th>Count</th>\n",
       "      <th>Artist</th>\n",
       "    </tr>\n",
       "  </thead>\n",
       "  <tbody>\n",
       "    <tr>\n",
       "      <th>Katy Perry</th>\n",
       "      <td>17</td>\n",
       "      <td>Katy Perry</td>\n",
       "    </tr>\n",
       "    <tr>\n",
       "      <th>Justin Bieber</th>\n",
       "      <td>16</td>\n",
       "      <td>Justin Bieber</td>\n",
       "    </tr>\n",
       "    <tr>\n",
       "      <th>Maroon 5</th>\n",
       "      <td>15</td>\n",
       "      <td>Maroon 5</td>\n",
       "    </tr>\n",
       "    <tr>\n",
       "      <th>Rihanna</th>\n",
       "      <td>15</td>\n",
       "      <td>Rihanna</td>\n",
       "    </tr>\n",
       "    <tr>\n",
       "      <th>Lady Gaga</th>\n",
       "      <td>14</td>\n",
       "      <td>Lady Gaga</td>\n",
       "    </tr>\n",
       "    <tr>\n",
       "      <th>Bruno Mars</th>\n",
       "      <td>13</td>\n",
       "      <td>Bruno Mars</td>\n",
       "    </tr>\n",
       "    <tr>\n",
       "      <th>The Chainsmokers</th>\n",
       "      <td>11</td>\n",
       "      <td>The Chainsmokers</td>\n",
       "    </tr>\n",
       "    <tr>\n",
       "      <th>Pitbull</th>\n",
       "      <td>11</td>\n",
       "      <td>Pitbull</td>\n",
       "    </tr>\n",
       "    <tr>\n",
       "      <th>Ed Sheeran</th>\n",
       "      <td>11</td>\n",
       "      <td>Ed Sheeran</td>\n",
       "    </tr>\n",
       "    <tr>\n",
       "      <th>Shawn Mendes</th>\n",
       "      <td>11</td>\n",
       "      <td>Shawn Mendes</td>\n",
       "    </tr>\n",
       "  </tbody>\n",
       "</table>\n",
       "</div>"
      ],
      "text/plain": [
       "                  Count            Artist\n",
       "Katy Perry           17        Katy Perry\n",
       "Justin Bieber        16     Justin Bieber\n",
       "Maroon 5             15          Maroon 5\n",
       "Rihanna              15           Rihanna\n",
       "Lady Gaga            14         Lady Gaga\n",
       "Bruno Mars           13        Bruno Mars\n",
       "The Chainsmokers     11  The Chainsmokers\n",
       "Pitbull              11           Pitbull\n",
       "Ed Sheeran           11        Ed Sheeran\n",
       "Shawn Mendes         11      Shawn Mendes"
      ]
     },
     "execution_count": 10,
     "metadata": {},
     "output_type": "execute_result"
    }
   ],
   "source": [
    "#Counting number of times an artist made the list within the 10 year period\n",
    "#Top artists by count\n",
    "top_artists_df = pd.DataFrame(spotify_df['Artist'].value_counts().head(10))\n",
    "top_artists_df['Index'] = top_artists_df.index\n",
    "top_artists_df = top_artists_df.rename(columns={\"Artist\":\"Count\",\"Index\":\"Artist\"})\n",
    "top_artists_df.head(20)"
   ]
  },
  {
   "cell_type": "code",
   "execution_count": 59,
   "metadata": {},
   "outputs": [
    {
     "data": {
      "image/png": "[encoded data removed]",
      "text/plain": [
       "<Figure size 1224x432 with 1 Axes>"
      ]
     },
     "metadata": {},
     "output_type": "display_data"
    }
   ],
   "source": [
    "#Plot top artists\n",
    "plt.figure(figsize=(17,6))\n",
    "plt.bar(top_artists_df['Artist'], top_artists_df['Count'], width = 0.5, color = 'limegreen')\n",
    "plt.xlabel('Artist')\n",
    "plt.ylabel('<b>Number of times an artist made the list </b>')\n",
    "plt.title('Top 10 artists on Spotify from 2010 to 2019 by Count')\n",
    "plt.show()"
   ]
  },
  {
   "cell_type": "code",
   "execution_count": 6,
   "metadata": {},
   "outputs": [
    {
     "data": {
      "text/html": [
       "<div>\n",
       "<style scoped>\n",
       "    .dataframe tbody tr th:only-of-type {\n",
       "        vertical-align: middle;\n",
       "    }\n",
       "\n",
       "    .dataframe tbody tr th {\n",
       "        vertical-align: top;\n",
       "    }\n",
       "\n",
       "    .dataframe thead th {\n",
       "        text-align: right;\n",
       "    }\n",
       "</style>\n",
       "<table border=\"1\" class=\"dataframe\">\n",
       "  <thead>\n",
       "    <tr style=\"text-align: right;\">\n",
       "      <th></th>\n",
       "      <th>Count</th>\n",
       "      <th>Genre</th>\n",
       "    </tr>\n",
       "  </thead>\n",
       "  <tbody>\n",
       "    <tr>\n",
       "      <th>dance pop</th>\n",
       "      <td>327</td>\n",
       "      <td>dance pop</td>\n",
       "    </tr>\n",
       "    <tr>\n",
       "      <th>pop</th>\n",
       "      <td>60</td>\n",
       "      <td>pop</td>\n",
       "    </tr>\n",
       "    <tr>\n",
       "      <th>canadian pop</th>\n",
       "      <td>34</td>\n",
       "      <td>canadian pop</td>\n",
       "    </tr>\n",
       "    <tr>\n",
       "      <th>boy band</th>\n",
       "      <td>15</td>\n",
       "      <td>boy band</td>\n",
       "    </tr>\n",
       "    <tr>\n",
       "      <th>barbadian pop</th>\n",
       "      <td>15</td>\n",
       "      <td>barbadian pop</td>\n",
       "    </tr>\n",
       "    <tr>\n",
       "      <th>electropop</th>\n",
       "      <td>13</td>\n",
       "      <td>electropop</td>\n",
       "    </tr>\n",
       "    <tr>\n",
       "      <th>british soul</th>\n",
       "      <td>11</td>\n",
       "      <td>british soul</td>\n",
       "    </tr>\n",
       "    <tr>\n",
       "      <th>big room</th>\n",
       "      <td>10</td>\n",
       "      <td>big room</td>\n",
       "    </tr>\n",
       "    <tr>\n",
       "      <th>neo mellow</th>\n",
       "      <td>9</td>\n",
       "      <td>neo mellow</td>\n",
       "    </tr>\n",
       "    <tr>\n",
       "      <th>canadian contemporary r&amp;b</th>\n",
       "      <td>9</td>\n",
       "      <td>canadian contemporary r&amp;b</td>\n",
       "    </tr>\n",
       "  </tbody>\n",
       "</table>\n",
       "</div>"
      ],
      "text/plain": [
       "                           Count                      Genre\n",
       "dance pop                    327                  dance pop\n",
       "pop                           60                        pop\n",
       "canadian pop                  34               canadian pop\n",
       "boy band                      15                   boy band\n",
       "barbadian pop                 15              barbadian pop\n",
       "electropop                    13                 electropop\n",
       "british soul                  11               british soul\n",
       "big room                      10                   big room\n",
       "neo mellow                     9                 neo mellow\n",
       "canadian contemporary r&b      9  canadian contemporary r&b"
      ]
     },
     "execution_count": 6,
     "metadata": {},
     "output_type": "execute_result"
    }
   ],
   "source": [
    "#Counting number of times a Genre made the top list within the 10 year period\n",
    "#Top Genre by count\n",
    "genre_df = pd.DataFrame(spotify_df['Genre'].value_counts().head(10))\n",
    "genre_df['Index'] = genre_df.index\n",
    "genre_df = genre_df.rename(columns={\"Genre\":\"Count\",\"Index\":\"Genre\"})\n",
    "genre_df"
   ]
  },
  {
   "cell_type": "code",
   "execution_count": 60,
   "metadata": {},
   "outputs": [
    {
     "data": {
      "image/png": "[encoded data removed]",
      "text/plain": [
       "<Figure size 720x504 with 1 Axes>"
      ]
     },
     "metadata": {},
     "output_type": "display_data"
    }
   ],
   "source": [
    "#Plot top genre\n",
    "plt.figure(figsize=(10,7))\n",
    "plt.barh(genre_df['Genre'], genre_df['Count'], color = 'limegreen')\n",
    "plt.xlabel('Count')\n",
    "plt.ylabel('Number of times a Genre made the list')\n",
    "plt.title('Top 10 Genres on Spotify from 2010 to 2019 by Count')\n",
    "plt.show()"
   ]
  },
  {
   "cell_type": "code",
   "execution_count": 15,
   "metadata": {},
   "outputs": [
    {
     "data": {
      "text/plain": [
       "A Little Party Never Killed Nobody (All We Got)    2\n",
       "All I Ask                                          2\n",
       "Written in the Stars (feat. Eric Turner)           2\n",
       "Company                                            2\n",
       "Here                                               2\n",
       "Name: Title, dtype: int64"
      ]
     },
     "execution_count": 15,
     "metadata": {},
     "output_type": "execute_result"
    }
   ],
   "source": [
    "#Counting number of times a song stayed in the top list within the 10 year period\n",
    "spotify_df['Title'].value_counts().head()"
   ]
  },
  {
   "cell_type": "code",
   "execution_count": null,
   "metadata": {},
   "outputs": [],
   "source": [
    "#First Third of dataset\n",
    "first_third_df = spotify_df.iloc[:201]\n",
    "first_third_df"
   ]
  },
  {
   "cell_type": "code",
   "execution_count": null,
   "metadata": {},
   "outputs": [],
   "source": [
    "#Second Third of dataset\n",
    "second_third_df = spotify_df.iloc[201:402]\n",
    "second_third_df.head()"
   ]
  },
  {
   "cell_type": "code",
   "execution_count": null,
   "metadata": {},
   "outputs": [],
   "source": [
    "#Final Third of dataset\n",
    "final_third_df = spotify_df.iloc[402:]\n",
    "final_third_df.head()"
   ]
  },
  {
   "cell_type": "code",
   "execution_count": 16,
   "metadata": {},
   "outputs": [
    {
     "data": {
      "text/html": [
       "<div>\n",
       "<style scoped>\n",
       "    .dataframe tbody tr th:only-of-type {\n",
       "        vertical-align: middle;\n",
       "    }\n",
       "\n",
       "    .dataframe tbody tr th {\n",
       "        vertical-align: top;\n",
       "    }\n",
       "\n",
       "    .dataframe thead th {\n",
       "        text-align: right;\n",
       "    }\n",
       "</style>\n",
       "<table border=\"1\" class=\"dataframe\">\n",
       "  <thead>\n",
       "    <tr style=\"text-align: right;\">\n",
       "      <th></th>\n",
       "      <th>Index</th>\n",
       "      <th>Title</th>\n",
       "      <th>Artist</th>\n",
       "      <th>Genre</th>\n",
       "      <th>Year</th>\n",
       "      <th>Tempo</th>\n",
       "      <th>Energy</th>\n",
       "      <th>Danceability</th>\n",
       "      <th>Loudness</th>\n",
       "      <th>Liveness</th>\n",
       "      <th>Valence</th>\n",
       "      <th>Length</th>\n",
       "      <th>Acousticness</th>\n",
       "      <th>Speechiness</th>\n",
       "      <th>Popularity</th>\n",
       "    </tr>\n",
       "  </thead>\n",
       "  <tbody>\n",
       "    <tr>\n",
       "      <th>0</th>\n",
       "      <td>1</td>\n",
       "      <td>Hey, Soul Sister</td>\n",
       "      <td>Train</td>\n",
       "      <td>neo mellow</td>\n",
       "      <td>2010</td>\n",
       "      <td>97</td>\n",
       "      <td>89</td>\n",
       "      <td>67</td>\n",
       "      <td>-4</td>\n",
       "      <td>8</td>\n",
       "      <td>80</td>\n",
       "      <td>217</td>\n",
       "      <td>19</td>\n",
       "      <td>4</td>\n",
       "      <td>83</td>\n",
       "    </tr>\n",
       "    <tr>\n",
       "      <th>1</th>\n",
       "      <td>2</td>\n",
       "      <td>Love The Way You Lie</td>\n",
       "      <td>Eminem</td>\n",
       "      <td>detroit hip hop</td>\n",
       "      <td>2010</td>\n",
       "      <td>87</td>\n",
       "      <td>93</td>\n",
       "      <td>75</td>\n",
       "      <td>-5</td>\n",
       "      <td>52</td>\n",
       "      <td>64</td>\n",
       "      <td>263</td>\n",
       "      <td>24</td>\n",
       "      <td>23</td>\n",
       "      <td>82</td>\n",
       "    </tr>\n",
       "    <tr>\n",
       "      <th>2</th>\n",
       "      <td>3</td>\n",
       "      <td>TiK ToK</td>\n",
       "      <td>Kesha</td>\n",
       "      <td>dance pop</td>\n",
       "      <td>2010</td>\n",
       "      <td>120</td>\n",
       "      <td>84</td>\n",
       "      <td>76</td>\n",
       "      <td>-3</td>\n",
       "      <td>29</td>\n",
       "      <td>71</td>\n",
       "      <td>200</td>\n",
       "      <td>10</td>\n",
       "      <td>14</td>\n",
       "      <td>80</td>\n",
       "    </tr>\n",
       "    <tr>\n",
       "      <th>3</th>\n",
       "      <td>4</td>\n",
       "      <td>Bad Romance</td>\n",
       "      <td>Lady Gaga</td>\n",
       "      <td>dance pop</td>\n",
       "      <td>2010</td>\n",
       "      <td>119</td>\n",
       "      <td>92</td>\n",
       "      <td>70</td>\n",
       "      <td>-4</td>\n",
       "      <td>8</td>\n",
       "      <td>71</td>\n",
       "      <td>295</td>\n",
       "      <td>0</td>\n",
       "      <td>4</td>\n",
       "      <td>79</td>\n",
       "    </tr>\n",
       "    <tr>\n",
       "      <th>4</th>\n",
       "      <td>5</td>\n",
       "      <td>Just the Way You Are</td>\n",
       "      <td>Bruno Mars</td>\n",
       "      <td>pop</td>\n",
       "      <td>2010</td>\n",
       "      <td>109</td>\n",
       "      <td>84</td>\n",
       "      <td>64</td>\n",
       "      <td>-5</td>\n",
       "      <td>9</td>\n",
       "      <td>43</td>\n",
       "      <td>221</td>\n",
       "      <td>2</td>\n",
       "      <td>4</td>\n",
       "      <td>78</td>\n",
       "    </tr>\n",
       "  </tbody>\n",
       "</table>\n",
       "</div>"
      ],
      "text/plain": [
       "   Index                 Title      Artist            Genre  Year  Tempo  \\\n",
       "0      1      Hey, Soul Sister       Train       neo mellow  2010     97   \n",
       "1      2  Love The Way You Lie      Eminem  detroit hip hop  2010     87   \n",
       "2      3               TiK ToK       Kesha        dance pop  2010    120   \n",
       "3      4           Bad Romance   Lady Gaga        dance pop  2010    119   \n",
       "4      5  Just the Way You Are  Bruno Mars              pop  2010    109   \n",
       "\n",
       "   Energy  Danceability  Loudness  Liveness  Valence  Length  Acousticness  \\\n",
       "0      89            67        -4         8       80     217            19   \n",
       "1      93            75        -5        52       64     263            24   \n",
       "2      84            76        -3        29       71     200            10   \n",
       "3      92            70        -4         8       71     295             0   \n",
       "4      84            64        -5         9       43     221             2   \n",
       "\n",
       "   Speechiness  Popularity  \n",
       "0            4          83  \n",
       "1           23          82  \n",
       "2           14          80  \n",
       "3            4          79  \n",
       "4            4          78  "
      ]
     },
     "execution_count": 16,
     "metadata": {},
     "output_type": "execute_result"
    }
   ],
   "source": [
    "#2010 to 2012 dataset\n",
    "df1 = spotify_df[spotify_df['Year'] <= 2012]\n",
    "df1.head()"
   ]
  },
  {
   "cell_type": "code",
   "execution_count": null,
   "metadata": {},
   "outputs": [],
   "source": []
  },
  {
   "cell_type": "code",
   "execution_count": 17,
   "metadata": {},
   "outputs": [
    {
     "data": {
      "text/html": [
       "<div>\n",
       "<style scoped>\n",
       "    .dataframe tbody tr th:only-of-type {\n",
       "        vertical-align: middle;\n",
       "    }\n",
       "\n",
       "    .dataframe tbody tr th {\n",
       "        vertical-align: top;\n",
       "    }\n",
       "\n",
       "    .dataframe thead th {\n",
       "        text-align: right;\n",
       "    }\n",
       "</style>\n",
       "<table border=\"1\" class=\"dataframe\">\n",
       "  <thead>\n",
       "    <tr style=\"text-align: right;\">\n",
       "      <th></th>\n",
       "      <th>Index</th>\n",
       "      <th>Title</th>\n",
       "      <th>Artist</th>\n",
       "      <th>Genre</th>\n",
       "      <th>Year</th>\n",
       "      <th>Tempo</th>\n",
       "      <th>Energy</th>\n",
       "      <th>Danceability</th>\n",
       "      <th>Loudness</th>\n",
       "      <th>Liveness</th>\n",
       "      <th>Valence</th>\n",
       "      <th>Length</th>\n",
       "      <th>Acousticness</th>\n",
       "      <th>Speechiness</th>\n",
       "      <th>Popularity</th>\n",
       "    </tr>\n",
       "  </thead>\n",
       "  <tbody>\n",
       "    <tr>\n",
       "      <th>139</th>\n",
       "      <td>140</td>\n",
       "      <td>Underneath the Tree</td>\n",
       "      <td>Kelly Clarkson</td>\n",
       "      <td>dance pop</td>\n",
       "      <td>2013</td>\n",
       "      <td>160</td>\n",
       "      <td>81</td>\n",
       "      <td>51</td>\n",
       "      <td>-5</td>\n",
       "      <td>21</td>\n",
       "      <td>69</td>\n",
       "      <td>230</td>\n",
       "      <td>0</td>\n",
       "      <td>5</td>\n",
       "      <td>88</td>\n",
       "    </tr>\n",
       "    <tr>\n",
       "      <th>140</th>\n",
       "      <td>141</td>\n",
       "      <td>Wake Me Up</td>\n",
       "      <td>Avicii</td>\n",
       "      <td>big room</td>\n",
       "      <td>2013</td>\n",
       "      <td>124</td>\n",
       "      <td>78</td>\n",
       "      <td>53</td>\n",
       "      <td>-6</td>\n",
       "      <td>16</td>\n",
       "      <td>64</td>\n",
       "      <td>247</td>\n",
       "      <td>0</td>\n",
       "      <td>5</td>\n",
       "      <td>85</td>\n",
       "    </tr>\n",
       "    <tr>\n",
       "      <th>141</th>\n",
       "      <td>142</td>\n",
       "      <td>Story of My Life</td>\n",
       "      <td>One Direction</td>\n",
       "      <td>boy band</td>\n",
       "      <td>2013</td>\n",
       "      <td>121</td>\n",
       "      <td>66</td>\n",
       "      <td>60</td>\n",
       "      <td>-6</td>\n",
       "      <td>12</td>\n",
       "      <td>29</td>\n",
       "      <td>245</td>\n",
       "      <td>23</td>\n",
       "      <td>5</td>\n",
       "      <td>81</td>\n",
       "    </tr>\n",
       "    <tr>\n",
       "      <th>142</th>\n",
       "      <td>143</td>\n",
       "      <td>Just Give Me a Reason (feat. Nate Ruess)</td>\n",
       "      <td>P!nk</td>\n",
       "      <td>dance pop</td>\n",
       "      <td>2013</td>\n",
       "      <td>95</td>\n",
       "      <td>55</td>\n",
       "      <td>78</td>\n",
       "      <td>-7</td>\n",
       "      <td>13</td>\n",
       "      <td>44</td>\n",
       "      <td>243</td>\n",
       "      <td>35</td>\n",
       "      <td>5</td>\n",
       "      <td>81</td>\n",
       "    </tr>\n",
       "    <tr>\n",
       "      <th>143</th>\n",
       "      <td>144</td>\n",
       "      <td>Hall of Fame</td>\n",
       "      <td>The Script</td>\n",
       "      <td>celtic rock</td>\n",
       "      <td>2013</td>\n",
       "      <td>85</td>\n",
       "      <td>87</td>\n",
       "      <td>42</td>\n",
       "      <td>-4</td>\n",
       "      <td>12</td>\n",
       "      <td>63</td>\n",
       "      <td>203</td>\n",
       "      <td>7</td>\n",
       "      <td>6</td>\n",
       "      <td>80</td>\n",
       "    </tr>\n",
       "  </tbody>\n",
       "</table>\n",
       "</div>"
      ],
      "text/plain": [
       "     Index                                     Title          Artist  \\\n",
       "139    140                       Underneath the Tree  Kelly Clarkson   \n",
       "140    141                                Wake Me Up          Avicii   \n",
       "141    142                          Story of My Life   One Direction   \n",
       "142    143  Just Give Me a Reason (feat. Nate Ruess)            P!nk   \n",
       "143    144                              Hall of Fame      The Script   \n",
       "\n",
       "           Genre  Year  Tempo  Energy  Danceability  Loudness  Liveness  \\\n",
       "139    dance pop  2013    160      81            51        -5        21   \n",
       "140     big room  2013    124      78            53        -6        16   \n",
       "141     boy band  2013    121      66            60        -6        12   \n",
       "142    dance pop  2013     95      55            78        -7        13   \n",
       "143  celtic rock  2013     85      87            42        -4        12   \n",
       "\n",
       "     Valence  Length  Acousticness  Speechiness  Popularity  \n",
       "139       69     230             0            5          88  \n",
       "140       64     247             0            5          85  \n",
       "141       29     245            23            5          81  \n",
       "142       44     243            35            5          81  \n",
       "143       63     203             7            6          80  "
      ]
     },
     "execution_count": 17,
     "metadata": {},
     "output_type": "execute_result"
    }
   ],
   "source": [
    "#2013 to #2015 dataset\n",
    "df2 = spotify_df[(spotify_df['Year'] >= 2013) & (spotify_df['Year'] <= 2015)]\n",
    "df2.head()"
   ]
  },
  {
   "cell_type": "code",
   "execution_count": 18,
   "metadata": {},
   "outputs": [
    {
     "data": {
      "text/html": [
       "<div>\n",
       "<style scoped>\n",
       "    .dataframe tbody tr th:only-of-type {\n",
       "        vertical-align: middle;\n",
       "    }\n",
       "\n",
       "    .dataframe tbody tr th {\n",
       "        vertical-align: top;\n",
       "    }\n",
       "\n",
       "    .dataframe thead th {\n",
       "        text-align: right;\n",
       "    }\n",
       "</style>\n",
       "<table border=\"1\" class=\"dataframe\">\n",
       "  <thead>\n",
       "    <tr style=\"text-align: right;\">\n",
       "      <th></th>\n",
       "      <th>Index</th>\n",
       "      <th>Title</th>\n",
       "      <th>Artist</th>\n",
       "      <th>Genre</th>\n",
       "      <th>Year</th>\n",
       "      <th>Tempo</th>\n",
       "      <th>Energy</th>\n",
       "      <th>Danceability</th>\n",
       "      <th>Loudness</th>\n",
       "      <th>Liveness</th>\n",
       "      <th>Valence</th>\n",
       "      <th>Length</th>\n",
       "      <th>Acousticness</th>\n",
       "      <th>Speechiness</th>\n",
       "      <th>Popularity</th>\n",
       "    </tr>\n",
       "  </thead>\n",
       "  <tbody>\n",
       "    <tr>\n",
       "      <th>363</th>\n",
       "      <td>364</td>\n",
       "      <td>The Hills</td>\n",
       "      <td>The Weeknd</td>\n",
       "      <td>canadian contemporary r&amp;b</td>\n",
       "      <td>2016</td>\n",
       "      <td>113</td>\n",
       "      <td>56</td>\n",
       "      <td>58</td>\n",
       "      <td>-7</td>\n",
       "      <td>14</td>\n",
       "      <td>14</td>\n",
       "      <td>242</td>\n",
       "      <td>7</td>\n",
       "      <td>5</td>\n",
       "      <td>84</td>\n",
       "    </tr>\n",
       "    <tr>\n",
       "      <th>364</th>\n",
       "      <td>365</td>\n",
       "      <td>Love Yourself</td>\n",
       "      <td>Justin Bieber</td>\n",
       "      <td>canadian pop</td>\n",
       "      <td>2016</td>\n",
       "      <td>100</td>\n",
       "      <td>38</td>\n",
       "      <td>61</td>\n",
       "      <td>-10</td>\n",
       "      <td>28</td>\n",
       "      <td>52</td>\n",
       "      <td>234</td>\n",
       "      <td>84</td>\n",
       "      <td>44</td>\n",
       "      <td>83</td>\n",
       "    </tr>\n",
       "    <tr>\n",
       "      <th>365</th>\n",
       "      <td>366</td>\n",
       "      <td>Cake By The Ocean</td>\n",
       "      <td>DNCE</td>\n",
       "      <td>dance pop</td>\n",
       "      <td>2016</td>\n",
       "      <td>119</td>\n",
       "      <td>75</td>\n",
       "      <td>77</td>\n",
       "      <td>-5</td>\n",
       "      <td>4</td>\n",
       "      <td>90</td>\n",
       "      <td>219</td>\n",
       "      <td>15</td>\n",
       "      <td>5</td>\n",
       "      <td>81</td>\n",
       "    </tr>\n",
       "    <tr>\n",
       "      <th>366</th>\n",
       "      <td>367</td>\n",
       "      <td>Don't Let Me Down</td>\n",
       "      <td>The Chainsmokers</td>\n",
       "      <td>electropop</td>\n",
       "      <td>2016</td>\n",
       "      <td>160</td>\n",
       "      <td>87</td>\n",
       "      <td>53</td>\n",
       "      <td>-5</td>\n",
       "      <td>14</td>\n",
       "      <td>42</td>\n",
       "      <td>208</td>\n",
       "      <td>16</td>\n",
       "      <td>17</td>\n",
       "      <td>81</td>\n",
       "    </tr>\n",
       "    <tr>\n",
       "      <th>367</th>\n",
       "      <td>368</td>\n",
       "      <td>In the Name of Love</td>\n",
       "      <td>Martin Garrix</td>\n",
       "      <td>big room</td>\n",
       "      <td>2016</td>\n",
       "      <td>134</td>\n",
       "      <td>52</td>\n",
       "      <td>50</td>\n",
       "      <td>-6</td>\n",
       "      <td>45</td>\n",
       "      <td>17</td>\n",
       "      <td>196</td>\n",
       "      <td>11</td>\n",
       "      <td>4</td>\n",
       "      <td>81</td>\n",
       "    </tr>\n",
       "  </tbody>\n",
       "</table>\n",
       "</div>"
      ],
      "text/plain": [
       "     Index                Title            Artist                      Genre  \\\n",
       "363    364            The Hills        The Weeknd  canadian contemporary r&b   \n",
       "364    365        Love Yourself     Justin Bieber               canadian pop   \n",
       "365    366    Cake By The Ocean              DNCE                  dance pop   \n",
       "366    367    Don't Let Me Down  The Chainsmokers                 electropop   \n",
       "367    368  In the Name of Love     Martin Garrix                   big room   \n",
       "\n",
       "     Year  Tempo  Energy  Danceability  Loudness  Liveness  Valence  Length  \\\n",
       "363  2016    113      56            58        -7        14       14     242   \n",
       "364  2016    100      38            61       -10        28       52     234   \n",
       "365  2016    119      75            77        -5         4       90     219   \n",
       "366  2016    160      87            53        -5        14       42     208   \n",
       "367  2016    134      52            50        -6        45       17     196   \n",
       "\n",
       "     Acousticness  Speechiness  Popularity  \n",
       "363             7            5          84  \n",
       "364            84           44          83  \n",
       "365            15            5          81  \n",
       "366            16           17          81  \n",
       "367            11            4          81  "
      ]
     },
     "execution_count": 18,
     "metadata": {},
     "output_type": "execute_result"
    }
   ],
   "source": [
    "#2016 to #2019 dataset\n",
    "df3 = spotify_df[(spotify_df['Year'] >= 2016) & (spotify_df['Year'] <= 2019)]\n",
    "df3.head()\n"
   ]
  },
  {
   "cell_type": "code",
   "execution_count": null,
   "metadata": {},
   "outputs": [],
   "source": [
    "#This is something from Pema\n",
    "pema_df = spotify_df[spotify_df['Artist'] == 'Katy Perry']\n",
    "artist_df2 = spotify_df[spotify_df['Artist'] == 'Justin Bieber']\n",
    "artist_df3 = spotify_df[spotify_df['Artist'] == 'Rihanna']\n",
    "artist_df4 = spotify_df[spotify_df['Artist'] == 'Maroon 5']\n",
    "artist_df5 = spotify_df[spotify_df['Artist'] == 'Lady Gaga']\n",
    "pema_df.head()"
   ]
  },
  {
   "cell_type": "code",
   "execution_count": null,
   "metadata": {},
   "outputs": [],
   "source": [
    "#pema_df['Genre'].value_counts()\n",
    "#artist_df2['Genre'].value_counts()\n",
    "#artist_df3['Genre'].value_counts()\n",
    "#artist_df4['Genre'].value_counts()\n",
    "#artist_df5['Genre'].value_counts()"
   ]
  },
  {
   "cell_type": "code",
   "execution_count": null,
   "metadata": {},
   "outputs": [],
   "source": []
  },
  {
   "cell_type": "code",
   "execution_count": null,
   "metadata": {},
   "outputs": [],
   "source": []
  },
  {
   "cell_type": "code",
   "execution_count": null,
   "metadata": {},
   "outputs": [],
   "source": []
  },
  {
   "cell_type": "code",
   "execution_count": 24,
   "metadata": {},
   "outputs": [
    {
     "data": {
      "text/html": [
       "<div>\n",
       "<style scoped>\n",
       "    .dataframe tbody tr th:only-of-type {\n",
       "        vertical-align: middle;\n",
       "    }\n",
       "\n",
       "    .dataframe tbody tr th {\n",
       "        vertical-align: top;\n",
       "    }\n",
       "\n",
       "    .dataframe thead th {\n",
       "        text-align: right;\n",
       "    }\n",
       "</style>\n",
       "<table border=\"1\" class=\"dataframe\">\n",
       "  <thead>\n",
       "    <tr style=\"text-align: right;\">\n",
       "      <th></th>\n",
       "      <th>Index</th>\n",
       "      <th>Year</th>\n",
       "      <th>Tempo</th>\n",
       "      <th>Energy</th>\n",
       "      <th>Danceability</th>\n",
       "      <th>Loudness</th>\n",
       "      <th>Liveness</th>\n",
       "      <th>Valence</th>\n",
       "      <th>Length</th>\n",
       "      <th>Acousticness</th>\n",
       "      <th>Speechiness</th>\n",
       "      <th>Popularity</th>\n",
       "    </tr>\n",
       "  </thead>\n",
       "  <tbody>\n",
       "    <tr>\n",
       "      <th>count</th>\n",
       "      <td>240.00000</td>\n",
       "      <td>240.000000</td>\n",
       "      <td>240.000000</td>\n",
       "      <td>240.000000</td>\n",
       "      <td>240.000000</td>\n",
       "      <td>240.000000</td>\n",
       "      <td>240.000000</td>\n",
       "      <td>240.000000</td>\n",
       "      <td>240.000000</td>\n",
       "      <td>240.000000</td>\n",
       "      <td>240.000000</td>\n",
       "      <td>240.000000</td>\n",
       "    </tr>\n",
       "    <tr>\n",
       "      <th>mean</th>\n",
       "      <td>483.50000</td>\n",
       "      <td>2017.191667</td>\n",
       "      <td>114.825000</td>\n",
       "      <td>66.966667</td>\n",
       "      <td>65.737500</td>\n",
       "      <td>-6.016667</td>\n",
       "      <td>15.966667</td>\n",
       "      <td>48.775000</td>\n",
       "      <td>217.412500</td>\n",
       "      <td>16.004167</td>\n",
       "      <td>8.787500</td>\n",
       "      <td>70.291667</td>\n",
       "    </tr>\n",
       "    <tr>\n",
       "      <th>std</th>\n",
       "      <td>69.42622</td>\n",
       "      <td>1.041369</td>\n",
       "      <td>24.054388</td>\n",
       "      <td>16.235935</td>\n",
       "      <td>13.535706</td>\n",
       "      <td>3.922862</td>\n",
       "      <td>11.816897</td>\n",
       "      <td>21.718227</td>\n",
       "      <td>31.477306</td>\n",
       "      <td>21.027278</td>\n",
       "      <td>7.462644</td>\n",
       "      <td>13.916304</td>\n",
       "    </tr>\n",
       "    <tr>\n",
       "      <th>min</th>\n",
       "      <td>364.00000</td>\n",
       "      <td>2016.000000</td>\n",
       "      <td>0.000000</td>\n",
       "      <td>0.000000</td>\n",
       "      <td>0.000000</td>\n",
       "      <td>-60.000000</td>\n",
       "      <td>0.000000</td>\n",
       "      <td>0.000000</td>\n",
       "      <td>148.000000</td>\n",
       "      <td>0.000000</td>\n",
       "      <td>0.000000</td>\n",
       "      <td>0.000000</td>\n",
       "    </tr>\n",
       "    <tr>\n",
       "      <th>25%</th>\n",
       "      <td>423.75000</td>\n",
       "      <td>2016.000000</td>\n",
       "      <td>100.000000</td>\n",
       "      <td>58.750000</td>\n",
       "      <td>58.750000</td>\n",
       "      <td>-7.000000</td>\n",
       "      <td>9.000000</td>\n",
       "      <td>32.000000</td>\n",
       "      <td>197.000000</td>\n",
       "      <td>2.750000</td>\n",
       "      <td>4.000000</td>\n",
       "      <td>64.000000</td>\n",
       "    </tr>\n",
       "    <tr>\n",
       "      <th>50%</th>\n",
       "      <td>483.50000</td>\n",
       "      <td>2017.000000</td>\n",
       "      <td>110.000000</td>\n",
       "      <td>70.000000</td>\n",
       "      <td>67.000000</td>\n",
       "      <td>-6.000000</td>\n",
       "      <td>11.500000</td>\n",
       "      <td>49.000000</td>\n",
       "      <td>214.000000</td>\n",
       "      <td>8.000000</td>\n",
       "      <td>6.000000</td>\n",
       "      <td>72.000000</td>\n",
       "    </tr>\n",
       "    <tr>\n",
       "      <th>75%</th>\n",
       "      <td>543.25000</td>\n",
       "      <td>2018.000000</td>\n",
       "      <td>125.000000</td>\n",
       "      <td>80.000000</td>\n",
       "      <td>75.000000</td>\n",
       "      <td>-5.000000</td>\n",
       "      <td>19.000000</td>\n",
       "      <td>64.250000</td>\n",
       "      <td>232.000000</td>\n",
       "      <td>19.250000</td>\n",
       "      <td>10.250000</td>\n",
       "      <td>80.000000</td>\n",
       "    </tr>\n",
       "    <tr>\n",
       "      <th>max</th>\n",
       "      <td>603.00000</td>\n",
       "      <td>2019.000000</td>\n",
       "      <td>192.000000</td>\n",
       "      <td>95.000000</td>\n",
       "      <td>97.000000</td>\n",
       "      <td>-2.000000</td>\n",
       "      <td>74.000000</td>\n",
       "      <td>97.000000</td>\n",
       "      <td>403.000000</td>\n",
       "      <td>99.000000</td>\n",
       "      <td>44.000000</td>\n",
       "      <td>99.000000</td>\n",
       "    </tr>\n",
       "  </tbody>\n",
       "</table>\n",
       "</div>"
      ],
      "text/plain": [
       "           Index         Year       Tempo      Energy  Danceability  \\\n",
       "count  240.00000   240.000000  240.000000  240.000000    240.000000   \n",
       "mean   483.50000  2017.191667  114.825000   66.966667     65.737500   \n",
       "std     69.42622     1.041369   24.054388   16.235935     13.535706   \n",
       "min    364.00000  2016.000000    0.000000    0.000000      0.000000   \n",
       "25%    423.75000  2016.000000  100.000000   58.750000     58.750000   \n",
       "50%    483.50000  2017.000000  110.000000   70.000000     67.000000   \n",
       "75%    543.25000  2018.000000  125.000000   80.000000     75.000000   \n",
       "max    603.00000  2019.000000  192.000000   95.000000     97.000000   \n",
       "\n",
       "         Loudness    Liveness     Valence      Length  Acousticness  \\\n",
       "count  240.000000  240.000000  240.000000  240.000000    240.000000   \n",
       "mean    -6.016667   15.966667   48.775000  217.412500     16.004167   \n",
       "std      3.922862   11.816897   21.718227   31.477306     21.027278   \n",
       "min    -60.000000    0.000000    0.000000  148.000000      0.000000   \n",
       "25%     -7.000000    9.000000   32.000000  197.000000      2.750000   \n",
       "50%     -6.000000   11.500000   49.000000  214.000000      8.000000   \n",
       "75%     -5.000000   19.000000   64.250000  232.000000     19.250000   \n",
       "max     -2.000000   74.000000   97.000000  403.000000     99.000000   \n",
       "\n",
       "       Speechiness  Popularity  \n",
       "count   240.000000  240.000000  \n",
       "mean      8.787500   70.291667  \n",
       "std       7.462644   13.916304  \n",
       "min       0.000000    0.000000  \n",
       "25%       4.000000   64.000000  \n",
       "50%       6.000000   72.000000  \n",
       "75%      10.250000   80.000000  \n",
       "max      44.000000   99.000000  "
      ]
     },
     "execution_count": 24,
     "metadata": {},
     "output_type": "execute_result"
    }
   ],
   "source": [
    "# Get Describe Values\n",
    "d1 = df1.describe()\n",
    "d2 = df2.describe()\n",
    "d3 = df3.describe()\n",
    "d3"
   ]
  },
  {
   "cell_type": "code",
   "execution_count": 63,
   "metadata": {},
   "outputs": [
    {
     "data": {
      "text/plain": [
       "<Figure size 1080x648 with 0 Axes>"
      ]
     },
     "metadata": {},
     "output_type": "display_data"
    },
    {
     "data": {
      "image/png": "[encoded data removed]",
      "text/plain": [
       "<Figure size 1080x648 with 1 Axes>"
      ]
     },
     "metadata": {},
     "output_type": "display_data"
    }
   ],
   "source": [
    "sns.set()\n",
    "\n",
    "#Set width and height of graph\n",
    "plt.figure(figsize=(15,9))\n",
    "\n",
    "\n",
    "#Group bar plots\n",
    "averages = pd.concat([d1.iloc[1,2:12].rename('2010 to 2012'),\n",
    "                      d2.iloc[1,2:12].rename('2013 to 2015'),\n",
    "                      d3.iloc[1,2:12].rename('2016 to 2019')], axis =1).plot(kind='bar',\n",
    "                                                                       width =0.75,\n",
    "                                                                       fontsize = 14,\n",
    "                                                                \n",
    "                                                                       color = ['limegreen','grey','black'])\n",
    "\n",
    "#Set graph title and labels\n",
    "averages.set_title('Mean Value of Audio Features', fontsize=22)\n",
    "averages.set_xlabel('Audio Feature', fontsize=22)\n",
    "averages.set_ylabel('Mean Value', fontsize=22)\n",
    "\n",
    "plt.show()"
   ]
  },
  {
   "cell_type": "code",
   "execution_count": null,
   "metadata": {},
   "outputs": [],
   "source": [
    "#Determine which measure of central tendency is most appropriate to describe GENRE popularity"
   ]
  },
  {
   "cell_type": "code",
   "execution_count": null,
   "metadata": {},
   "outputs": [],
   "source": [
    "#group_by_genre = spotify_df.loc[spotify_df['Genre'] == 'pop']\n",
    "#group_by_genre\n",
    "#print(\"Genre Popularity Mean: \", spotify_df['Genre']spotify_df['Popularity'].mean())\n",
    "#print(\"Genre Popularity Median: \", california_data[\"Population\"].median())\n",
    "#print(\"Genre Popularity Mode: \", california_data[\"Population\"].mode())"
   ]
  },
  {
   "cell_type": "code",
   "execution_count": 81,
   "metadata": {},
   "outputs": [
    {
     "name": "stdout",
     "output_type": "stream",
     "text": [
      "Popularity Mean:  66.52072968490879\n",
      "Popularity Median:  69.0\n",
      "Popularity Mode:  0    72\n",
      "dtype: int64\n"
     ]
    },
    {
     "data": {
      "application/vnd.plotly.v1+json": {
       "config": {
        "plotlyServerURL": "https://plot.ly"
       },
       "data": [
        {
         "alignmentgroup": "True",
         "bingroup": "x",
         "hovertemplate": "variable=Popularity<br>value=%{x}<br>count=%{y}<extra></extra>",
         "legendgroup": "Popularity",
         "marker": {
          "color": "limegreen"
         },
         "name": "Popularity",
         "offsetgroup": "Popularity",
         "orientation": "v",
         "showlegend": true,
         "type": "histogram",
         "x": [
          83,
          82,
          80,
          79,
          78,
          77,
          77,
          77,
          76,
          73,
          73,
          73,
          73,
          73,
          72,
          72,
          71,
          70,
          69,
          69,
          68,
          66,
          66,
          65,
          65,
          65,
          64,
          63,
          63,
          62,
          62,
          62,
          62,
          62,
          62,
          61,
          61,
          59,
          59,
          58,
          58,
          57,
          57,
          56,
          56,
          55,
          52,
          52,
          49,
          33,
          0,
          81,
          80,
          79,
          78,
          76,
          76,
          76,
          76,
          75,
          75,
          74,
          73,
          73,
          73,
          73,
          72,
          72,
          72,
          72,
          71,
          69,
          69,
          69,
          68,
          67,
          67,
          66,
          65,
          64,
          64,
          64,
          63,
          63,
          63,
          61,
          61,
          60,
          59,
          59,
          58,
          58,
          54,
          52,
          50,
          49,
          46,
          38,
          38,
          31,
          28,
          27,
          25,
          7,
          80,
          79,
          79,
          79,
          78,
          77,
          76,
          76,
          76,
          75,
          74,
          74,
          73,
          73,
          73,
          72,
          72,
          72,
          72,
          71,
          71,
          69,
          68,
          68,
          67,
          66,
          65,
          65,
          63,
          61,
          59,
          57,
          54,
          38,
          0,
          88,
          85,
          81,
          81,
          80,
          78,
          78,
          78,
          77,
          77,
          77,
          76,
          76,
          75,
          75,
          75,
          74,
          74,
          74,
          73,
          73,
          73,
          72,
          72,
          71,
          71,
          70,
          70,
          70,
          70,
          69,
          69,
          68,
          68,
          68,
          67,
          67,
          66,
          65,
          65,
          63,
          62,
          61,
          61,
          60,
          60,
          60,
          60,
          59,
          58,
          57,
          57,
          56,
          55,
          54,
          54,
          52,
          52,
          52,
          52,
          51,
          50,
          46,
          45,
          45,
          43,
          42,
          41,
          36,
          35,
          28,
          86,
          85,
          80,
          79,
          79,
          78,
          78,
          78,
          78,
          77,
          77,
          75,
          73,
          73,
          73,
          72,
          72,
          71,
          71,
          71,
          70,
          68,
          68,
          68,
          67,
          67,
          66,
          66,
          65,
          65,
          65,
          65,
          65,
          65,
          64,
          63,
          62,
          62,
          61,
          61,
          60,
          59,
          56,
          56,
          56,
          56,
          52,
          50,
          50,
          50,
          49,
          44,
          38,
          37,
          37,
          30,
          28,
          0,
          84,
          84,
          84,
          83,
          82,
          81,
          81,
          81,
          80,
          79,
          79,
          79,
          78,
          77,
          77,
          77,
          77,
          77,
          77,
          76,
          76,
          76,
          75,
          75,
          74,
          73,
          73,
          73,
          72,
          72,
          72,
          72,
          72,
          72,
          71,
          70,
          70,
          70,
          69,
          69,
          69,
          69,
          69,
          69,
          68,
          68,
          68,
          68,
          67,
          67,
          67,
          67,
          66,
          66,
          66,
          66,
          65,
          65,
          65,
          65,
          64,
          64,
          63,
          62,
          61,
          61,
          61,
          61,
          60,
          60,
          58,
          56,
          56,
          55,
          55,
          54,
          54,
          52,
          52,
          52,
          52,
          51,
          50,
          49,
          47,
          46,
          45,
          44,
          42,
          41,
          39,
          36,
          34,
          18,
          0,
          84,
          83,
          81,
          81,
          81,
          80,
          80,
          80,
          80,
          80,
          79,
          79,
          79,
          79,
          78,
          78,
          78,
          78,
          78,
          78,
          77,
          76,
          75,
          74,
          74,
          73,
          73,
          73,
          72,
          72,
          72,
          72,
          72,
          72,
          71,
          71,
          71,
          70,
          70,
          69,
          69,
          68,
          67,
          66,
          66,
          66,
          66,
          65,
          65,
          65,
          64,
          64,
          63,
          63,
          61,
          58,
          58,
          58,
          57,
          57,
          57,
          54,
          53,
          52,
          51,
          50,
          50,
          48,
          47,
          47,
          46,
          44,
          41,
          36,
          36,
          34,
          31,
          29,
          18,
          0,
          87,
          86,
          85,
          84,
          83,
          82,
          81,
          81,
          80,
          80,
          79,
          78,
          78,
          78,
          78,
          78,
          77,
          77,
          76,
          76,
          76,
          76,
          75,
          75,
          75,
          73,
          72,
          72,
          72,
          71,
          71,
          71,
          71,
          71,
          70,
          70,
          70,
          70,
          69,
          69,
          69,
          69,
          68,
          67,
          66,
          66,
          64,
          62,
          62,
          59,
          59,
          59,
          59,
          59,
          57,
          55,
          54,
          54,
          54,
          53,
          51,
          49,
          44,
          43,
          41,
          86,
          85,
          85,
          84,
          84,
          84,
          84,
          83,
          83,
          83,
          83,
          82,
          82,
          82,
          82,
          81,
          80,
          80,
          79,
          78,
          78,
          78,
          78,
          77,
          76,
          76,
          76,
          76,
          76,
          75,
          75,
          75,
          74,
          74,
          73,
          72,
          72,
          72,
          72,
          71,
          71,
          70,
          68,
          68,
          67,
          67,
          67,
          67,
          66,
          66,
          65,
          65,
          64,
          64,
          64,
          64,
          62,
          57,
          57,
          57,
          53,
          52,
          45,
          44,
          99,
          97,
          96,
          95,
          93,
          92,
          92,
          90,
          90,
          90,
          88,
          87,
          86,
          86,
          86,
          85,
          84,
          84,
          83,
          82,
          81,
          81,
          81,
          78,
          77,
          76,
          75,
          75,
          70,
          69,
          67
         ],
         "xaxis": "x",
         "yaxis": "y"
        }
       ],
       "layout": {
        "barmode": "relative",
        "legend": {
         "title": {
          "text": "variable"
         },
         "tracegroupgap": 0
        },
        "margin": {
         "t": 60
        },
        "template": {
         "data": {
          "bar": [
           {
            "error_x": {
             "color": "#2a3f5f"
            },
            "error_y": {
             "color": "#2a3f5f"
            },
            "marker": {
             "line": {
              "color": "#E5ECF6",
              "width": 0.5
             }
            },
            "type": "bar"
           }
          ],
          "barpolar": [
           {
            "marker": {
             "line": {
              "color": "#E5ECF6",
              "width": 0.5
             }
            },
            "type": "barpolar"
           }
          ],
          "carpet": [
           {
            "aaxis": {
             "endlinecolor": "#2a3f5f",
             "gridcolor": "white",
             "linecolor": "white",
             "minorgridcolor": "white",
             "startlinecolor": "#2a3f5f"
            },
            "baxis": {
             "endlinecolor": "#2a3f5f",
             "gridcolor": "white",
             "linecolor": "white",
             "minorgridcolor": "white",
             "startlinecolor": "#2a3f5f"
            },
            "type": "carpet"
           }
          ],
          "choropleth": [
           {
            "colorbar": {
             "outlinewidth": 0,
             "ticks": ""
            },
            "type": "choropleth"
           }
          ],
          "contour": [
           {
            "colorbar": {
             "outlinewidth": 0,
             "ticks": ""
            },
            "colorscale": [
             [
              0,
              "#0d0887"
             ],
             [
              0.1111111111111111,
              "#46039f"
             ],
             [
              0.2222222222222222,
              "#7201a8"
             ],
             [
              0.3333333333333333,
              "#9c179e"
             ],
             [
              0.4444444444444444,
              "#bd3786"
             ],
             [
              0.5555555555555556,
              "#d8576b"
             ],
             [
              0.6666666666666666,
              "#ed7953"
             ],
             [
              0.7777777777777778,
              "#fb9f3a"
             ],
             [
              0.8888888888888888,
              "#fdca26"
             ],
             [
              1,
              "#f0f921"
             ]
            ],
            "type": "contour"
           }
          ],
          "contourcarpet": [
           {
            "colorbar": {
             "outlinewidth": 0,
             "ticks": ""
            },
            "type": "contourcarpet"
           }
          ],
          "heatmap": [
           {
            "colorbar": {
             "outlinewidth": 0,
             "ticks": ""
            },
            "colorscale": [
             [
              0,
              "#0d0887"
             ],
             [
              0.1111111111111111,
              "#46039f"
             ],
             [
              0.2222222222222222,
              "#7201a8"
             ],
             [
              0.3333333333333333,
              "#9c179e"
             ],
             [
              0.4444444444444444,
              "#bd3786"
             ],
             [
              0.5555555555555556,
              "#d8576b"
             ],
             [
              0.6666666666666666,
              "#ed7953"
             ],
             [
              0.7777777777777778,
              "#fb9f3a"
             ],
             [
              0.8888888888888888,
              "#fdca26"
             ],
             [
              1,
              "#f0f921"
             ]
            ],
            "type": "heatmap"
           }
          ],
          "heatmapgl": [
           {
            "colorbar": {
             "outlinewidth": 0,
             "ticks": ""
            },
            "colorscale": [
             [
              0,
              "#0d0887"
             ],
             [
              0.1111111111111111,
              "#46039f"
             ],
             [
              0.2222222222222222,
              "#7201a8"
             ],
             [
              0.3333333333333333,
              "#9c179e"
             ],
             [
              0.4444444444444444,
              "#bd3786"
             ],
             [
              0.5555555555555556,
              "#d8576b"
             ],
             [
              0.6666666666666666,
              "#ed7953"
             ],
             [
              0.7777777777777778,
              "#fb9f3a"
             ],
             [
              0.8888888888888888,
              "#fdca26"
             ],
             [
              1,
              "#f0f921"
             ]
            ],
            "type": "heatmapgl"
           }
          ],
          "histogram": [
           {
            "marker": {
             "colorbar": {
              "outlinewidth": 0,
              "ticks": ""
             }
            },
            "type": "histogram"
           }
          ],
          "histogram2d": [
           {
            "colorbar": {
             "outlinewidth": 0,
             "ticks": ""
            },
            "colorscale": [
             [
              0,
              "#0d0887"
             ],
             [
              0.1111111111111111,
              "#46039f"
             ],
             [
              0.2222222222222222,
              "#7201a8"
             ],
             [
              0.3333333333333333,
              "#9c179e"
             ],
             [
              0.4444444444444444,
              "#bd3786"
             ],
             [
              0.5555555555555556,
              "#d8576b"
             ],
             [
              0.6666666666666666,
              "#ed7953"
             ],
             [
              0.7777777777777778,
              "#fb9f3a"
             ],
             [
              0.8888888888888888,
              "#fdca26"
             ],
             [
              1,
              "#f0f921"
             ]
            ],
            "type": "histogram2d"
           }
          ],
          "histogram2dcontour": [
           {
            "colorbar": {
             "outlinewidth": 0,
             "ticks": ""
            },
            "colorscale": [
             [
              0,
              "#0d0887"
             ],
             [
              0.1111111111111111,
              "#46039f"
             ],
             [
              0.2222222222222222,
              "#7201a8"
             ],
             [
              0.3333333333333333,
              "#9c179e"
             ],
             [
              0.4444444444444444,
              "#bd3786"
             ],
             [
              0.5555555555555556,
              "#d8576b"
             ],
             [
              0.6666666666666666,
              "#ed7953"
             ],
             [
              0.7777777777777778,
              "#fb9f3a"
             ],
             [
              0.8888888888888888,
              "#fdca26"
             ],
             [
              1,
              "#f0f921"
             ]
            ],
            "type": "histogram2dcontour"
           }
          ],
          "mesh3d": [
           {
            "colorbar": {
             "outlinewidth": 0,
             "ticks": ""
            },
            "type": "mesh3d"
           }
          ],
          "parcoords": [
           {
            "line": {
             "colorbar": {
              "outlinewidth": 0,
              "ticks": ""
             }
            },
            "type": "parcoords"
           }
          ],
          "pie": [
           {
            "automargin": true,
            "type": "pie"
           }
          ],
          "scatter": [
           {
            "marker": {
             "colorbar": {
              "outlinewidth": 0,
              "ticks": ""
             }
            },
            "type": "scatter"
           }
          ],
          "scatter3d": [
           {
            "line": {
             "colorbar": {
              "outlinewidth": 0,
              "ticks": ""
             }
            },
            "marker": {
             "colorbar": {
              "outlinewidth": 0,
              "ticks": ""
             }
            },
            "type": "scatter3d"
           }
          ],
          "scattercarpet": [
           {
            "marker": {
             "colorbar": {
              "outlinewidth": 0,
              "ticks": ""
             }
            },
            "type": "scattercarpet"
           }
          ],
          "scattergeo": [
           {
            "marker": {
             "colorbar": {
              "outlinewidth": 0,
              "ticks": ""
             }
            },
            "type": "scattergeo"
           }
          ],
          "scattergl": [
           {
            "marker": {
             "colorbar": {
              "outlinewidth": 0,
              "ticks": ""
             }
            },
            "type": "scattergl"
           }
          ],
          "scattermapbox": [
           {
            "marker": {
             "colorbar": {
              "outlinewidth": 0,
              "ticks": ""
             }
            },
            "type": "scattermapbox"
           }
          ],
          "scatterpolar": [
           {
            "marker": {
             "colorbar": {
              "outlinewidth": 0,
              "ticks": ""
             }
            },
            "type": "scatterpolar"
           }
          ],
          "scatterpolargl": [
           {
            "marker": {
             "colorbar": {
              "outlinewidth": 0,
              "ticks": ""
             }
            },
            "type": "scatterpolargl"
           }
          ],
          "scatterternary": [
           {
            "marker": {
             "colorbar": {
              "outlinewidth": 0,
              "ticks": ""
             }
            },
            "type": "scatterternary"
           }
          ],
          "surface": [
           {
            "colorbar": {
             "outlinewidth": 0,
             "ticks": ""
            },
            "colorscale": [
             [
              0,
              "#0d0887"
             ],
             [
              0.1111111111111111,
              "#46039f"
             ],
             [
              0.2222222222222222,
              "#7201a8"
             ],
             [
              0.3333333333333333,
              "#9c179e"
             ],
             [
              0.4444444444444444,
              "#bd3786"
             ],
             [
              0.5555555555555556,
              "#d8576b"
             ],
             [
              0.6666666666666666,
              "#ed7953"
             ],
             [
              0.7777777777777778,
              "#fb9f3a"
             ],
             [
              0.8888888888888888,
              "#fdca26"
             ],
             [
              1,
              "#f0f921"
             ]
            ],
            "type": "surface"
           }
          ],
          "table": [
           {
            "cells": {
             "fill": {
              "color": "#EBF0F8"
             },
             "line": {
              "color": "white"
             }
            },
            "header": {
             "fill": {
              "color": "#C8D4E3"
             },
             "line": {
              "color": "white"
             }
            },
            "type": "table"
           }
          ]
         },
         "layout": {
          "annotationdefaults": {
           "arrowcolor": "#2a3f5f",
           "arrowhead": 0,
           "arrowwidth": 1
          },
          "autotypenumbers": "strict",
          "coloraxis": {
           "colorbar": {
            "outlinewidth": 0,
            "ticks": ""
           }
          },
          "colorscale": {
           "diverging": [
            [
             0,
             "#8e0152"
            ],
            [
             0.1,
             "#c51b7d"
            ],
            [
             0.2,
             "#de77ae"
            ],
            [
             0.3,
             "#f1b6da"
            ],
            [
             0.4,
             "#fde0ef"
            ],
            [
             0.5,
             "#f7f7f7"
            ],
            [
             0.6,
             "#e6f5d0"
            ],
            [
             0.7,
             "#b8e186"
            ],
            [
             0.8,
             "#7fbc41"
            ],
            [
             0.9,
             "#4d9221"
            ],
            [
             1,
             "#276419"
            ]
           ],
           "sequential": [
            [
             0,
             "#0d0887"
            ],
            [
             0.1111111111111111,
             "#46039f"
            ],
            [
             0.2222222222222222,
             "#7201a8"
            ],
            [
             0.3333333333333333,
             "#9c179e"
            ],
            [
             0.4444444444444444,
             "#bd3786"
            ],
            [
             0.5555555555555556,
             "#d8576b"
            ],
            [
             0.6666666666666666,
             "#ed7953"
            ],
            [
             0.7777777777777778,
             "#fb9f3a"
            ],
            [
             0.8888888888888888,
             "#fdca26"
            ],
            [
             1,
             "#f0f921"
            ]
           ],
           "sequentialminus": [
            [
             0,
             "#0d0887"
            ],
            [
             0.1111111111111111,
             "#46039f"
            ],
            [
             0.2222222222222222,
             "#7201a8"
            ],
            [
             0.3333333333333333,
             "#9c179e"
            ],
            [
             0.4444444444444444,
             "#bd3786"
            ],
            [
             0.5555555555555556,
             "#d8576b"
            ],
            [
             0.6666666666666666,
             "#ed7953"
            ],
            [
             0.7777777777777778,
             "#fb9f3a"
            ],
            [
             0.8888888888888888,
             "#fdca26"
            ],
            [
             1,
             "#f0f921"
            ]
           ]
          },
          "colorway": [
           "#636efa",
           "#EF553B",
           "#00cc96",
           "#ab63fa",
           "#FFA15A",
           "#19d3f3",
           "#FF6692",
           "#B6E880",
           "#FF97FF",
           "#FECB52"
          ],
          "font": {
           "color": "#2a3f5f"
          },
          "geo": {
           "bgcolor": "white",
           "lakecolor": "white",
           "landcolor": "#E5ECF6",
           "showlakes": true,
           "showland": true,
           "subunitcolor": "white"
          },
          "hoverlabel": {
           "align": "left"
          },
          "hovermode": "closest",
          "mapbox": {
           "style": "light"
          },
          "paper_bgcolor": "white",
          "plot_bgcolor": "#E5ECF6",
          "polar": {
           "angularaxis": {
            "gridcolor": "white",
            "linecolor": "white",
            "ticks": ""
           },
           "bgcolor": "#E5ECF6",
           "radialaxis": {
            "gridcolor": "white",
            "linecolor": "white",
            "ticks": ""
           }
          },
          "scene": {
           "xaxis": {
            "backgroundcolor": "#E5ECF6",
            "gridcolor": "white",
            "gridwidth": 2,
            "linecolor": "white",
            "showbackground": true,
            "ticks": "",
            "zerolinecolor": "white"
           },
           "yaxis": {
            "backgroundcolor": "#E5ECF6",
            "gridcolor": "white",
            "gridwidth": 2,
            "linecolor": "white",
            "showbackground": true,
            "ticks": "",
            "zerolinecolor": "white"
           },
           "zaxis": {
            "backgroundcolor": "#E5ECF6",
            "gridcolor": "white",
            "gridwidth": 2,
            "linecolor": "white",
            "showbackground": true,
            "ticks": "",
            "zerolinecolor": "white"
           }
          },
          "shapedefaults": {
           "line": {
            "color": "#2a3f5f"
           }
          },
          "ternary": {
           "aaxis": {
            "gridcolor": "white",
            "linecolor": "white",
            "ticks": ""
           },
           "baxis": {
            "gridcolor": "white",
            "linecolor": "white",
            "ticks": ""
           },
           "bgcolor": "#E5ECF6",
           "caxis": {
            "gridcolor": "white",
            "linecolor": "white",
            "ticks": ""
           }
          },
          "title": {
           "x": 0.05
          },
          "xaxis": {
           "automargin": true,
           "gridcolor": "white",
           "linecolor": "white",
           "ticks": "",
           "title": {
            "standoff": 15
           },
           "zerolinecolor": "white",
           "zerolinewidth": 2
          },
          "yaxis": {
           "automargin": true,
           "gridcolor": "white",
           "linecolor": "white",
           "ticks": "",
           "title": {
            "standoff": 15
           },
           "zerolinecolor": "white",
           "zerolinewidth": 2
          }
         }
        },
        "xaxis": {
         "anchor": "y",
         "domain": [
          0,
          1
         ],
         "title": {
          "text": "Popularity"
         }
        },
        "yaxis": {
         "anchor": "x",
         "domain": [
          0,
          1
         ],
         "title": {
          "text": "Counts"
         }
        }
       }
      },
      "text/html": [
       "<div>                            <div id=\"79074a61-abe5-4982-a693-b8e2154627e9\" class=\"plotly-graph-div\" style=\"height:525px; width:100%;\"></div>            <script type=\"text/javascript\">                require([\"plotly\"], function(Plotly) {                    window.PLOTLYENV=window.PLOTLYENV || {};                                    if (document.getElementById(\"79074a61-abe5-4982-a693-b8e2154627e9\")) {                    Plotly.newPlot(                        \"79074a61-abe5-4982-a693-b8e2154627e9\",                        [{\"alignmentgroup\": \"True\", \"bingroup\": \"x\", \"hovertemplate\": \"variable=Popularity<br>value=%{x}<br>count=%{y}<extra></extra>\", \"legendgroup\": \"Popularity\", \"marker\": {\"color\": \"limegreen\"}, \"name\": \"Popularity\", \"offsetgroup\": \"Popularity\", \"orientation\": \"v\", \"showlegend\": true, \"type\": \"histogram\", \"x\": [83, 82, 80, 79, 78, 77, 77, 77, 76, 73, 73, 73, 73, 73, 72, 72, 71, 70, 69, 69, 68, 66, 66, 65, 65, 65, 64, 63, 63, 62, 62, 62, 62, 62, 62, 61, 61, 59, 59, 58, 58, 57, 57, 56, 56, 55, 52, 52, 49, 33, 0, 81, 80, 79, 78, 76, 76, 76, 76, 75, 75, 74, 73, 73, 73, 73, 72, 72, 72, 72, 71, 69, 69, 69, 68, 67, 67, 66, 65, 64, 64, 64, 63, 63, 63, 61, 61, 60, 59, 59, 58, 58, 54, 52, 50, 49, 46, 38, 38, 31, 28, 27, 25, 7, 80, 79, 79, 79, 78, 77, 76, 76, 76, 75, 74, 74, 73, 73, 73, 72, 72, 72, 72, 71, 71, 69, 68, 68, 67, 66, 65, 65, 63, 61, 59, 57, 54, 38, 0, 88, 85, 81, 81, 80, 78, 78, 78, 77, 77, 77, 76, 76, 75, 75, 75, 74, 74, 74, 73, 73, 73, 72, 72, 71, 71, 70, 70, 70, 70, 69, 69, 68, 68, 68, 67, 67, 66, 65, 65, 63, 62, 61, 61, 60, 60, 60, 60, 59, 58, 57, 57, 56, 55, 54, 54, 52, 52, 52, 52, 51, 50, 46, 45, 45, 43, 42, 41, 36, 35, 28, 86, 85, 80, 79, 79, 78, 78, 78, 78, 77, 77, 75, 73, 73, 73, 72, 72, 71, 71, 71, 70, 68, 68, 68, 67, 67, 66, 66, 65, 65, 65, 65, 65, 65, 64, 63, 62, 62, 61, 61, 60, 59, 56, 56, 56, 56, 52, 50, 50, 50, 49, 44, 38, 37, 37, 30, 28, 0, 84, 84, 84, 83, 82, 81, 81, 81, 80, 79, 79, 79, 78, 77, 77, 77, 77, 77, 77, 76, 76, 76, 75, 75, 74, 73, 73, 73, 72, 72, 72, 72, 72, 72, 71, 70, 70, 70, 69, 69, 69, 69, 69, 69, 68, 68, 68, 68, 67, 67, 67, 67, 66, 66, 66, 66, 65, 65, 65, 65, 64, 64, 63, 62, 61, 61, 61, 61, 60, 60, 58, 56, 56, 55, 55, 54, 54, 52, 52, 52, 52, 51, 50, 49, 47, 46, 45, 44, 42, 41, 39, 36, 34, 18, 0, 84, 83, 81, 81, 81, 80, 80, 80, 80, 80, 79, 79, 79, 79, 78, 78, 78, 78, 78, 78, 77, 76, 75, 74, 74, 73, 73, 73, 72, 72, 72, 72, 72, 72, 71, 71, 71, 70, 70, 69, 69, 68, 67, 66, 66, 66, 66, 65, 65, 65, 64, 64, 63, 63, 61, 58, 58, 58, 57, 57, 57, 54, 53, 52, 51, 50, 50, 48, 47, 47, 46, 44, 41, 36, 36, 34, 31, 29, 18, 0, 87, 86, 85, 84, 83, 82, 81, 81, 80, 80, 79, 78, 78, 78, 78, 78, 77, 77, 76, 76, 76, 76, 75, 75, 75, 73, 72, 72, 72, 71, 71, 71, 71, 71, 70, 70, 70, 70, 69, 69, 69, 69, 68, 67, 66, 66, 64, 62, 62, 59, 59, 59, 59, 59, 57, 55, 54, 54, 54, 53, 51, 49, 44, 43, 41, 86, 85, 85, 84, 84, 84, 84, 83, 83, 83, 83, 82, 82, 82, 82, 81, 80, 80, 79, 78, 78, 78, 78, 77, 76, 76, 76, 76, 76, 75, 75, 75, 74, 74, 73, 72, 72, 72, 72, 71, 71, 70, 68, 68, 67, 67, 67, 67, 66, 66, 65, 65, 64, 64, 64, 64, 62, 57, 57, 57, 53, 52, 45, 44, 99, 97, 96, 95, 93, 92, 92, 90, 90, 90, 88, 87, 86, 86, 86, 85, 84, 84, 83, 82, 81, 81, 81, 78, 77, 76, 75, 75, 70, 69, 67], \"xaxis\": \"x\", \"yaxis\": \"y\"}],                        {\"barmode\": \"relative\", \"legend\": {\"title\": {\"text\": \"variable\"}, \"tracegroupgap\": 0}, \"margin\": {\"t\": 60}, \"template\": {\"data\": {\"bar\": [{\"error_x\": {\"color\": \"#2a3f5f\"}, \"error_y\": {\"color\": \"#2a3f5f\"}, \"marker\": {\"line\": {\"color\": \"#E5ECF6\", \"width\": 0.5}}, \"type\": \"bar\"}], \"barpolar\": [{\"marker\": {\"line\": {\"color\": \"#E5ECF6\", \"width\": 0.5}}, \"type\": \"barpolar\"}], \"carpet\": [{\"aaxis\": {\"endlinecolor\": \"#2a3f5f\", \"gridcolor\": \"white\", \"linecolor\": \"white\", \"minorgridcolor\": \"white\", \"startlinecolor\": \"#2a3f5f\"}, \"baxis\": {\"endlinecolor\": \"#2a3f5f\", \"gridcolor\": \"white\", \"linecolor\": \"white\", \"minorgridcolor\": \"white\", \"startlinecolor\": \"#2a3f5f\"}, \"type\": \"carpet\"}], \"choropleth\": [{\"colorbar\": {\"outlinewidth\": 0, \"ticks\": \"\"}, \"type\": \"choropleth\"}], \"contour\": [{\"colorbar\": {\"outlinewidth\": 0, \"ticks\": \"\"}, \"colorscale\": [[0.0, \"#0d0887\"], [0.1111111111111111, \"#46039f\"], [0.2222222222222222, \"#7201a8\"], [0.3333333333333333, \"#9c179e\"], [0.4444444444444444, \"#bd3786\"], [0.5555555555555556, \"#d8576b\"], [0.6666666666666666, \"#ed7953\"], [0.7777777777777778, \"#fb9f3a\"], [0.8888888888888888, \"#fdca26\"], [1.0, \"#f0f921\"]], \"type\": \"contour\"}], \"contourcarpet\": [{\"colorbar\": {\"outlinewidth\": 0, \"ticks\": \"\"}, \"type\": \"contourcarpet\"}], \"heatmap\": [{\"colorbar\": {\"outlinewidth\": 0, \"ticks\": \"\"}, \"colorscale\": [[0.0, \"#0d0887\"], [0.1111111111111111, \"#46039f\"], [0.2222222222222222, \"#7201a8\"], [0.3333333333333333, \"#9c179e\"], [0.4444444444444444, \"#bd3786\"], [0.5555555555555556, \"#d8576b\"], [0.6666666666666666, \"#ed7953\"], [0.7777777777777778, \"#fb9f3a\"], [0.8888888888888888, \"#fdca26\"], [1.0, \"#f0f921\"]], \"type\": \"heatmap\"}], \"heatmapgl\": [{\"colorbar\": {\"outlinewidth\": 0, \"ticks\": \"\"}, \"colorscale\": [[0.0, \"#0d0887\"], [0.1111111111111111, \"#46039f\"], [0.2222222222222222, \"#7201a8\"], [0.3333333333333333, \"#9c179e\"], [0.4444444444444444, \"#bd3786\"], [0.5555555555555556, \"#d8576b\"], [0.6666666666666666, \"#ed7953\"], [0.7777777777777778, \"#fb9f3a\"], [0.8888888888888888, \"#fdca26\"], [1.0, \"#f0f921\"]], \"type\": \"heatmapgl\"}], \"histogram\": [{\"marker\": {\"colorbar\": {\"outlinewidth\": 0, \"ticks\": \"\"}}, \"type\": \"histogram\"}], \"histogram2d\": [{\"colorbar\": {\"outlinewidth\": 0, \"ticks\": \"\"}, \"colorscale\": [[0.0, \"#0d0887\"], [0.1111111111111111, \"#46039f\"], [0.2222222222222222, \"#7201a8\"], [0.3333333333333333, \"#9c179e\"], [0.4444444444444444, \"#bd3786\"], [0.5555555555555556, \"#d8576b\"], [0.6666666666666666, \"#ed7953\"], [0.7777777777777778, \"#fb9f3a\"], [0.8888888888888888, \"#fdca26\"], [1.0, \"#f0f921\"]], \"type\": \"histogram2d\"}], \"histogram2dcontour\": [{\"colorbar\": {\"outlinewidth\": 0, \"ticks\": \"\"}, \"colorscale\": [[0.0, \"#0d0887\"], [0.1111111111111111, \"#46039f\"], [0.2222222222222222, \"#7201a8\"], [0.3333333333333333, \"#9c179e\"], [0.4444444444444444, \"#bd3786\"], [0.5555555555555556, \"#d8576b\"], [0.6666666666666666, \"#ed7953\"], [0.7777777777777778, \"#fb9f3a\"], [0.8888888888888888, \"#fdca26\"], [1.0, \"#f0f921\"]], \"type\": \"histogram2dcontour\"}], \"mesh3d\": [{\"colorbar\": {\"outlinewidth\": 0, \"ticks\": \"\"}, \"type\": \"mesh3d\"}], \"parcoords\": [{\"line\": {\"colorbar\": {\"outlinewidth\": 0, \"ticks\": \"\"}}, \"type\": \"parcoords\"}], \"pie\": [{\"automargin\": true, \"type\": \"pie\"}], \"scatter\": [{\"marker\": {\"colorbar\": {\"outlinewidth\": 0, \"ticks\": \"\"}}, \"type\": \"scatter\"}], \"scatter3d\": [{\"line\": {\"colorbar\": {\"outlinewidth\": 0, \"ticks\": \"\"}}, \"marker\": {\"colorbar\": {\"outlinewidth\": 0, \"ticks\": \"\"}}, \"type\": \"scatter3d\"}], \"scattercarpet\": [{\"marker\": {\"colorbar\": {\"outlinewidth\": 0, \"ticks\": \"\"}}, \"type\": \"scattercarpet\"}], \"scattergeo\": [{\"marker\": {\"colorbar\": {\"outlinewidth\": 0, \"ticks\": \"\"}}, \"type\": \"scattergeo\"}], \"scattergl\": [{\"marker\": {\"colorbar\": {\"outlinewidth\": 0, \"ticks\": \"\"}}, \"type\": \"scattergl\"}], \"scattermapbox\": [{\"marker\": {\"colorbar\": {\"outlinewidth\": 0, \"ticks\": \"\"}}, \"type\": \"scattermapbox\"}], \"scatterpolar\": [{\"marker\": {\"colorbar\": {\"outlinewidth\": 0, \"ticks\": \"\"}}, \"type\": \"scatterpolar\"}], \"scatterpolargl\": [{\"marker\": {\"colorbar\": {\"outlinewidth\": 0, \"ticks\": \"\"}}, \"type\": \"scatterpolargl\"}], \"scatterternary\": [{\"marker\": {\"colorbar\": {\"outlinewidth\": 0, \"ticks\": \"\"}}, \"type\": \"scatterternary\"}], \"surface\": [{\"colorbar\": {\"outlinewidth\": 0, \"ticks\": \"\"}, \"colorscale\": [[0.0, \"#0d0887\"], [0.1111111111111111, \"#46039f\"], [0.2222222222222222, \"#7201a8\"], [0.3333333333333333, \"#9c179e\"], [0.4444444444444444, \"#bd3786\"], [0.5555555555555556, \"#d8576b\"], [0.6666666666666666, \"#ed7953\"], [0.7777777777777778, \"#fb9f3a\"], [0.8888888888888888, \"#fdca26\"], [1.0, \"#f0f921\"]], \"type\": \"surface\"}], \"table\": [{\"cells\": {\"fill\": {\"color\": \"#EBF0F8\"}, \"line\": {\"color\": \"white\"}}, \"header\": {\"fill\": {\"color\": \"#C8D4E3\"}, \"line\": {\"color\": \"white\"}}, \"type\": \"table\"}]}, \"layout\": {\"annotationdefaults\": {\"arrowcolor\": \"#2a3f5f\", \"arrowhead\": 0, \"arrowwidth\": 1}, \"autotypenumbers\": \"strict\", \"coloraxis\": {\"colorbar\": {\"outlinewidth\": 0, \"ticks\": \"\"}}, \"colorscale\": {\"diverging\": [[0, \"#8e0152\"], [0.1, \"#c51b7d\"], [0.2, \"#de77ae\"], [0.3, \"#f1b6da\"], [0.4, \"#fde0ef\"], [0.5, \"#f7f7f7\"], [0.6, \"#e6f5d0\"], [0.7, \"#b8e186\"], [0.8, \"#7fbc41\"], [0.9, \"#4d9221\"], [1, \"#276419\"]], \"sequential\": [[0.0, \"#0d0887\"], [0.1111111111111111, \"#46039f\"], [0.2222222222222222, \"#7201a8\"], [0.3333333333333333, \"#9c179e\"], [0.4444444444444444, \"#bd3786\"], [0.5555555555555556, \"#d8576b\"], [0.6666666666666666, \"#ed7953\"], [0.7777777777777778, \"#fb9f3a\"], [0.8888888888888888, \"#fdca26\"], [1.0, \"#f0f921\"]], \"sequentialminus\": [[0.0, \"#0d0887\"], [0.1111111111111111, \"#46039f\"], [0.2222222222222222, \"#7201a8\"], [0.3333333333333333, \"#9c179e\"], [0.4444444444444444, \"#bd3786\"], [0.5555555555555556, \"#d8576b\"], [0.6666666666666666, \"#ed7953\"], [0.7777777777777778, \"#fb9f3a\"], [0.8888888888888888, \"#fdca26\"], [1.0, \"#f0f921\"]]}, \"colorway\": [\"#636efa\", \"#EF553B\", \"#00cc96\", \"#ab63fa\", \"#FFA15A\", \"#19d3f3\", \"#FF6692\", \"#B6E880\", \"#FF97FF\", \"#FECB52\"], \"font\": {\"color\": \"#2a3f5f\"}, \"geo\": {\"bgcolor\": \"white\", \"lakecolor\": \"white\", \"landcolor\": \"#E5ECF6\", \"showlakes\": true, \"showland\": true, \"subunitcolor\": \"white\"}, \"hoverlabel\": {\"align\": \"left\"}, \"hovermode\": \"closest\", \"mapbox\": {\"style\": \"light\"}, \"paper_bgcolor\": \"white\", \"plot_bgcolor\": \"#E5ECF6\", \"polar\": {\"angularaxis\": {\"gridcolor\": \"white\", \"linecolor\": \"white\", \"ticks\": \"\"}, \"bgcolor\": \"#E5ECF6\", \"radialaxis\": {\"gridcolor\": \"white\", \"linecolor\": \"white\", \"ticks\": \"\"}}, \"scene\": {\"xaxis\": {\"backgroundcolor\": \"#E5ECF6\", \"gridcolor\": \"white\", \"gridwidth\": 2, \"linecolor\": \"white\", \"showbackground\": true, \"ticks\": \"\", \"zerolinecolor\": \"white\"}, \"yaxis\": {\"backgroundcolor\": \"#E5ECF6\", \"gridcolor\": \"white\", \"gridwidth\": 2, \"linecolor\": \"white\", \"showbackground\": true, \"ticks\": \"\", \"zerolinecolor\": \"white\"}, \"zaxis\": {\"backgroundcolor\": \"#E5ECF6\", \"gridcolor\": \"white\", \"gridwidth\": 2, \"linecolor\": \"white\", \"showbackground\": true, \"ticks\": \"\", \"zerolinecolor\": \"white\"}}, \"shapedefaults\": {\"line\": {\"color\": \"#2a3f5f\"}}, \"ternary\": {\"aaxis\": {\"gridcolor\": \"white\", \"linecolor\": \"white\", \"ticks\": \"\"}, \"baxis\": {\"gridcolor\": \"white\", \"linecolor\": \"white\", \"ticks\": \"\"}, \"bgcolor\": \"#E5ECF6\", \"caxis\": {\"gridcolor\": \"white\", \"linecolor\": \"white\", \"ticks\": \"\"}}, \"title\": {\"x\": 0.05}, \"xaxis\": {\"automargin\": true, \"gridcolor\": \"white\", \"linecolor\": \"white\", \"ticks\": \"\", \"title\": {\"standoff\": 15}, \"zerolinecolor\": \"white\", \"zerolinewidth\": 2}, \"yaxis\": {\"automargin\": true, \"gridcolor\": \"white\", \"linecolor\": \"white\", \"ticks\": \"\", \"title\": {\"standoff\": 15}, \"zerolinecolor\": \"white\", \"zerolinewidth\": 2}}}, \"xaxis\": {\"anchor\": \"y\", \"domain\": [0.0, 1.0], \"title\": {\"text\": \"Popularity\"}}, \"yaxis\": {\"anchor\": \"x\", \"domain\": [0.0, 1.0], \"title\": {\"text\": \"Counts\"}}},                        {\"responsive\": true}                    ).then(function(){\n",
       "                            \n",
       "var gd = document.getElementById('79074a61-abe5-4982-a693-b8e2154627e9');\n",
       "var x = new MutationObserver(function (mutations, observer) {{\n",
       "        var display = window.getComputedStyle(gd).display;\n",
       "        if (!display || display === 'none') {{\n",
       "            console.log([gd, 'removed!']);\n",
       "            Plotly.purge(gd);\n",
       "            observer.disconnect();\n",
       "        }}\n",
       "}});\n",
       "\n",
       "// Listen for the removal of the full notebook cells\n",
       "var notebookContainer = gd.closest('#notebook-container');\n",
       "if (notebookContainer) {{\n",
       "    x.observe(notebookContainer, {childList: true});\n",
       "}}\n",
       "\n",
       "// Listen for the clearing of the current output cell\n",
       "var outputEl = gd.closest('.output');\n",
       "if (outputEl) {{\n",
       "    x.observe(outputEl, {childList: true});\n",
       "}}\n",
       "\n",
       "                        })                };                });            </script>        </div>"
      ]
     },
     "metadata": {},
     "output_type": "display_data"
    }
   ],
   "source": [
    "#Popularity of songs distribution\n",
    "#Determine which measure of central tendency is most appropriate to describe GENRE popularity\n",
    "print(\"Popularity Mean: \", spotify_df[\"Popularity\"].mean())\n",
    "print(\"Popularity Median: \", spotify_df[\"Popularity\"].median())\n",
    "print(\"Popularity Mode: \", spotify_df[\"Popularity\"].mode())\n",
    "\n",
    "fig = px.histogram(spotify_df[\"Popularity\"]\n",
    "                , color_discrete_sequence=['limegreen'] )\n",
    "fig.update_layout(xaxis_title=\"Popularity\", yaxis_title=\"Counts\")\n",
    "fig.show()"
   ]
  },
  {
   "cell_type": "code",
   "execution_count": 57,
   "metadata": {},
   "outputs": [
    {
     "data": {
      "text/html": [
       "<div>\n",
       "<style scoped>\n",
       "    .dataframe tbody tr th:only-of-type {\n",
       "        vertical-align: middle;\n",
       "    }\n",
       "\n",
       "    .dataframe tbody tr th {\n",
       "        vertical-align: top;\n",
       "    }\n",
       "\n",
       "    .dataframe thead th {\n",
       "        text-align: right;\n",
       "    }\n",
       "</style>\n",
       "<table border=\"1\" class=\"dataframe\">\n",
       "  <thead>\n",
       "    <tr style=\"text-align: right;\">\n",
       "      <th></th>\n",
       "      <th>Index</th>\n",
       "      <th>Title</th>\n",
       "      <th>Artist</th>\n",
       "      <th>Genre</th>\n",
       "      <th>Year</th>\n",
       "      <th>Tempo</th>\n",
       "      <th>Energy</th>\n",
       "      <th>Danceability</th>\n",
       "      <th>Loudness</th>\n",
       "      <th>Liveness</th>\n",
       "      <th>Valence</th>\n",
       "      <th>Length</th>\n",
       "      <th>Acousticness</th>\n",
       "      <th>Speechiness</th>\n",
       "      <th>Popularity</th>\n",
       "    </tr>\n",
       "  </thead>\n",
       "  <tbody>\n",
       "    <tr>\n",
       "      <th>572</th>\n",
       "      <td>573</td>\n",
       "      <td>Memories</td>\n",
       "      <td>Maroon 5</td>\n",
       "      <td>pop</td>\n",
       "      <td>2019</td>\n",
       "      <td>91</td>\n",
       "      <td>32</td>\n",
       "      <td>76</td>\n",
       "      <td>-7</td>\n",
       "      <td>8</td>\n",
       "      <td>57</td>\n",
       "      <td>189</td>\n",
       "      <td>84</td>\n",
       "      <td>5</td>\n",
       "      <td>99</td>\n",
       "    </tr>\n",
       "    <tr>\n",
       "      <th>573</th>\n",
       "      <td>574</td>\n",
       "      <td>Lose You To Love Me</td>\n",
       "      <td>Selena Gomez</td>\n",
       "      <td>dance pop</td>\n",
       "      <td>2019</td>\n",
       "      <td>102</td>\n",
       "      <td>34</td>\n",
       "      <td>51</td>\n",
       "      <td>-9</td>\n",
       "      <td>21</td>\n",
       "      <td>9</td>\n",
       "      <td>206</td>\n",
       "      <td>58</td>\n",
       "      <td>4</td>\n",
       "      <td>97</td>\n",
       "    </tr>\n",
       "    <tr>\n",
       "      <th>574</th>\n",
       "      <td>575</td>\n",
       "      <td>Someone You Loved</td>\n",
       "      <td>Lewis Capaldi</td>\n",
       "      <td>pop</td>\n",
       "      <td>2019</td>\n",
       "      <td>110</td>\n",
       "      <td>41</td>\n",
       "      <td>50</td>\n",
       "      <td>-6</td>\n",
       "      <td>11</td>\n",
       "      <td>45</td>\n",
       "      <td>182</td>\n",
       "      <td>75</td>\n",
       "      <td>3</td>\n",
       "      <td>96</td>\n",
       "    </tr>\n",
       "    <tr>\n",
       "      <th>575</th>\n",
       "      <td>576</td>\n",
       "      <td>Señorita</td>\n",
       "      <td>Shawn Mendes</td>\n",
       "      <td>canadian pop</td>\n",
       "      <td>2019</td>\n",
       "      <td>117</td>\n",
       "      <td>54</td>\n",
       "      <td>76</td>\n",
       "      <td>-6</td>\n",
       "      <td>9</td>\n",
       "      <td>75</td>\n",
       "      <td>191</td>\n",
       "      <td>4</td>\n",
       "      <td>3</td>\n",
       "      <td>95</td>\n",
       "    </tr>\n",
       "    <tr>\n",
       "      <th>576</th>\n",
       "      <td>577</td>\n",
       "      <td>How Do You Sleep?</td>\n",
       "      <td>Sam Smith</td>\n",
       "      <td>pop</td>\n",
       "      <td>2019</td>\n",
       "      <td>111</td>\n",
       "      <td>68</td>\n",
       "      <td>48</td>\n",
       "      <td>-5</td>\n",
       "      <td>8</td>\n",
       "      <td>35</td>\n",
       "      <td>202</td>\n",
       "      <td>15</td>\n",
       "      <td>9</td>\n",
       "      <td>93</td>\n",
       "    </tr>\n",
       "    <tr>\n",
       "      <th>577</th>\n",
       "      <td>578</td>\n",
       "      <td>South of the Border (feat. Camila Cabello &amp; Ca...</td>\n",
       "      <td>Ed Sheeran</td>\n",
       "      <td>pop</td>\n",
       "      <td>2019</td>\n",
       "      <td>98</td>\n",
       "      <td>62</td>\n",
       "      <td>86</td>\n",
       "      <td>-6</td>\n",
       "      <td>9</td>\n",
       "      <td>67</td>\n",
       "      <td>204</td>\n",
       "      <td>15</td>\n",
       "      <td>8</td>\n",
       "      <td>92</td>\n",
       "    </tr>\n",
       "    <tr>\n",
       "      <th>578</th>\n",
       "      <td>579</td>\n",
       "      <td>Trampoline (with ZAYN)</td>\n",
       "      <td>SHAED</td>\n",
       "      <td>electropop</td>\n",
       "      <td>2019</td>\n",
       "      <td>127</td>\n",
       "      <td>46</td>\n",
       "      <td>62</td>\n",
       "      <td>-6</td>\n",
       "      <td>14</td>\n",
       "      <td>50</td>\n",
       "      <td>184</td>\n",
       "      <td>56</td>\n",
       "      <td>3</td>\n",
       "      <td>92</td>\n",
       "    </tr>\n",
       "  </tbody>\n",
       "</table>\n",
       "</div>"
      ],
      "text/plain": [
       "     Index                                              Title         Artist  \\\n",
       "572    573                                           Memories       Maroon 5   \n",
       "573    574                                Lose You To Love Me   Selena Gomez   \n",
       "574    575                                  Someone You Loved  Lewis Capaldi   \n",
       "575    576                                           Señorita   Shawn Mendes   \n",
       "576    577                                  How Do You Sleep?      Sam Smith   \n",
       "577    578  South of the Border (feat. Camila Cabello & Ca...     Ed Sheeran   \n",
       "578    579                             Trampoline (with ZAYN)          SHAED   \n",
       "\n",
       "            Genre  Year  Tempo  Energy  Danceability  Loudness  Liveness  \\\n",
       "572           pop  2019     91      32            76        -7         8   \n",
       "573     dance pop  2019    102      34            51        -9        21   \n",
       "574           pop  2019    110      41            50        -6        11   \n",
       "575  canadian pop  2019    117      54            76        -6         9   \n",
       "576           pop  2019    111      68            48        -5         8   \n",
       "577           pop  2019     98      62            86        -6         9   \n",
       "578    electropop  2019    127      46            62        -6        14   \n",
       "\n",
       "     Valence  Length  Acousticness  Speechiness  Popularity  \n",
       "572       57     189            84            5          99  \n",
       "573        9     206            58            4          97  \n",
       "574       45     182            75            3          96  \n",
       "575       75     191             4            3          95  \n",
       "576       35     202            15            9          93  \n",
       "577       67     204            15            8          92  \n",
       "578       50     184            56            3          92  "
      ]
     },
     "execution_count": 57,
     "metadata": {},
     "output_type": "execute_result"
    }
   ],
   "source": [
    "#10 most popular songs for the entire duration under review.\n",
    "#Interesting fact: Katy Perry topped list by count but did not feature in the top 10 by popularity rating.\n",
    "most_popular = spotify_df[spotify_df['Popularity'] >= spotify_df['Popularity'].quantile(0.99)]\n",
    "most_popular"
   ]
  },
  {
   "cell_type": "code",
   "execution_count": 58,
   "metadata": {},
   "outputs": [
    {
     "data": {
      "text/html": [
       "<div>\n",
       "<style scoped>\n",
       "    .dataframe tbody tr th:only-of-type {\n",
       "        vertical-align: middle;\n",
       "    }\n",
       "\n",
       "    .dataframe tbody tr th {\n",
       "        vertical-align: top;\n",
       "    }\n",
       "\n",
       "    .dataframe thead th {\n",
       "        text-align: right;\n",
       "    }\n",
       "</style>\n",
       "<table border=\"1\" class=\"dataframe\">\n",
       "  <thead>\n",
       "    <tr style=\"text-align: right;\">\n",
       "      <th></th>\n",
       "      <th>Year</th>\n",
       "      <th>Artist</th>\n",
       "      <th>Title</th>\n",
       "      <th>Genre</th>\n",
       "      <th>Popularity</th>\n",
       "    </tr>\n",
       "  </thead>\n",
       "  <tbody>\n",
       "    <tr>\n",
       "      <th>572</th>\n",
       "      <td>2019</td>\n",
       "      <td>Maroon 5</td>\n",
       "      <td>Memories</td>\n",
       "      <td>pop</td>\n",
       "      <td>99</td>\n",
       "    </tr>\n",
       "    <tr>\n",
       "      <th>573</th>\n",
       "      <td>2019</td>\n",
       "      <td>Selena Gomez</td>\n",
       "      <td>Lose You To Love Me</td>\n",
       "      <td>dance pop</td>\n",
       "      <td>97</td>\n",
       "    </tr>\n",
       "    <tr>\n",
       "      <th>574</th>\n",
       "      <td>2019</td>\n",
       "      <td>Lewis Capaldi</td>\n",
       "      <td>Someone You Loved</td>\n",
       "      <td>pop</td>\n",
       "      <td>96</td>\n",
       "    </tr>\n",
       "    <tr>\n",
       "      <th>575</th>\n",
       "      <td>2019</td>\n",
       "      <td>Shawn Mendes</td>\n",
       "      <td>Señorita</td>\n",
       "      <td>canadian pop</td>\n",
       "      <td>95</td>\n",
       "    </tr>\n",
       "    <tr>\n",
       "      <th>576</th>\n",
       "      <td>2019</td>\n",
       "      <td>Sam Smith</td>\n",
       "      <td>How Do You Sleep?</td>\n",
       "      <td>pop</td>\n",
       "      <td>93</td>\n",
       "    </tr>\n",
       "    <tr>\n",
       "      <th>577</th>\n",
       "      <td>2019</td>\n",
       "      <td>Ed Sheeran</td>\n",
       "      <td>South of the Border (feat. Camila Cabello &amp; Ca...</td>\n",
       "      <td>pop</td>\n",
       "      <td>92</td>\n",
       "    </tr>\n",
       "    <tr>\n",
       "      <th>578</th>\n",
       "      <td>2019</td>\n",
       "      <td>SHAED</td>\n",
       "      <td>Trampoline (with ZAYN)</td>\n",
       "      <td>electropop</td>\n",
       "      <td>92</td>\n",
       "    </tr>\n",
       "  </tbody>\n",
       "</table>\n",
       "</div>"
      ],
      "text/plain": [
       "     Year         Artist                                              Title  \\\n",
       "572  2019       Maroon 5                                           Memories   \n",
       "573  2019   Selena Gomez                                Lose You To Love Me   \n",
       "574  2019  Lewis Capaldi                                  Someone You Loved   \n",
       "575  2019   Shawn Mendes                                           Señorita   \n",
       "576  2019      Sam Smith                                  How Do You Sleep?   \n",
       "577  2019     Ed Sheeran  South of the Border (feat. Camila Cabello & Ca...   \n",
       "578  2019          SHAED                             Trampoline (with ZAYN)   \n",
       "\n",
       "            Genre  Popularity  \n",
       "572           pop          99  \n",
       "573     dance pop          97  \n",
       "574           pop          96  \n",
       "575  canadian pop          95  \n",
       "576           pop          93  \n",
       "577           pop          92  \n",
       "578    electropop          92  "
      ]
     },
     "execution_count": 58,
     "metadata": {},
     "output_type": "execute_result"
    }
   ],
   "source": [
    "#Most Popular Artist\n",
    "most_popular.loc[:,['Year','Artist','Title','Genre','Popularity']]"
   ]
  },
  {
   "cell_type": "code",
   "execution_count": 45,
   "metadata": {},
   "outputs": [
    {
     "data": {
      "text/html": [
       "<div>\n",
       "<style scoped>\n",
       "    .dataframe tbody tr th:only-of-type {\n",
       "        vertical-align: middle;\n",
       "    }\n",
       "\n",
       "    .dataframe tbody tr th {\n",
       "        vertical-align: top;\n",
       "    }\n",
       "\n",
       "    .dataframe thead th {\n",
       "        text-align: right;\n",
       "    }\n",
       "</style>\n",
       "<table border=\"1\" class=\"dataframe\">\n",
       "  <thead>\n",
       "    <tr style=\"text-align: right;\">\n",
       "      <th></th>\n",
       "      <th>Index</th>\n",
       "      <th>Title</th>\n",
       "      <th>Artist</th>\n",
       "      <th>Genre</th>\n",
       "      <th>Year</th>\n",
       "      <th>Tempo</th>\n",
       "      <th>Energy</th>\n",
       "      <th>Danceability</th>\n",
       "      <th>Loudness</th>\n",
       "      <th>Liveness</th>\n",
       "      <th>Valence</th>\n",
       "      <th>Length</th>\n",
       "      <th>Acousticness</th>\n",
       "      <th>Speechiness</th>\n",
       "      <th>Popularity</th>\n",
       "    </tr>\n",
       "  </thead>\n",
       "  <tbody>\n",
       "    <tr>\n",
       "      <th>48</th>\n",
       "      <td>49</td>\n",
       "      <td>Castle Walls (feat. Christina Aguilera)</td>\n",
       "      <td>T.I.</td>\n",
       "      <td>atl hip hop</td>\n",
       "      <td>2010</td>\n",
       "      <td>80</td>\n",
       "      <td>86</td>\n",
       "      <td>45</td>\n",
       "      <td>-5</td>\n",
       "      <td>26</td>\n",
       "      <td>58</td>\n",
       "      <td>329</td>\n",
       "      <td>7</td>\n",
       "      <td>39</td>\n",
       "      <td>49</td>\n",
       "    </tr>\n",
       "    <tr>\n",
       "      <th>49</th>\n",
       "      <td>50</td>\n",
       "      <td>Break Your Heart</td>\n",
       "      <td>Taio Cruz</td>\n",
       "      <td>dance pop</td>\n",
       "      <td>2010</td>\n",
       "      <td>122</td>\n",
       "      <td>90</td>\n",
       "      <td>67</td>\n",
       "      <td>-5</td>\n",
       "      <td>8</td>\n",
       "      <td>63</td>\n",
       "      <td>186</td>\n",
       "      <td>0</td>\n",
       "      <td>3</td>\n",
       "      <td>33</td>\n",
       "    </tr>\n",
       "    <tr>\n",
       "      <th>50</th>\n",
       "      <td>51</td>\n",
       "      <td>Hello</td>\n",
       "      <td>Martin Solveig</td>\n",
       "      <td>big room</td>\n",
       "      <td>2010</td>\n",
       "      <td>128</td>\n",
       "      <td>98</td>\n",
       "      <td>67</td>\n",
       "      <td>-3</td>\n",
       "      <td>10</td>\n",
       "      <td>45</td>\n",
       "      <td>191</td>\n",
       "      <td>1</td>\n",
       "      <td>3</td>\n",
       "      <td>0</td>\n",
       "    </tr>\n",
       "    <tr>\n",
       "      <th>95</th>\n",
       "      <td>96</td>\n",
       "      <td>Castle Walls (feat. Christina Aguilera)</td>\n",
       "      <td>T.I.</td>\n",
       "      <td>atl hip hop</td>\n",
       "      <td>2011</td>\n",
       "      <td>80</td>\n",
       "      <td>86</td>\n",
       "      <td>45</td>\n",
       "      <td>-5</td>\n",
       "      <td>26</td>\n",
       "      <td>58</td>\n",
       "      <td>329</td>\n",
       "      <td>7</td>\n",
       "      <td>39</td>\n",
       "      <td>49</td>\n",
       "    </tr>\n",
       "    <tr>\n",
       "      <th>96</th>\n",
       "      <td>97</td>\n",
       "      <td>Turning Page</td>\n",
       "      <td>Sleeping At Last</td>\n",
       "      <td>acoustic pop</td>\n",
       "      <td>2011</td>\n",
       "      <td>125</td>\n",
       "      <td>38</td>\n",
       "      <td>30</td>\n",
       "      <td>-8</td>\n",
       "      <td>11</td>\n",
       "      <td>19</td>\n",
       "      <td>255</td>\n",
       "      <td>91</td>\n",
       "      <td>3</td>\n",
       "      <td>46</td>\n",
       "    </tr>\n",
       "    <tr>\n",
       "      <th>...</th>\n",
       "      <td>...</td>\n",
       "      <td>...</td>\n",
       "      <td>...</td>\n",
       "      <td>...</td>\n",
       "      <td>...</td>\n",
       "      <td>...</td>\n",
       "      <td>...</td>\n",
       "      <td>...</td>\n",
       "      <td>...</td>\n",
       "      <td>...</td>\n",
       "      <td>...</td>\n",
       "      <td>...</td>\n",
       "      <td>...</td>\n",
       "      <td>...</td>\n",
       "      <td>...</td>\n",
       "    </tr>\n",
       "    <tr>\n",
       "      <th>505</th>\n",
       "      <td>506</td>\n",
       "      <td>Free Me</td>\n",
       "      <td>Sia</td>\n",
       "      <td>australian dance</td>\n",
       "      <td>2017</td>\n",
       "      <td>87</td>\n",
       "      <td>46</td>\n",
       "      <td>27</td>\n",
       "      <td>-4</td>\n",
       "      <td>14</td>\n",
       "      <td>21</td>\n",
       "      <td>286</td>\n",
       "      <td>85</td>\n",
       "      <td>3</td>\n",
       "      <td>44</td>\n",
       "    </tr>\n",
       "    <tr>\n",
       "      <th>506</th>\n",
       "      <td>507</td>\n",
       "      <td>Kissing Strangers - Remix</td>\n",
       "      <td>DNCE</td>\n",
       "      <td>dance pop</td>\n",
       "      <td>2017</td>\n",
       "      <td>120</td>\n",
       "      <td>77</td>\n",
       "      <td>76</td>\n",
       "      <td>-6</td>\n",
       "      <td>8</td>\n",
       "      <td>81</td>\n",
       "      <td>202</td>\n",
       "      <td>8</td>\n",
       "      <td>5</td>\n",
       "      <td>43</td>\n",
       "    </tr>\n",
       "    <tr>\n",
       "      <th>507</th>\n",
       "      <td>508</td>\n",
       "      <td>A L I E N S</td>\n",
       "      <td>Coldplay</td>\n",
       "      <td>permanent wave</td>\n",
       "      <td>2017</td>\n",
       "      <td>148</td>\n",
       "      <td>88</td>\n",
       "      <td>43</td>\n",
       "      <td>-5</td>\n",
       "      <td>21</td>\n",
       "      <td>25</td>\n",
       "      <td>282</td>\n",
       "      <td>0</td>\n",
       "      <td>4</td>\n",
       "      <td>41</td>\n",
       "    </tr>\n",
       "    <tr>\n",
       "      <th>570</th>\n",
       "      <td>571</td>\n",
       "      <td>Drip (feat. Migos)</td>\n",
       "      <td>Cardi B</td>\n",
       "      <td>pop</td>\n",
       "      <td>2018</td>\n",
       "      <td>130</td>\n",
       "      <td>59</td>\n",
       "      <td>97</td>\n",
       "      <td>-8</td>\n",
       "      <td>8</td>\n",
       "      <td>27</td>\n",
       "      <td>264</td>\n",
       "      <td>5</td>\n",
       "      <td>26</td>\n",
       "      <td>45</td>\n",
       "    </tr>\n",
       "    <tr>\n",
       "      <th>571</th>\n",
       "      <td>572</td>\n",
       "      <td>Tell Me You Love Me - NOTD Remix</td>\n",
       "      <td>Demi Lovato</td>\n",
       "      <td>dance pop</td>\n",
       "      <td>2018</td>\n",
       "      <td>102</td>\n",
       "      <td>77</td>\n",
       "      <td>58</td>\n",
       "      <td>-5</td>\n",
       "      <td>9</td>\n",
       "      <td>76</td>\n",
       "      <td>182</td>\n",
       "      <td>5</td>\n",
       "      <td>8</td>\n",
       "      <td>44</td>\n",
       "    </tr>\n",
       "  </tbody>\n",
       "</table>\n",
       "<p>62 rows × 15 columns</p>\n",
       "</div>"
      ],
      "text/plain": [
       "     Index                                    Title            Artist  \\\n",
       "48      49  Castle Walls (feat. Christina Aguilera)              T.I.   \n",
       "49      50                         Break Your Heart         Taio Cruz   \n",
       "50      51                                    Hello    Martin Solveig   \n",
       "95      96  Castle Walls (feat. Christina Aguilera)              T.I.   \n",
       "96      97                             Turning Page  Sleeping At Last   \n",
       "..     ...                                      ...               ...   \n",
       "505    506                                  Free Me               Sia   \n",
       "506    507                Kissing Strangers - Remix              DNCE   \n",
       "507    508                              A L I E N S          Coldplay   \n",
       "570    571                       Drip (feat. Migos)           Cardi B   \n",
       "571    572         Tell Me You Love Me - NOTD Remix       Demi Lovato   \n",
       "\n",
       "                Genre  Year  Tempo  Energy  Danceability  Loudness  Liveness  \\\n",
       "48        atl hip hop  2010     80      86            45        -5        26   \n",
       "49          dance pop  2010    122      90            67        -5         8   \n",
       "50           big room  2010    128      98            67        -3        10   \n",
       "95        atl hip hop  2011     80      86            45        -5        26   \n",
       "96       acoustic pop  2011    125      38            30        -8        11   \n",
       "..                ...   ...    ...     ...           ...       ...       ...   \n",
       "505  australian dance  2017     87      46            27        -4        14   \n",
       "506         dance pop  2017    120      77            76        -6         8   \n",
       "507    permanent wave  2017    148      88            43        -5        21   \n",
       "570               pop  2018    130      59            97        -8         8   \n",
       "571         dance pop  2018    102      77            58        -5         9   \n",
       "\n",
       "     Valence  Length  Acousticness  Speechiness  Popularity  \n",
       "48        58     329             7           39          49  \n",
       "49        63     186             0            3          33  \n",
       "50        45     191             1            3           0  \n",
       "95        58     329             7           39          49  \n",
       "96        19     255            91            3          46  \n",
       "..       ...     ...           ...          ...         ...  \n",
       "505       21     286            85            3          44  \n",
       "506       81     202             8            5          43  \n",
       "507       25     282             0            4          41  \n",
       "570       27     264             5           26          45  \n",
       "571       76     182             5            8          44  \n",
       "\n",
       "[62 rows x 15 columns]"
      ]
     },
     "execution_count": 45,
     "metadata": {},
     "output_type": "execute_result"
    }
   ],
   "source": [
    "#Comparison of audio features between most popular Artist and least popular artist\n",
    "#How does their features stack against each other\n",
    "least_popular = spotify_df[spotify_df['Popularity'] <= spotify_df['Popularity'].quantile(0.10)]\n",
    "least_popular"
   ]
  },
  {
   "cell_type": "code",
   "execution_count": 46,
   "metadata": {},
   "outputs": [
    {
     "data": {
      "text/html": [
       "<div>\n",
       "<style scoped>\n",
       "    .dataframe tbody tr th:only-of-type {\n",
       "        vertical-align: middle;\n",
       "    }\n",
       "\n",
       "    .dataframe tbody tr th {\n",
       "        vertical-align: top;\n",
       "    }\n",
       "\n",
       "    .dataframe thead th {\n",
       "        text-align: right;\n",
       "    }\n",
       "</style>\n",
       "<table border=\"1\" class=\"dataframe\">\n",
       "  <thead>\n",
       "    <tr style=\"text-align: right;\">\n",
       "      <th></th>\n",
       "      <th>Year</th>\n",
       "      <th>Artist</th>\n",
       "      <th>Title</th>\n",
       "      <th>Genre</th>\n",
       "      <th>Popularity</th>\n",
       "    </tr>\n",
       "  </thead>\n",
       "  <tbody>\n",
       "    <tr>\n",
       "      <th>48</th>\n",
       "      <td>2010</td>\n",
       "      <td>T.I.</td>\n",
       "      <td>Castle Walls (feat. Christina Aguilera)</td>\n",
       "      <td>atl hip hop</td>\n",
       "      <td>49</td>\n",
       "    </tr>\n",
       "    <tr>\n",
       "      <th>49</th>\n",
       "      <td>2010</td>\n",
       "      <td>Taio Cruz</td>\n",
       "      <td>Break Your Heart</td>\n",
       "      <td>dance pop</td>\n",
       "      <td>33</td>\n",
       "    </tr>\n",
       "    <tr>\n",
       "      <th>50</th>\n",
       "      <td>2010</td>\n",
       "      <td>Martin Solveig</td>\n",
       "      <td>Hello</td>\n",
       "      <td>big room</td>\n",
       "      <td>0</td>\n",
       "    </tr>\n",
       "    <tr>\n",
       "      <th>95</th>\n",
       "      <td>2011</td>\n",
       "      <td>T.I.</td>\n",
       "      <td>Castle Walls (feat. Christina Aguilera)</td>\n",
       "      <td>atl hip hop</td>\n",
       "      <td>49</td>\n",
       "    </tr>\n",
       "    <tr>\n",
       "      <th>96</th>\n",
       "      <td>2011</td>\n",
       "      <td>Sleeping At Last</td>\n",
       "      <td>Turning Page</td>\n",
       "      <td>acoustic pop</td>\n",
       "      <td>46</td>\n",
       "    </tr>\n",
       "    <tr>\n",
       "      <th>...</th>\n",
       "      <td>...</td>\n",
       "      <td>...</td>\n",
       "      <td>...</td>\n",
       "      <td>...</td>\n",
       "      <td>...</td>\n",
       "    </tr>\n",
       "    <tr>\n",
       "      <th>505</th>\n",
       "      <td>2017</td>\n",
       "      <td>Sia</td>\n",
       "      <td>Free Me</td>\n",
       "      <td>australian dance</td>\n",
       "      <td>44</td>\n",
       "    </tr>\n",
       "    <tr>\n",
       "      <th>506</th>\n",
       "      <td>2017</td>\n",
       "      <td>DNCE</td>\n",
       "      <td>Kissing Strangers - Remix</td>\n",
       "      <td>dance pop</td>\n",
       "      <td>43</td>\n",
       "    </tr>\n",
       "    <tr>\n",
       "      <th>507</th>\n",
       "      <td>2017</td>\n",
       "      <td>Coldplay</td>\n",
       "      <td>A L I E N S</td>\n",
       "      <td>permanent wave</td>\n",
       "      <td>41</td>\n",
       "    </tr>\n",
       "    <tr>\n",
       "      <th>570</th>\n",
       "      <td>2018</td>\n",
       "      <td>Cardi B</td>\n",
       "      <td>Drip (feat. Migos)</td>\n",
       "      <td>pop</td>\n",
       "      <td>45</td>\n",
       "    </tr>\n",
       "    <tr>\n",
       "      <th>571</th>\n",
       "      <td>2018</td>\n",
       "      <td>Demi Lovato</td>\n",
       "      <td>Tell Me You Love Me - NOTD Remix</td>\n",
       "      <td>dance pop</td>\n",
       "      <td>44</td>\n",
       "    </tr>\n",
       "  </tbody>\n",
       "</table>\n",
       "<p>62 rows × 5 columns</p>\n",
       "</div>"
      ],
      "text/plain": [
       "     Year            Artist                                    Title  \\\n",
       "48   2010              T.I.  Castle Walls (feat. Christina Aguilera)   \n",
       "49   2010         Taio Cruz                         Break Your Heart   \n",
       "50   2010    Martin Solveig                                    Hello   \n",
       "95   2011              T.I.  Castle Walls (feat. Christina Aguilera)   \n",
       "96   2011  Sleeping At Last                             Turning Page   \n",
       "..    ...               ...                                      ...   \n",
       "505  2017               Sia                                  Free Me   \n",
       "506  2017              DNCE                Kissing Strangers - Remix   \n",
       "507  2017          Coldplay                              A L I E N S   \n",
       "570  2018           Cardi B                       Drip (feat. Migos)   \n",
       "571  2018       Demi Lovato         Tell Me You Love Me - NOTD Remix   \n",
       "\n",
       "                Genre  Popularity  \n",
       "48        atl hip hop          49  \n",
       "49          dance pop          33  \n",
       "50           big room           0  \n",
       "95        atl hip hop          49  \n",
       "96       acoustic pop          46  \n",
       "..                ...         ...  \n",
       "505  australian dance          44  \n",
       "506         dance pop          43  \n",
       "507    permanent wave          41  \n",
       "570               pop          45  \n",
       "571         dance pop          44  \n",
       "\n",
       "[62 rows x 5 columns]"
      ]
     },
     "execution_count": 46,
     "metadata": {},
     "output_type": "execute_result"
    }
   ],
   "source": [
    "least_popular.loc[:,['Year','Artist','Title','Genre','Popularity']]"
   ]
  },
  {
   "cell_type": "code",
   "execution_count": 47,
   "metadata": {},
   "outputs": [
    {
     "name": "stdout",
     "output_type": "stream",
     "text": [
      "The lower popularity rating quartile is: 60.0\n",
      "The upper popularity rating quartile is: 76.0\n",
      "The interquartile range of popularity rating is: 16.0\n",
      "The median popularity rating is: 69.0 \n",
      "Values below 36.0 could be outliers.\n",
      "Values above 100.0 could be outliers.\n"
     ]
    },
    {
     "data": {
      "text/html": [
       "<div>\n",
       "<style scoped>\n",
       "    .dataframe tbody tr th:only-of-type {\n",
       "        vertical-align: middle;\n",
       "    }\n",
       "\n",
       "    .dataframe tbody tr th {\n",
       "        vertical-align: top;\n",
       "    }\n",
       "\n",
       "    .dataframe thead th {\n",
       "        text-align: right;\n",
       "    }\n",
       "</style>\n",
       "<table border=\"1\" class=\"dataframe\">\n",
       "  <thead>\n",
       "    <tr style=\"text-align: right;\">\n",
       "      <th></th>\n",
       "      <th>Index</th>\n",
       "      <th>Title</th>\n",
       "      <th>Artist</th>\n",
       "      <th>Genre</th>\n",
       "      <th>Year</th>\n",
       "      <th>Tempo</th>\n",
       "      <th>Energy</th>\n",
       "      <th>Danceability</th>\n",
       "      <th>Loudness</th>\n",
       "      <th>Liveness</th>\n",
       "      <th>Valence</th>\n",
       "      <th>Length</th>\n",
       "      <th>Acousticness</th>\n",
       "      <th>Speechiness</th>\n",
       "      <th>Popularity</th>\n",
       "    </tr>\n",
       "  </thead>\n",
       "  <tbody>\n",
       "    <tr>\n",
       "      <th>49</th>\n",
       "      <td>50</td>\n",
       "      <td>Break Your Heart</td>\n",
       "      <td>Taio Cruz</td>\n",
       "      <td>dance pop</td>\n",
       "      <td>2010</td>\n",
       "      <td>122</td>\n",
       "      <td>90</td>\n",
       "      <td>67</td>\n",
       "      <td>-5</td>\n",
       "      <td>8</td>\n",
       "      <td>63</td>\n",
       "      <td>186</td>\n",
       "      <td>0</td>\n",
       "      <td>3</td>\n",
       "      <td>33</td>\n",
       "    </tr>\n",
       "    <tr>\n",
       "      <th>50</th>\n",
       "      <td>51</td>\n",
       "      <td>Hello</td>\n",
       "      <td>Martin Solveig</td>\n",
       "      <td>big room</td>\n",
       "      <td>2010</td>\n",
       "      <td>128</td>\n",
       "      <td>98</td>\n",
       "      <td>67</td>\n",
       "      <td>-3</td>\n",
       "      <td>10</td>\n",
       "      <td>45</td>\n",
       "      <td>191</td>\n",
       "      <td>1</td>\n",
       "      <td>3</td>\n",
       "      <td>0</td>\n",
       "    </tr>\n",
       "    <tr>\n",
       "      <th>99</th>\n",
       "      <td>100</td>\n",
       "      <td>Invading My Mind</td>\n",
       "      <td>Jennifer Lopez</td>\n",
       "      <td>dance pop</td>\n",
       "      <td>2011</td>\n",
       "      <td>129</td>\n",
       "      <td>88</td>\n",
       "      <td>73</td>\n",
       "      <td>-4</td>\n",
       "      <td>32</td>\n",
       "      <td>69</td>\n",
       "      <td>201</td>\n",
       "      <td>2</td>\n",
       "      <td>7</td>\n",
       "      <td>31</td>\n",
       "    </tr>\n",
       "    <tr>\n",
       "      <th>100</th>\n",
       "      <td>101</td>\n",
       "      <td>Moment 4 Life - Album Version (Edited)</td>\n",
       "      <td>Nicki Minaj</td>\n",
       "      <td>dance pop</td>\n",
       "      <td>2011</td>\n",
       "      <td>130</td>\n",
       "      <td>88</td>\n",
       "      <td>50</td>\n",
       "      <td>-4</td>\n",
       "      <td>22</td>\n",
       "      <td>37</td>\n",
       "      <td>279</td>\n",
       "      <td>39</td>\n",
       "      <td>38</td>\n",
       "      <td>28</td>\n",
       "    </tr>\n",
       "    <tr>\n",
       "      <th>101</th>\n",
       "      <td>102</td>\n",
       "      <td>Last Friday Night (T.G.I.F.)</td>\n",
       "      <td>Katy Perry</td>\n",
       "      <td>dance pop</td>\n",
       "      <td>2011</td>\n",
       "      <td>126</td>\n",
       "      <td>81</td>\n",
       "      <td>65</td>\n",
       "      <td>-4</td>\n",
       "      <td>67</td>\n",
       "      <td>72</td>\n",
       "      <td>231</td>\n",
       "      <td>0</td>\n",
       "      <td>4</td>\n",
       "      <td>27</td>\n",
       "    </tr>\n",
       "  </tbody>\n",
       "</table>\n",
       "</div>"
      ],
      "text/plain": [
       "     Index                                   Title          Artist      Genre  \\\n",
       "49      50                        Break Your Heart       Taio Cruz  dance pop   \n",
       "50      51                                   Hello  Martin Solveig   big room   \n",
       "99     100                        Invading My Mind  Jennifer Lopez  dance pop   \n",
       "100    101  Moment 4 Life - Album Version (Edited)     Nicki Minaj  dance pop   \n",
       "101    102            Last Friday Night (T.G.I.F.)      Katy Perry  dance pop   \n",
       "\n",
       "     Year  Tempo  Energy  Danceability  Loudness  Liveness  Valence  Length  \\\n",
       "49   2010    122      90            67        -5         8       63     186   \n",
       "50   2010    128      98            67        -3        10       45     191   \n",
       "99   2011    129      88            73        -4        32       69     201   \n",
       "100  2011    130      88            50        -4        22       37     279   \n",
       "101  2011    126      81            65        -4        67       72     231   \n",
       "\n",
       "     Acousticness  Speechiness  Popularity  \n",
       "49              0            3          33  \n",
       "50              1            3           0  \n",
       "99              2            7          31  \n",
       "100            39           38          28  \n",
       "101             0            4          27  "
      ]
     },
     "execution_count": 47,
     "metadata": {},
     "output_type": "execute_result"
    }
   ],
   "source": [
    "#Average Popularity Rating\n",
    "avg_pop = spotify_df[\"Popularity\"]\n",
    "Q1 = avg_pop.quantile(0.25)\n",
    "median = avg_pop.quantile(0.5)\n",
    "Q3 = avg_pop.quantile(0.75)\n",
    "IQR = Q3 - Q1\n",
    "\n",
    "print(f\"The lower popularity rating quartile is: {Q1}\")\n",
    "print(f\"The upper popularity rating quartile is: {Q3}\")\n",
    "print(f\"The interquartile range of popularity rating is: {IQR}\")\n",
    "print(f\"The median popularity rating is: {median} \")\n",
    "\n",
    "lower_bound = Q1 - (1.5 * IQR)\n",
    "upper_bound = Q3 + (1.5 * IQR)\n",
    "print(f\"Values below {lower_bound} could be outliers.\")\n",
    "print(f\"Values above {upper_bound} could be outliers.\")\n",
    "\n",
    "outlier_pop_rating = spotify_df.loc[(avg_pop < lower_bound) | (avg_pop > upper_bound)]\n",
    "outlier_pop_rating.head()"
   ]
  },
  {
   "cell_type": "code",
   "execution_count": 79,
   "metadata": {},
   "outputs": [
    {
     "data": {
      "text/plain": [
       "Text(0.5, 1.0, 'Popularity Rating of songs in each year')"
      ]
     },
     "execution_count": 79,
     "metadata": {},
     "output_type": "execute_result"
    },
    {
     "data": {
      "image/png": "[encoded data removed]",
      "text/plain": [
       "<Figure size 1080x720 with 1 Axes>"
      ]
     },
     "metadata": {},
     "output_type": "display_data"
    }
   ],
   "source": [
    "#Boxplot\n",
    "plt.subplots(figsize=(15,10))\n",
    "sns.boxplot(x=\"Year\",y= \"Popularity\", data=spotify_df, palette = \"Greens\")\n",
    "plt.title('Popularity Rating of songs in each year')"
   ]
  },
  {
   "cell_type": "code",
   "execution_count": 48,
   "metadata": {},
   "outputs": [
    {
     "data": {
      "application/vnd.plotly.v1+json": {
       "config": {
        "plotlyServerURL": "https://plot.ly"
       },
       "data": [
        {
         "hovertemplate": "Genre=neo mellow<br>Artist=%{x}<br>Popularity=%{y}<extra></extra>",
         "legendgroup": "neo mellow",
         "marker": {
          "color": "#636efa",
          "symbol": "circle"
         },
         "mode": "markers",
         "name": "neo mellow",
         "orientation": "v",
         "showlegend": true,
         "type": "scatter",
         "x": [
          "Train",
          "John Legend",
          "Birdy",
          "A Great Big World",
          "Birdy",
          "Birdy",
          "Birdy",
          "Birdy",
          "John Legend"
         ],
         "xaxis": "x",
         "y": [
          83,
          86,
          62,
          61,
          56,
          49,
          44,
          52,
          47
         ],
         "yaxis": "y"
        },
        {
         "hovertemplate": "Genre=detroit hip hop<br>Artist=%{x}<br>Popularity=%{y}<extra></extra>",
         "legendgroup": "detroit hip hop",
         "marker": {
          "color": "#EF553B",
          "symbol": "circle"
         },
         "mode": "markers",
         "name": "detroit hip hop",
         "orientation": "v",
         "showlegend": true,
         "type": "scatter",
         "x": [
          "Eminem",
          "Eminem"
         ],
         "xaxis": "x",
         "y": [
          82,
          65
         ],
         "yaxis": "y"
        },
        {
         "hovertemplate": "Genre=dance pop<br>Artist=%{x}<br>Popularity=%{y}<extra></extra>",
         "legendgroup": "dance pop",
         "marker": {
          "color": "#00cc96",
          "symbol": "circle"
         },
         "mode": "markers",
         "name": "dance pop",
         "orientation": "v",
         "showlegend": true,
         "type": "scatter",
         "x": [
          "Kesha",
          "Lady Gaga",
          "Taio Cruz",
          "OneRepublic",
          "Flo Rida",
          "Mike Posner",
          "Lady Gaga",
          "Far East Movement",
          "Sean Kingston",
          "The Black Eyed Peas",
          "Lady Gaga",
          "Kesha",
          "The Black Eyed Peas",
          "Kesha",
          "OneRepublic",
          "Selena Gomez & The Scene",
          "Enrique Iglesias",
          "Katy Perry",
          "Katy Perry",
          "Britney Spears",
          "3OH!3",
          "Kesha",
          "The Black Eyed Peas",
          "David Guetta",
          "Christina Aguilera",
          "The Black Eyed Peas",
          "Christina Aguilera",
          "Christina Aguilera",
          "Christina Aguilera",
          "Tinie Tempah",
          "Taio Cruz",
          "Christina Perri",
          "Pitbull",
          "Beyoncé",
          "Beyoncé",
          "Hot Chelle Rae",
          "Lady Gaga",
          "Beyoncé",
          "LMFAO",
          "Kesha",
          "OneRepublic",
          "The Black Eyed Peas",
          "Jennifer Lopez",
          "Chris Brown",
          "David Guetta",
          "LMFAO",
          "Lady Gaga",
          "Katy Perry",
          "Britney Spears",
          "Britney Spears",
          "Kesha",
          "Lady Gaga",
          "Lady Gaga",
          "Enrique Iglesias",
          "Mike Posner",
          "Lady Gaga",
          "Beyoncé",
          "Britney Spears",
          "Jennifer Lopez",
          "Jennifer Lopez",
          "Tinie Tempah",
          "Christina Perri",
          "Nicki Minaj",
          "P!nk",
          "Jennifer Lopez",
          "Nicki Minaj",
          "Katy Perry",
          "Katy Perry",
          "Nicki Minaj",
          "David Guetta",
          "Selena Gomez & The Scene",
          "Kelly Clarkson",
          "P!nk",
          "Nicki Minaj",
          "Pitbull",
          "Katy Perry",
          "Katy Perry",
          "Katy Perry",
          "Jennifer Lopez",
          "Chris Brown",
          "Ellie Goulding",
          "Pitbull",
          "Gym Class Heroes",
          "P!nk",
          "Kelly Clarkson",
          "P!nk",
          "Katy Perry",
          "Miley Cyrus",
          "Miley Cyrus",
          "Robin Thicke",
          "Demi Lovato",
          "Kesha",
          "Calvin Harris",
          "Calvin Harris",
          "Britney Spears",
          "Macklemore & Ryan Lewis",
          "Pitbull",
          "Ne-Yo",
          "Macklemore & Ryan Lewis",
          "OneRepublic",
          "Ariana Grande",
          "Justin Timberlake",
          "will.i.am",
          "David Guetta",
          "Fergie",
          "Little Mix",
          "Justin Timberlake",
          "Emeli Sandé",
          "Demi Lovato",
          "Emeli Sandé",
          "Justin Timberlake",
          "Selena Gomez",
          "Jennifer Lopez",
          "Austin Mahone",
          "Justin Timberlake",
          "Lady Gaga",
          "Ellie Goulding",
          "Enrique Iglesias",
          "Mariah Carey",
          "Little Mix",
          "Kesha",
          "Britney Spears",
          "Kelly Clarkson",
          "Ciara",
          "Robin Thicke",
          "Pitbull",
          "Calvin Harris",
          "Pharrell Williams",
          "Katy Perry",
          "Ariana Grande",
          "Miley Cyrus",
          "Ellie Goulding",
          "Jason Derulo",
          "Christina Perri",
          "Jason Derulo",
          "OneRepublic",
          "Katy Perry",
          "Austin Mahone",
          "Fergie",
          "Beyoncé",
          "Katy Perry",
          "Lady Gaga",
          "Demi Lovato",
          "David Guetta",
          "Pharrell Williams",
          "Beyoncé",
          "Pitbull",
          "Beyoncé",
          "Nicki Minaj",
          "Mariah Carey",
          "Lily Allen",
          "Jennifer Lopez",
          "Justin Timberlake",
          "Mark Ronson",
          "Ellie Goulding",
          "Jason Derulo",
          "Flo Rida",
          "Calvin Harris",
          "Zara Larsson",
          "Ariana Grande",
          "Calvin Harris",
          "Fifth Harmony",
          "Ariana Grande",
          "Clean Bandit",
          "Meghan Trainor",
          "Beyoncé",
          "Selena Gomez",
          "David Guetta",
          "Christina Aguilera",
          "Nick Jonas",
          "Demi Lovato",
          "Macklemore & Ryan Lewis",
          "Kelly Clarkson",
          "Olly Murs",
          "Jason Derulo",
          "Selena Gomez",
          "Meghan Trainor",
          "OneRepublic",
          "Pitbull",
          "Sigala",
          "Fifth Harmony",
          "Ariana Grande",
          "Meghan Trainor",
          "Ellie Goulding",
          "Little Mix",
          "Jennifer Lopez",
          "Rudimental",
          "Robin Schulz",
          "Jennifer Lopez",
          "Madonna",
          "David Guetta",
          "Madonna",
          "Gwen Stefani",
          "Jess Glynne",
          "Pitbull",
          "David Guetta",
          "Pitbull",
          "Hilary Duff",
          "Ricky Martin",
          "Katy Perry",
          "Gwen Stefani",
          "Kelly Clarkson",
          "Enrique Iglesias",
          "Jennifer Hudson",
          "Fergie",
          "DNCE",
          "Ariana Grande",
          "Calvin Harris",
          "Lady Gaga",
          "Justin Timberlake",
          "Fifth Harmony",
          "Meghan Trainor",
          "Mike Posner",
          "Ariana Grande",
          "Hailee Steinfeld",
          "Little Mix",
          "Demi Lovato",
          "Major Lazer",
          "Meghan Trainor",
          "Major Lazer",
          "Jennifer Lopez",
          "Nick Jonas",
          "DNCE",
          "MØ",
          "Selena Gomez",
          "P!nk",
          "Meghan Trainor",
          "Selena Gomez",
          "Tove Lo",
          "Lady Gaga",
          "ZAYN",
          "Katy Perry",
          "OneRepublic",
          "Demi Lovato",
          "ZAYN",
          "Bebe Rexha",
          "Snakehips",
          "Missy Elliott",
          "Years & Years",
          "Emeli Sandé",
          "Christina Aguilera",
          "Britney Spears",
          "Gwen Stefani",
          "Nick Jonas",
          "DNCE",
          "Missy Elliott",
          "Britney Spears",
          "Charlie Puth",
          "Hilary Duff",
          "Britney Spears",
          "Janet Jackson",
          "Ariana Grande",
          "Miley Cyrus",
          "Clean Bandit",
          "ZAYN",
          "Calvin Harris",
          "DJ Khaled",
          "Kesha",
          "Camila Cabello",
          "Jonas Blue",
          "Calvin Harris",
          "Katy Perry",
          "Katy Perry",
          "Lady Gaga",
          "OneRepublic",
          "Sigala",
          "Liam Payne",
          "Robin Schulz",
          "Katy Perry",
          "DNCE",
          "Niall Horan",
          "Miley Cyrus",
          "DNCE",
          "Fifth Harmony",
          "Little Mix",
          "Charlie Puth",
          "OneRepublic",
          "Pitbull",
          "Tove Lo",
          "Nick Jonas",
          "Pitbull",
          "DNCE",
          "Calvin Harris",
          "Camila Cabello",
          "Dua Lipa",
          "Ariana Grande",
          "Dua Lipa",
          "Selena Gomez",
          "ZAYN",
          "Charlie Puth",
          "Hailee Steinfeld",
          "Demi Lovato",
          "Lady Gaga",
          "Rudimental",
          "Halsey",
          "DJ Khaled",
          "Troye Sivan",
          "Hailee Steinfeld",
          "Selena Gomez",
          "Rita Ora",
          "Justin Timberlake",
          "Nicki Minaj",
          "Harry Styles",
          "Liam Payne",
          "ZAYN",
          "Ansel Elgort",
          "Liam Payne",
          "Dua Lipa",
          "Hayley Kiyoko",
          "P!nk",
          "DNCE",
          "David Guetta",
          "Niall Horan",
          "Rita Ora",
          "Enrique Iglesias",
          "Justin Timberlake",
          "Camila Cabello",
          "Bebe Rexha",
          "Justin Timberlake",
          "Demi Lovato",
          "Selena Gomez",
          "Mabel",
          "Calvin Harris",
          "Chris Brown",
          "Mark Ronson",
          "DJ Khaled",
          "Mark Ronson"
         ],
         "xaxis": "x",
         "y": [
          80,
          79,
          77,
          77,
          73,
          73,
          73,
          72,
          71,
          70,
          69,
          69,
          68,
          66,
          65,
          64,
          63,
          63,
          62,
          62,
          62,
          62,
          62,
          61,
          61,
          59,
          58,
          56,
          55,
          52,
          33,
          81,
          79,
          76,
          76,
          75,
          73,
          73,
          72,
          72,
          72,
          71,
          69,
          69,
          68,
          67,
          67,
          66,
          65,
          64,
          64,
          64,
          63,
          63,
          63,
          61,
          60,
          59,
          59,
          58,
          52,
          50,
          38,
          38,
          31,
          28,
          27,
          25,
          7,
          80,
          76,
          74,
          74,
          73,
          72,
          71,
          68,
          67,
          66,
          65,
          65,
          59,
          54,
          0,
          88,
          81,
          78,
          78,
          77,
          76,
          76,
          75,
          74,
          72,
          71,
          70,
          70,
          70,
          69,
          69,
          68,
          68,
          68,
          67,
          65,
          63,
          60,
          60,
          60,
          60,
          58,
          57,
          57,
          54,
          54,
          52,
          52,
          52,
          51,
          50,
          46,
          45,
          45,
          43,
          41,
          35,
          80,
          79,
          78,
          75,
          72,
          71,
          68,
          68,
          67,
          66,
          66,
          65,
          65,
          65,
          65,
          65,
          63,
          61,
          59,
          56,
          56,
          52,
          50,
          38,
          37,
          28,
          0,
          82,
          79,
          77,
          77,
          77,
          77,
          76,
          76,
          75,
          75,
          73,
          72,
          72,
          72,
          72,
          72,
          70,
          70,
          70,
          69,
          69,
          69,
          69,
          68,
          67,
          67,
          67,
          66,
          66,
          65,
          65,
          65,
          64,
          62,
          60,
          55,
          54,
          54,
          52,
          52,
          52,
          50,
          46,
          45,
          44,
          42,
          41,
          39,
          36,
          34,
          18,
          0,
          81,
          80,
          80,
          80,
          79,
          79,
          79,
          78,
          78,
          78,
          77,
          75,
          73,
          73,
          73,
          72,
          72,
          72,
          72,
          71,
          71,
          70,
          70,
          69,
          67,
          66,
          66,
          66,
          65,
          65,
          64,
          63,
          58,
          58,
          57,
          54,
          53,
          50,
          50,
          48,
          47,
          44,
          41,
          36,
          34,
          31,
          80,
          78,
          78,
          78,
          78,
          77,
          77,
          75,
          75,
          75,
          73,
          72,
          71,
          70,
          70,
          69,
          69,
          68,
          66,
          64,
          62,
          62,
          59,
          59,
          59,
          57,
          54,
          54,
          53,
          51,
          43,
          86,
          85,
          84,
          84,
          84,
          83,
          83,
          83,
          82,
          81,
          80,
          80,
          78,
          76,
          76,
          76,
          75,
          74,
          74,
          73,
          72,
          72,
          72,
          72,
          67,
          67,
          67,
          66,
          66,
          65,
          64,
          64,
          64,
          62,
          57,
          57,
          57,
          44,
          97,
          86,
          84,
          81,
          75,
          70,
          69
         ],
         "yaxis": "y"
        },
        {
         "hovertemplate": "Genre=pop<br>Artist=%{x}<br>Popularity=%{y}<extra></extra>",
         "legendgroup": "pop",
         "marker": {
          "color": "#ab63fa",
          "symbol": "circle"
         },
         "mode": "markers",
         "name": "pop",
         "orientation": "v",
         "showlegend": true,
         "type": "scatter",
         "x": [
          "Bruno Mars",
          "Bruno Mars",
          "Maroon 5",
          "Bruno Mars",
          "Maroon 5",
          "Bruno Mars",
          "Bruno Mars",
          "Bruno Mars",
          "Maroon 5",
          "Taylor Swift",
          "Taylor Swift",
          "Maroon 5",
          "Owl City",
          "Bruno Mars",
          "James Arthur",
          "Taylor Swift",
          "Labrinth",
          "Maroon 5",
          "Maroon 5",
          "Sam Smith",
          "MAGIC!",
          "Taylor Swift",
          "Maroon 5",
          "Bruno Mars",
          "John Newman",
          "Michael Jackson",
          "Bruno Mars",
          "Bruno Mars",
          "Ed Sheeran",
          "Sam Smith",
          "Maroon 5",
          "Maroon 5",
          "Ed Sheeran",
          "Ed Sheeran",
          "Maroon 5",
          "Ed Sheeran",
          "Taylor Swift",
          "Ed Sheeran",
          "Bruno Mars",
          "Maroon 5",
          "Cardi B",
          "Bruno Mars",
          "Cardi B",
          "Maroon 5",
          "Bruno Mars",
          "Ed Sheeran",
          "Taylor Swift",
          "Taylor Swift",
          "Maroon 5",
          "Taylor Swift",
          "Cardi B",
          "Maroon 5",
          "Lewis Capaldi",
          "Sam Smith",
          "Ed Sheeran",
          "Ed Sheeran",
          "Ed Sheeran",
          "Maroon 5",
          "Ed Sheeran",
          "Ed Sheeran"
         ],
         "xaxis": "x",
         "y": [
          78,
          73,
          65,
          78,
          76,
          75,
          73,
          79,
          79,
          77,
          75,
          73,
          73,
          38,
          77,
          75,
          70,
          66,
          65,
          85,
          79,
          78,
          78,
          77,
          73,
          71,
          68,
          67,
          84,
          84,
          81,
          76,
          74,
          71,
          66,
          52,
          66,
          87,
          83,
          72,
          70,
          69,
          85,
          79,
          78,
          78,
          75,
          70,
          67,
          52,
          45,
          99,
          96,
          93,
          92,
          86,
          85,
          81,
          78,
          75
         ],
         "yaxis": "y"
        },
        {
         "hovertemplate": "Genre=canadian pop<br>Artist=%{x}<br>Popularity=%{y}<extra></extra>",
         "legendgroup": "canadian pop",
         "marker": {
          "color": "#FFA15A",
          "symbol": "circle"
         },
         "mode": "markers",
         "name": "canadian pop",
         "orientation": "v",
         "showlegend": true,
         "type": "scatter",
         "x": [
          "Justin Bieber",
          "Avril Lavigne",
          "Carly Rae Jepsen",
          "Justin Bieber",
          "Justin Bieber",
          "Avril Lavigne",
          "Justin Bieber",
          "Justin Bieber",
          "Justin Bieber",
          "Justin Bieber",
          "Shawn Mendes",
          "Justin Bieber",
          "Justin Bieber",
          "Justin Bieber",
          "Carly Rae Jepsen",
          "Justin Bieber",
          "Justin Bieber",
          "Justin Bieber",
          "Justin Bieber",
          "Shawn Mendes",
          "Justin Bieber",
          "Shawn Mendes",
          "Carly Rae Jepsen",
          "Shawn Mendes",
          "Carly Rae Jepsen",
          "Shawn Mendes",
          "Shawn Mendes",
          "Carly Rae Jepsen",
          "Shawn Mendes",
          "Shawn Mendes",
          "Justin Bieber",
          "Shawn Mendes",
          "Shawn Mendes",
          "Shawn Mendes"
         ],
         "xaxis": "x",
         "y": [
          77,
          74,
          76,
          72,
          71,
          61,
          61,
          83,
          81,
          79,
          78,
          72,
          68,
          67,
          66,
          64,
          63,
          60,
          83,
          78,
          72,
          65,
          63,
          57,
          46,
          84,
          81,
          69,
          84,
          83,
          77,
          75,
          71,
          95
         ],
         "yaxis": "y"
        },
        {
         "hovertemplate": "Genre=hip pop<br>Artist=%{x}<br>Popularity=%{y}<extra></extra>",
         "legendgroup": "hip pop",
         "marker": {
          "color": "#19d3f3",
          "symbol": "circle"
         },
         "mode": "markers",
         "name": "hip pop",
         "orientation": "v",
         "showlegend": true,
         "type": "scatter",
         "x": [
          "Alicia Keys",
          "Alicia Keys",
          "Alicia Keys",
          "Alicia Keys",
          "Alicia Keys",
          "Alicia Keys"
         ],
         "xaxis": "x",
         "y": [
          76,
          62,
          57,
          59,
          30,
          49
         ],
         "yaxis": "y"
        },
        {
         "hovertemplate": "Genre=barbadian pop<br>Artist=%{x}<br>Popularity=%{y}<extra></extra>",
         "legendgroup": "barbadian pop",
         "marker": {
          "color": "#FF6692",
          "symbol": "circle"
         },
         "mode": "markers",
         "name": "barbadian pop",
         "orientation": "v",
         "showlegend": true,
         "type": "scatter",
         "x": [
          "Rihanna",
          "Rihanna",
          "Rihanna",
          "Rihanna",
          "Rihanna",
          "Rihanna",
          "Rihanna",
          "Rihanna",
          "Rihanna",
          "Rihanna",
          "Rihanna",
          "Rihanna",
          "Rihanna",
          "Rihanna",
          "Rihanna"
         ],
         "xaxis": "x",
         "y": [
          73,
          57,
          69,
          61,
          58,
          54,
          68,
          61,
          57,
          42,
          80,
          61,
          80,
          78,
          82
         ],
         "yaxis": "y"
        },
        {
         "hovertemplate": "Genre=atl hip hop<br>Artist=%{x}<br>Popularity=%{y}<extra></extra>",
         "legendgroup": "atl hip hop",
         "marker": {
          "color": "#B6E880",
          "symbol": "circle"
         },
         "mode": "markers",
         "name": "atl hip hop",
         "orientation": "v",
         "showlegend": true,
         "type": "scatter",
         "x": [
          "Usher",
          "Usher",
          "T.I.",
          "T.I.",
          "Kelly Rowland"
         ],
         "xaxis": "x",
         "y": [
          72,
          52,
          49,
          49,
          28
         ],
         "yaxis": "y"
        },
        {
         "hovertemplate": "Genre=australian pop<br>Artist=%{x}<br>Popularity=%{y}<extra></extra>",
         "legendgroup": "australian pop",
         "marker": {
          "color": "#FF97FF",
          "symbol": "circle"
         },
         "mode": "markers",
         "name": "australian pop",
         "orientation": "v",
         "showlegend": true,
         "type": "scatter",
         "x": [
          "Adam Lambert",
          "Adam Lambert",
          "Jessie J",
          "Jessie J",
          "Jessie J"
         ],
         "xaxis": "x",
         "y": [
          66,
          59,
          72,
          69,
          61
         ],
         "yaxis": "y"
        },
        {
         "hovertemplate": "Genre=indie pop<br>Artist=%{x}<br>Popularity=%{y}<extra></extra>",
         "legendgroup": "indie pop",
         "marker": {
          "color": "#FECB52",
          "symbol": "circle"
         },
         "mode": "markers",
         "name": "indie pop",
         "orientation": "v",
         "showlegend": true,
         "type": "scatter",
         "x": [
          "Neon Trees",
          "Neon Trees"
         ],
         "xaxis": "x",
         "y": [
          65,
          74
         ],
         "yaxis": "y"
        },
        {
         "hovertemplate": "Genre=art pop<br>Artist=%{x}<br>Popularity=%{y}<extra></extra>",
         "legendgroup": "art pop",
         "marker": {
          "color": "#636efa",
          "symbol": "circle"
         },
         "mode": "markers",
         "name": "art pop",
         "orientation": "v",
         "showlegend": true,
         "type": "scatter",
         "x": [
          "Florence + The Machine",
          "Lana Del Rey",
          "Lorde",
          "Florence + The Machine",
          "Florence + The Machine",
          "Lana Del Rey",
          "Lana Del Rey",
          "Lana Del Rey"
         ],
         "xaxis": "x",
         "y": [
          58,
          74,
          73,
          47,
          57,
          72,
          67,
          54
         ],
         "yaxis": "y"
        },
        {
         "hovertemplate": "Genre=colombian pop<br>Artist=%{x}<br>Popularity=%{y}<extra></extra>",
         "legendgroup": "colombian pop",
         "marker": {
          "color": "#EF553B",
          "symbol": "circle"
         },
         "mode": "markers",
         "name": "colombian pop",
         "orientation": "v",
         "showlegend": true,
         "type": "scatter",
         "x": [
          "Shakira",
          "Shakira",
          "Shakira"
         ],
         "xaxis": "x",
         "y": [
          56,
          62,
          50
         ],
         "yaxis": "y"
        },
        {
         "hovertemplate": "Genre=big room<br>Artist=%{x}<br>Popularity=%{y}<extra></extra>",
         "legendgroup": "big room",
         "marker": {
          "color": "#00cc96",
          "symbol": "circle"
         },
         "mode": "markers",
         "name": "big room",
         "orientation": "v",
         "showlegend": true,
         "type": "scatter",
         "x": [
          "Martin Solveig",
          "Avicii",
          "Swedish House Mafia",
          "Avicii",
          "Avicii",
          "Alesso",
          "Martin Garrix",
          "Martin Garrix",
          "Galantis",
          "R3HAB"
         ],
         "xaxis": "x",
         "y": [
          0,
          85,
          78,
          78,
          65,
          56,
          81,
          76,
          55,
          82
         ],
         "yaxis": "y"
        },
        {
         "hovertemplate": "Genre=british soul<br>Artist=%{x}<br>Popularity=%{y}<extra></extra>",
         "legendgroup": "british soul",
         "marker": {
          "color": "#ab63fa",
          "symbol": "circle"
         },
         "mode": "markers",
         "name": "british soul",
         "orientation": "v",
         "showlegend": true,
         "type": "scatter",
         "x": [
          "Adele",
          "Adele",
          "Adele",
          "Adele",
          "Paloma Faith",
          "Adele",
          "Adele",
          "Adele",
          "Adele",
          "Adele",
          "Adele"
         ],
         "xaxis": "x",
         "y": [
          80,
          76,
          76,
          73,
          69,
          71,
          61,
          58,
          0,
          71,
          49
         ],
         "yaxis": "y"
        },
        {
         "hovertemplate": "Genre=chicago rap<br>Artist=%{x}<br>Popularity=%{y}<extra></extra>",
         "legendgroup": "chicago rap",
         "marker": {
          "color": "#FFA15A",
          "symbol": "circle"
         },
         "mode": "markers",
         "name": "chicago rap",
         "orientation": "v",
         "showlegend": true,
         "type": "scatter",
         "x": [
          "Kanye West"
         ],
         "xaxis": "x",
         "y": [
          73
         ],
         "yaxis": "y"
        },
        {
         "hovertemplate": "Genre=acoustic pop<br>Artist=%{x}<br>Popularity=%{y}<extra></extra>",
         "legendgroup": "acoustic pop",
         "marker": {
          "color": "#19d3f3",
          "symbol": "circle"
         },
         "mode": "markers",
         "name": "acoustic pop",
         "orientation": "v",
         "showlegend": true,
         "type": "scatter",
         "x": [
          "Sleeping At Last",
          "Sara Bareilles"
         ],
         "xaxis": "x",
         "y": [
          46,
          71
         ],
         "yaxis": "y"
        },
        {
         "hovertemplate": "Genre=permanent wave<br>Artist=%{x}<br>Popularity=%{y}<extra></extra>",
         "legendgroup": "permanent wave",
         "marker": {
          "color": "#FF6692",
          "symbol": "circle"
         },
         "mode": "markers",
         "name": "permanent wave",
         "orientation": "v",
         "showlegend": true,
         "type": "scatter",
         "x": [
          "Coldplay",
          "Coldplay",
          "Coldplay",
          "Coldplay"
         ],
         "xaxis": "x",
         "y": [
          79,
          55,
          60,
          41
         ],
         "yaxis": "y"
        },
        {
         "hovertemplate": "Genre=boy band<br>Artist=%{x}<br>Popularity=%{y}<extra></extra>",
         "legendgroup": "boy band",
         "marker": {
          "color": "#B6E880",
          "symbol": "circle"
         },
         "mode": "markers",
         "name": "boy band",
         "orientation": "v",
         "showlegend": true,
         "type": "scatter",
         "x": [
          "One Direction",
          "The Wanted",
          "One Direction",
          "One Direction",
          "One Direction",
          "The Wanted",
          "The Wanted",
          "Jonas Brothers",
          "5 Seconds of Summer",
          "One Direction",
          "One Direction",
          "One Direction",
          "CNCO",
          "Jonas Brothers",
          "Jonas Brothers"
         ],
         "xaxis": "x",
         "y": [
          78,
          72,
          81,
          73,
          73,
          62,
          56,
          52,
          71,
          77,
          55,
          51,
          71,
          87,
          86
         ],
         "yaxis": "y"
        },
        {
         "hovertemplate": "Genre=baroque pop<br>Artist=%{x}<br>Popularity=%{y}<extra></extra>",
         "legendgroup": "baroque pop",
         "marker": {
          "color": "#FF97FF",
          "symbol": "circle"
         },
         "mode": "markers",
         "name": "baroque pop",
         "orientation": "v",
         "showlegend": true,
         "type": "scatter",
         "x": [
          "fun.",
          "fun."
         ],
         "xaxis": "x",
         "y": [
          72,
          63
         ],
         "yaxis": "y"
        },
        {
         "hovertemplate": "Genre=celtic rock<br>Artist=%{x}<br>Popularity=%{y}<extra></extra>",
         "legendgroup": "celtic rock",
         "marker": {
          "color": "#FECB52",
          "symbol": "circle"
         },
         "mode": "markers",
         "name": "celtic rock",
         "orientation": "v",
         "showlegend": true,
         "type": "scatter",
         "x": [
          "The Script"
         ],
         "xaxis": "x",
         "y": [
          80
         ],
         "yaxis": "y"
        },
        {
         "hovertemplate": "Genre=electro<br>Artist=%{x}<br>Popularity=%{y}<extra></extra>",
         "legendgroup": "electro",
         "marker": {
          "color": "#636efa",
          "symbol": "circle"
         },
         "mode": "markers",
         "name": "electro",
         "orientation": "v",
         "showlegend": true,
         "type": "scatter",
         "x": [
          "Daft Punk",
          "Daft Punk"
         ],
         "xaxis": "x",
         "y": [
          77,
          72
         ],
         "yaxis": "y"
        },
        {
         "hovertemplate": "Genre=complextro<br>Artist=%{x}<br>Popularity=%{y}<extra></extra>",
         "legendgroup": "complextro",
         "marker": {
          "color": "#EF553B",
          "symbol": "circle"
         },
         "mode": "markers",
         "name": "complextro",
         "orientation": "v",
         "showlegend": true,
         "type": "scatter",
         "x": [
          "Zedd",
          "Zedd",
          "Zedd",
          "Zedd",
          "Zedd",
          "Zedd"
         ],
         "xaxis": "x",
         "y": [
          75,
          64,
          68,
          51,
          80,
          66
         ],
         "yaxis": "y"
        },
        {
         "hovertemplate": "Genre=canadian hip hop<br>Artist=%{x}<br>Popularity=%{y}<extra></extra>",
         "legendgroup": "canadian hip hop",
         "marker": {
          "color": "#00cc96",
          "symbol": "circle"
         },
         "mode": "markers",
         "name": "canadian hip hop",
         "orientation": "v",
         "showlegend": true,
         "type": "scatter",
         "x": [
          "Drake",
          "Drake"
         ],
         "xaxis": "x",
         "y": [
          73,
          74
         ],
         "yaxis": "y"
        },
        {
         "hovertemplate": "Genre=candy pop<br>Artist=%{x}<br>Popularity=%{y}<extra></extra>",
         "legendgroup": "candy pop",
         "marker": {
          "color": "#ab63fa",
          "symbol": "circle"
         },
         "mode": "markers",
         "name": "candy pop",
         "orientation": "v",
         "showlegend": true,
         "type": "scatter",
         "x": [
          "Icona Pop",
          "Charli XCX"
         ],
         "xaxis": "x",
         "y": [
          67,
          50
         ],
         "yaxis": "y"
        },
        {
         "hovertemplate": "Genre=alaska indie<br>Artist=%{x}<br>Popularity=%{y}<extra></extra>",
         "legendgroup": "alaska indie",
         "marker": {
          "color": "#FFA15A",
          "symbol": "circle"
         },
         "mode": "markers",
         "name": "alaska indie",
         "orientation": "v",
         "showlegend": true,
         "type": "scatter",
         "x": [
          "Jewel"
         ],
         "xaxis": "x",
         "y": [
          36
         ],
         "yaxis": "y"
        },
        {
         "hovertemplate": "Genre=folk-pop<br>Artist=%{x}<br>Popularity=%{y}<extra></extra>",
         "legendgroup": "folk-pop",
         "marker": {
          "color": "#19d3f3",
          "symbol": "circle"
         },
         "mode": "markers",
         "name": "folk-pop",
         "orientation": "v",
         "showlegend": true,
         "type": "scatter",
         "x": [
          "Passenger",
          "Passenger"
         ],
         "xaxis": "x",
         "y": [
          77,
          36
         ],
         "yaxis": "y"
        },
        {
         "hovertemplate": "Genre=metropopolis<br>Artist=%{x}<br>Popularity=%{y}<extra></extra>",
         "legendgroup": "metropopolis",
         "marker": {
          "color": "#FF6692",
          "symbol": "circle"
         },
         "mode": "markers",
         "name": "metropopolis",
         "orientation": "v",
         "showlegend": true,
         "type": "scatter",
         "x": [
          "Bastille"
         ],
         "xaxis": "x",
         "y": [
          73
         ],
         "yaxis": "y"
        },
        {
         "hovertemplate": "Genre=house<br>Artist=%{x}<br>Popularity=%{y}<extra></extra>",
         "legendgroup": "house",
         "marker": {
          "color": "#B6E880",
          "symbol": "circle"
         },
         "mode": "markers",
         "name": "house",
         "orientation": "v",
         "showlegend": true,
         "type": "scatter",
         "x": [
          "Disclosure"
         ],
         "xaxis": "x",
         "y": [
          72
         ],
         "yaxis": "y"
        },
        {
         "hovertemplate": "Genre=australian hip hop<br>Artist=%{x}<br>Popularity=%{y}<extra></extra>",
         "legendgroup": "australian hip hop",
         "marker": {
          "color": "#FF97FF",
          "symbol": "circle"
         },
         "mode": "markers",
         "name": "australian hip hop",
         "orientation": "v",
         "showlegend": true,
         "type": "scatter",
         "x": [
          "Iggy Azalea"
         ],
         "xaxis": "x",
         "y": [
          70
         ],
         "yaxis": "y"
        },
        {
         "hovertemplate": "Genre=electropop<br>Artist=%{x}<br>Popularity=%{y}<extra></extra>",
         "legendgroup": "electropop",
         "marker": {
          "color": "#FECB52",
          "symbol": "circle"
         },
         "mode": "markers",
         "name": "electropop",
         "orientation": "v",
         "showlegend": true,
         "type": "scatter",
         "x": [
          "The Chainsmokers",
          "The Chainsmokers",
          "BØRNS",
          "The Chainsmokers",
          "The Chainsmokers",
          "The Chainsmokers",
          "The Chainsmokers",
          "The Chainsmokers",
          "The Chainsmokers",
          "SHAED",
          "The Chainsmokers",
          "The Chainsmokers",
          "The Chainsmokers"
         ],
         "xaxis": "x",
         "y": [
          65,
          81,
          76,
          74,
          72,
          86,
          78,
          76,
          76,
          92,
          83,
          81,
          67
         ],
         "yaxis": "y"
        },
        {
         "hovertemplate": "Genre=australian dance<br>Artist=%{x}<br>Popularity=%{y}<extra></extra>",
         "legendgroup": "australian dance",
         "marker": {
          "color": "#636efa",
          "symbol": "circle"
         },
         "mode": "markers",
         "name": "australian dance",
         "orientation": "v",
         "showlegend": true,
         "type": "scatter",
         "x": [
          "Sia",
          "Sia",
          "Sia",
          "Sia",
          "Sia",
          "Sia"
         ],
         "xaxis": "x",
         "y": [
          56,
          73,
          61,
          64,
          76,
          44
         ],
         "yaxis": "y"
        },
        {
         "hovertemplate": "Genre=hollywood<br>Artist=%{x}<br>Popularity=%{y}<extra></extra>",
         "legendgroup": "hollywood",
         "marker": {
          "color": "#EF553B",
          "symbol": "circle"
         },
         "mode": "markers",
         "name": "hollywood",
         "orientation": "v",
         "showlegend": true,
         "type": "scatter",
         "x": [
          "Lea Michele"
         ],
         "xaxis": "x",
         "y": [
          37
         ],
         "yaxis": "y"
        },
        {
         "hovertemplate": "Genre=canadian contemporary r&b<br>Artist=%{x}<br>Popularity=%{y}<extra></extra>",
         "legendgroup": "canadian contemporary r&b",
         "marker": {
          "color": "#00cc96",
          "symbol": "circle"
         },
         "mode": "markers",
         "name": "canadian contemporary r&b",
         "orientation": "v",
         "showlegend": true,
         "type": "scatter",
         "x": [
          "The Weeknd",
          "The Weeknd",
          "Alessia Cara",
          "The Weeknd",
          "Alessia Cara",
          "Alessia Cara",
          "The Weeknd",
          "The Weeknd",
          "Alessia Cara"
         ],
         "xaxis": "x",
         "y": [
          84,
          79,
          68,
          84,
          79,
          68,
          85,
          81,
          71
         ],
         "yaxis": "y"
        },
        {
         "hovertemplate": "Genre=irish singer-songwriter<br>Artist=%{x}<br>Popularity=%{y}<extra></extra>",
         "legendgroup": "irish singer-songwriter",
         "marker": {
          "color": "#ab63fa",
          "symbol": "circle"
         },
         "mode": "markers",
         "name": "irish singer-songwriter",
         "orientation": "v",
         "showlegend": true,
         "type": "scatter",
         "x": [
          "Hozier"
         ],
         "xaxis": "x",
         "y": [
          81
         ],
         "yaxis": "y"
        },
        {
         "hovertemplate": "Genre=tropical house<br>Artist=%{x}<br>Popularity=%{y}<extra></extra>",
         "legendgroup": "tropical house",
         "marker": {
          "color": "#FFA15A",
          "symbol": "circle"
         },
         "mode": "markers",
         "name": "tropical house",
         "orientation": "v",
         "showlegend": true,
         "type": "scatter",
         "x": [
          "Mr. Probz",
          "Naughty Boy",
          "Naughty Boy"
         ],
         "xaxis": "x",
         "y": [
          77,
          69,
          69
         ],
         "yaxis": "y"
        },
        {
         "hovertemplate": "Genre=belgian edm<br>Artist=%{x}<br>Popularity=%{y}<extra></extra>",
         "legendgroup": "belgian edm",
         "marker": {
          "color": "#19d3f3",
          "symbol": "circle"
         },
         "mode": "markers",
         "name": "belgian edm",
         "orientation": "v",
         "showlegend": true,
         "type": "scatter",
         "x": [
          "Lost Frequencies",
          "Lost Frequencies"
         ],
         "xaxis": "x",
         "y": [
          61,
          59
         ],
         "yaxis": "y"
        },
        {
         "hovertemplate": "Genre=french indie pop<br>Artist=%{x}<br>Popularity=%{y}<extra></extra>",
         "legendgroup": "french indie pop",
         "marker": {
          "color": "#FF6692",
          "symbol": "circle"
         },
         "mode": "markers",
         "name": "french indie pop",
         "orientation": "v",
         "showlegend": true,
         "type": "scatter",
         "x": [
          "Lilly Wood and The Prick"
         ],
         "xaxis": "x",
         "y": [
          58
         ],
         "yaxis": "y"
        },
        {
         "hovertemplate": "Genre=hip hop<br>Artist=%{x}<br>Popularity=%{y}<extra></extra>",
         "legendgroup": "hip hop",
         "marker": {
          "color": "#B6E880",
          "symbol": "circle"
         },
         "mode": "markers",
         "name": "hip hop",
         "orientation": "v",
         "showlegend": true,
         "type": "scatter",
         "x": [
          "Wiz Khalifa",
          "G-Eazy",
          "G-Eazy",
          "N.E.R.D"
         ],
         "xaxis": "x",
         "y": [
          56,
          78,
          78,
          68
         ],
         "yaxis": "y"
        },
        {
         "hovertemplate": "Genre=danish pop<br>Artist=%{x}<br>Popularity=%{y}<extra></extra>",
         "legendgroup": "danish pop",
         "marker": {
          "color": "#FF97FF",
          "symbol": "circle"
         },
         "mode": "markers",
         "name": "danish pop",
         "orientation": "v",
         "showlegend": true,
         "type": "scatter",
         "x": [
          "Lukas Graham"
         ],
         "xaxis": "x",
         "y": [
          80
         ],
         "yaxis": "y"
        },
        {
         "hovertemplate": "Genre=latin<br>Artist=%{x}<br>Popularity=%{y}<extra></extra>",
         "legendgroup": "latin",
         "marker": {
          "color": "#FECB52",
          "symbol": "circle"
         },
         "mode": "markers",
         "name": "latin",
         "orientation": "v",
         "showlegend": true,
         "type": "scatter",
         "x": [
          "Joey Montana",
          "Luis Fonsi",
          "J Balvin",
          "Daddy Yankee"
         ],
         "xaxis": "x",
         "y": [
          29,
          76,
          68,
          76
         ],
         "yaxis": "y"
        },
        {
         "hovertemplate": "Genre=canadian latin<br>Artist=%{x}<br>Popularity=%{y}<extra></extra>",
         "legendgroup": "canadian latin",
         "marker": {
          "color": "#636efa",
          "symbol": "circle"
         },
         "mode": "markers",
         "name": "canadian latin",
         "orientation": "v",
         "showlegend": true,
         "type": "scatter",
         "x": [
          "Nelly Furtado"
         ],
         "xaxis": "x",
         "y": [
          18
         ],
         "yaxis": "y"
        },
        {
         "hovertemplate": "Genre=electronic trap<br>Artist=%{x}<br>Popularity=%{y}<extra></extra>",
         "legendgroup": "electronic trap",
         "marker": {
          "color": "#EF553B",
          "symbol": "circle"
         },
         "mode": "markers",
         "name": "electronic trap",
         "orientation": "v",
         "showlegend": true,
         "type": "scatter",
         "x": [
          "DJ Snake",
          "DJ Snake"
         ],
         "xaxis": "x",
         "y": [
          82,
          77
         ],
         "yaxis": "y"
        },
        {
         "hovertemplate": "Genre=edm<br>Artist=%{x}<br>Popularity=%{y}<extra></extra>",
         "legendgroup": "edm",
         "marker": {
          "color": "#00cc96",
          "symbol": "circle"
         },
         "mode": "markers",
         "name": "edm",
         "orientation": "v",
         "showlegend": true,
         "type": "scatter",
         "x": [
          "Kygo",
          "Kygo",
          "Silk City",
          "Kygo",
          "Kygo"
         ],
         "xaxis": "x",
         "y": [
          79,
          71,
          82,
          71,
          88
         ],
         "yaxis": "y"
        },
        {
         "hovertemplate": "Genre=electro house<br>Artist=%{x}<br>Popularity=%{y}<extra></extra>",
         "legendgroup": "electro house",
         "marker": {
          "color": "#ab63fa",
          "symbol": "circle"
         },
         "mode": "markers",
         "name": "electro house",
         "orientation": "v",
         "showlegend": true,
         "type": "scatter",
         "x": [
          "Alan Walker"
         ],
         "xaxis": "x",
         "y": [
          70
         ],
         "yaxis": "y"
        },
        {
         "hovertemplate": "Genre=downtempo<br>Artist=%{x}<br>Popularity=%{y}<extra></extra>",
         "legendgroup": "downtempo",
         "marker": {
          "color": "#FFA15A",
          "symbol": "circle"
         },
         "mode": "markers",
         "name": "downtempo",
         "orientation": "v",
         "showlegend": true,
         "type": "scatter",
         "x": [
          "Cashmere Cat",
          "Cashmere Cat"
         ],
         "xaxis": "x",
         "y": [
          59,
          64
         ],
         "yaxis": "y"
        },
        {
         "hovertemplate": "Genre=brostep<br>Artist=%{x}<br>Popularity=%{y}<extra></extra>",
         "legendgroup": "brostep",
         "marker": {
          "color": "#19d3f3",
          "symbol": "circle"
         },
         "mode": "markers",
         "name": "brostep",
         "orientation": "v",
         "showlegend": true,
         "type": "scatter",
         "x": [
          "Marshmello",
          "Marshmello"
         ],
         "xaxis": "x",
         "y": [
          82,
          90
         ],
         "yaxis": "y"
        },
        {
         "hovertemplate": "Genre=contemporary country<br>Artist=%{x}<br>Popularity=%{y}<extra></extra>",
         "legendgroup": "contemporary country",
         "marker": {
          "color": "#FF6692",
          "symbol": "circle"
         },
         "mode": "markers",
         "name": "contemporary country",
         "orientation": "v",
         "showlegend": true,
         "type": "scatter",
         "x": [
          "Dan + Shay"
         ],
         "xaxis": "x",
         "y": [
          76
         ],
         "yaxis": "y"
        },
        {
         "hovertemplate": "Genre=moroccan pop<br>Artist=%{x}<br>Popularity=%{y}<extra></extra>",
         "legendgroup": "moroccan pop",
         "marker": {
          "color": "#B6E880",
          "symbol": "circle"
         },
         "mode": "markers",
         "name": "moroccan pop",
         "orientation": "v",
         "showlegend": true,
         "type": "scatter",
         "x": [
          "RedOne"
         ],
         "xaxis": "x",
         "y": [
          53
         ],
         "yaxis": "y"
        },
        {
         "hovertemplate": "Genre=escape room<br>Artist=%{x}<br>Popularity=%{y}<extra></extra>",
         "legendgroup": "escape room",
         "marker": {
          "color": "#FF97FF",
          "symbol": "circle"
         },
         "mode": "markers",
         "name": "escape room",
         "orientation": "v",
         "showlegend": true,
         "type": "scatter",
         "x": [
          "Lizzo",
          "Lizzo"
         ],
         "xaxis": "x",
         "y": [
          90,
          90
         ],
         "yaxis": "y"
        },
        {
         "hovertemplate": "Genre=alternative r&b<br>Artist=%{x}<br>Popularity=%{y}<extra></extra>",
         "legendgroup": "alternative r&b",
         "marker": {
          "color": "#FECB52",
          "symbol": "circle"
         },
         "mode": "markers",
         "name": "alternative r&b",
         "orientation": "v",
         "showlegend": true,
         "type": "scatter",
         "x": [
          "Khalid"
         ],
         "xaxis": "x",
         "y": [
          84
         ],
         "yaxis": "y"
        }
       ],
       "layout": {
        "legend": {
         "title": {
          "text": "Genre"
         },
         "tracegroupgap": 0
        },
        "margin": {
         "t": 60
        },
        "template": {
         "data": {
          "bar": [
           {
            "error_x": {
             "color": "#2a3f5f"
            },
            "error_y": {
             "color": "#2a3f5f"
            },
            "marker": {
             "line": {
              "color": "#E5ECF6",
              "width": 0.5
             }
            },
            "type": "bar"
           }
          ],
          "barpolar": [
           {
            "marker": {
             "line": {
              "color": "#E5ECF6",
              "width": 0.5
             }
            },
            "type": "barpolar"
           }
          ],
          "carpet": [
           {
            "aaxis": {
             "endlinecolor": "#2a3f5f",
             "gridcolor": "white",
             "linecolor": "white",
             "minorgridcolor": "white",
             "startlinecolor": "#2a3f5f"
            },
            "baxis": {
             "endlinecolor": "#2a3f5f",
             "gridcolor": "white",
             "linecolor": "white",
             "minorgridcolor": "white",
             "startlinecolor": "#2a3f5f"
            },
            "type": "carpet"
           }
          ],
          "choropleth": [
           {
            "colorbar": {
             "outlinewidth": 0,
             "ticks": ""
            },
            "type": "choropleth"
           }
          ],
          "contour": [
           {
            "colorbar": {
             "outlinewidth": 0,
             "ticks": ""
            },
            "colorscale": [
             [
              0,
              "#0d0887"
             ],
             [
              0.1111111111111111,
              "#46039f"
             ],
             [
              0.2222222222222222,
              "#7201a8"
             ],
             [
              0.3333333333333333,
              "#9c179e"
             ],
             [
              0.4444444444444444,
              "#bd3786"
             ],
             [
              0.5555555555555556,
              "#d8576b"
             ],
             [
              0.6666666666666666,
              "#ed7953"
             ],
             [
              0.7777777777777778,
              "#fb9f3a"
             ],
             [
              0.8888888888888888,
              "#fdca26"
             ],
             [
              1,
              "#f0f921"
             ]
            ],
            "type": "contour"
           }
          ],
          "contourcarpet": [
           {
            "colorbar": {
             "outlinewidth": 0,
             "ticks": ""
            },
            "type": "contourcarpet"
           }
          ],
          "heatmap": [
           {
            "colorbar": {
             "outlinewidth": 0,
             "ticks": ""
            },
            "colorscale": [
             [
              0,
              "#0d0887"
             ],
             [
              0.1111111111111111,
              "#46039f"
             ],
             [
              0.2222222222222222,
              "#7201a8"
             ],
             [
              0.3333333333333333,
              "#9c179e"
             ],
             [
              0.4444444444444444,
              "#bd3786"
             ],
             [
              0.5555555555555556,
              "#d8576b"
             ],
             [
              0.6666666666666666,
              "#ed7953"
             ],
             [
              0.7777777777777778,
              "#fb9f3a"
             ],
             [
              0.8888888888888888,
              "#fdca26"
             ],
             [
              1,
              "#f0f921"
             ]
            ],
            "type": "heatmap"
           }
          ],
          "heatmapgl": [
           {
            "colorbar": {
             "outlinewidth": 0,
             "ticks": ""
            },
            "colorscale": [
             [
              0,
              "#0d0887"
             ],
             [
              0.1111111111111111,
              "#46039f"
             ],
             [
              0.2222222222222222,
              "#7201a8"
             ],
             [
              0.3333333333333333,
              "#9c179e"
             ],
             [
              0.4444444444444444,
              "#bd3786"
             ],
             [
              0.5555555555555556,
              "#d8576b"
             ],
             [
              0.6666666666666666,
              "#ed7953"
             ],
             [
              0.7777777777777778,
              "#fb9f3a"
             ],
             [
              0.8888888888888888,
              "#fdca26"
             ],
             [
              1,
              "#f0f921"
             ]
            ],
            "type": "heatmapgl"
           }
          ],
          "histogram": [
           {
            "marker": {
             "colorbar": {
              "outlinewidth": 0,
              "ticks": ""
             }
            },
            "type": "histogram"
           }
          ],
          "histogram2d": [
           {
            "colorbar": {
             "outlinewidth": 0,
             "ticks": ""
            },
            "colorscale": [
             [
              0,
              "#0d0887"
             ],
             [
              0.1111111111111111,
              "#46039f"
             ],
             [
              0.2222222222222222,
              "#7201a8"
             ],
             [
              0.3333333333333333,
              "#9c179e"
             ],
             [
              0.4444444444444444,
              "#bd3786"
             ],
             [
              0.5555555555555556,
              "#d8576b"
             ],
             [
              0.6666666666666666,
              "#ed7953"
             ],
             [
              0.7777777777777778,
              "#fb9f3a"
             ],
             [
              0.8888888888888888,
              "#fdca26"
             ],
             [
              1,
              "#f0f921"
             ]
            ],
            "type": "histogram2d"
           }
          ],
          "histogram2dcontour": [
           {
            "colorbar": {
             "outlinewidth": 0,
             "ticks": ""
            },
            "colorscale": [
             [
              0,
              "#0d0887"
             ],
             [
              0.1111111111111111,
              "#46039f"
             ],
             [
              0.2222222222222222,
              "#7201a8"
             ],
             [
              0.3333333333333333,
              "#9c179e"
             ],
             [
              0.4444444444444444,
              "#bd3786"
             ],
             [
              0.5555555555555556,
              "#d8576b"
             ],
             [
              0.6666666666666666,
              "#ed7953"
             ],
             [
              0.7777777777777778,
              "#fb9f3a"
             ],
             [
              0.8888888888888888,
              "#fdca26"
             ],
             [
              1,
              "#f0f921"
             ]
            ],
            "type": "histogram2dcontour"
           }
          ],
          "mesh3d": [
           {
            "colorbar": {
             "outlinewidth": 0,
             "ticks": ""
            },
            "type": "mesh3d"
           }
          ],
          "parcoords": [
           {
            "line": {
             "colorbar": {
              "outlinewidth": 0,
              "ticks": ""
             }
            },
            "type": "parcoords"
           }
          ],
          "pie": [
           {
            "automargin": true,
            "type": "pie"
           }
          ],
          "scatter": [
           {
            "marker": {
             "colorbar": {
              "outlinewidth": 0,
              "ticks": ""
             }
            },
            "type": "scatter"
           }
          ],
          "scatter3d": [
           {
            "line": {
             "colorbar": {
              "outlinewidth": 0,
              "ticks": ""
             }
            },
            "marker": {
             "colorbar": {
              "outlinewidth": 0,
              "ticks": ""
             }
            },
            "type": "scatter3d"
           }
          ],
          "scattercarpet": [
           {
            "marker": {
             "colorbar": {
              "outlinewidth": 0,
              "ticks": ""
             }
            },
            "type": "scattercarpet"
           }
          ],
          "scattergeo": [
           {
            "marker": {
             "colorbar": {
              "outlinewidth": 0,
              "ticks": ""
             }
            },
            "type": "scattergeo"
           }
          ],
          "scattergl": [
           {
            "marker": {
             "colorbar": {
              "outlinewidth": 0,
              "ticks": ""
             }
            },
            "type": "scattergl"
           }
          ],
          "scattermapbox": [
           {
            "marker": {
             "colorbar": {
              "outlinewidth": 0,
              "ticks": ""
             }
            },
            "type": "scattermapbox"
           }
          ],
          "scatterpolar": [
           {
            "marker": {
             "colorbar": {
              "outlinewidth": 0,
              "ticks": ""
             }
            },
            "type": "scatterpolar"
           }
          ],
          "scatterpolargl": [
           {
            "marker": {
             "colorbar": {
              "outlinewidth": 0,
              "ticks": ""
             }
            },
            "type": "scatterpolargl"
           }
          ],
          "scatterternary": [
           {
            "marker": {
             "colorbar": {
              "outlinewidth": 0,
              "ticks": ""
             }
            },
            "type": "scatterternary"
           }
          ],
          "surface": [
           {
            "colorbar": {
             "outlinewidth": 0,
             "ticks": ""
            },
            "colorscale": [
             [
              0,
              "#0d0887"
             ],
             [
              0.1111111111111111,
              "#46039f"
             ],
             [
              0.2222222222222222,
              "#7201a8"
             ],
             [
              0.3333333333333333,
              "#9c179e"
             ],
             [
              0.4444444444444444,
              "#bd3786"
             ],
             [
              0.5555555555555556,
              "#d8576b"
             ],
             [
              0.6666666666666666,
              "#ed7953"
             ],
             [
              0.7777777777777778,
              "#fb9f3a"
             ],
             [
              0.8888888888888888,
              "#fdca26"
             ],
             [
              1,
              "#f0f921"
             ]
            ],
            "type": "surface"
           }
          ],
          "table": [
           {
            "cells": {
             "fill": {
              "color": "#EBF0F8"
             },
             "line": {
              "color": "white"
             }
            },
            "header": {
             "fill": {
              "color": "#C8D4E3"
             },
             "line": {
              "color": "white"
             }
            },
            "type": "table"
           }
          ]
         },
         "layout": {
          "annotationdefaults": {
           "arrowcolor": "#2a3f5f",
           "arrowhead": 0,
           "arrowwidth": 1
          },
          "autotypenumbers": "strict",
          "coloraxis": {
           "colorbar": {
            "outlinewidth": 0,
            "ticks": ""
           }
          },
          "colorscale": {
           "diverging": [
            [
             0,
             "#8e0152"
            ],
            [
             0.1,
             "#c51b7d"
            ],
            [
             0.2,
             "#de77ae"
            ],
            [
             0.3,
             "#f1b6da"
            ],
            [
             0.4,
             "#fde0ef"
            ],
            [
             0.5,
             "#f7f7f7"
            ],
            [
             0.6,
             "#e6f5d0"
            ],
            [
             0.7,
             "#b8e186"
            ],
            [
             0.8,
             "#7fbc41"
            ],
            [
             0.9,
             "#4d9221"
            ],
            [
             1,
             "#276419"
            ]
           ],
           "sequential": [
            [
             0,
             "#0d0887"
            ],
            [
             0.1111111111111111,
             "#46039f"
            ],
            [
             0.2222222222222222,
             "#7201a8"
            ],
            [
             0.3333333333333333,
             "#9c179e"
            ],
            [
             0.4444444444444444,
             "#bd3786"
            ],
            [
             0.5555555555555556,
             "#d8576b"
            ],
            [
             0.6666666666666666,
             "#ed7953"
            ],
            [
             0.7777777777777778,
             "#fb9f3a"
            ],
            [
             0.8888888888888888,
             "#fdca26"
            ],
            [
             1,
             "#f0f921"
            ]
           ],
           "sequentialminus": [
            [
             0,
             "#0d0887"
            ],
            [
             0.1111111111111111,
             "#46039f"
            ],
            [
             0.2222222222222222,
             "#7201a8"
            ],
            [
             0.3333333333333333,
             "#9c179e"
            ],
            [
             0.4444444444444444,
             "#bd3786"
            ],
            [
             0.5555555555555556,
             "#d8576b"
            ],
            [
             0.6666666666666666,
             "#ed7953"
            ],
            [
             0.7777777777777778,
             "#fb9f3a"
            ],
            [
             0.8888888888888888,
             "#fdca26"
            ],
            [
             1,
             "#f0f921"
            ]
           ]
          },
          "colorway": [
           "#636efa",
           "#EF553B",
           "#00cc96",
           "#ab63fa",
           "#FFA15A",
           "#19d3f3",
           "#FF6692",
           "#B6E880",
           "#FF97FF",
           "#FECB52"
          ],
          "font": {
           "color": "#2a3f5f"
          },
          "geo": {
           "bgcolor": "white",
           "lakecolor": "white",
           "landcolor": "#E5ECF6",
           "showlakes": true,
           "showland": true,
           "subunitcolor": "white"
          },
          "hoverlabel": {
           "align": "left"
          },
          "hovermode": "closest",
          "mapbox": {
           "style": "light"
          },
          "paper_bgcolor": "white",
          "plot_bgcolor": "#E5ECF6",
          "polar": {
           "angularaxis": {
            "gridcolor": "white",
            "linecolor": "white",
            "ticks": ""
           },
           "bgcolor": "#E5ECF6",
           "radialaxis": {
            "gridcolor": "white",
            "linecolor": "white",
            "ticks": ""
           }
          },
          "scene": {
           "xaxis": {
            "backgroundcolor": "#E5ECF6",
            "gridcolor": "white",
            "gridwidth": 2,
            "linecolor": "white",
            "showbackground": true,
            "ticks": "",
            "zerolinecolor": "white"
           },
           "yaxis": {
            "backgroundcolor": "#E5ECF6",
            "gridcolor": "white",
            "gridwidth": 2,
            "linecolor": "white",
            "showbackground": true,
            "ticks": "",
            "zerolinecolor": "white"
           },
           "zaxis": {
            "backgroundcolor": "#E5ECF6",
            "gridcolor": "white",
            "gridwidth": 2,
            "linecolor": "white",
            "showbackground": true,
            "ticks": "",
            "zerolinecolor": "white"
           }
          },
          "shapedefaults": {
           "line": {
            "color": "#2a3f5f"
           }
          },
          "ternary": {
           "aaxis": {
            "gridcolor": "white",
            "linecolor": "white",
            "ticks": ""
           },
           "baxis": {
            "gridcolor": "white",
            "linecolor": "white",
            "ticks": ""
           },
           "bgcolor": "#E5ECF6",
           "caxis": {
            "gridcolor": "white",
            "linecolor": "white",
            "ticks": ""
           }
          },
          "title": {
           "x": 0.05
          },
          "xaxis": {
           "automargin": true,
           "gridcolor": "white",
           "linecolor": "white",
           "ticks": "",
           "title": {
            "standoff": 15
           },
           "zerolinecolor": "white",
           "zerolinewidth": 2
          },
          "yaxis": {
           "automargin": true,
           "gridcolor": "white",
           "linecolor": "white",
           "ticks": "",
           "title": {
            "standoff": 15
           },
           "zerolinecolor": "white",
           "zerolinewidth": 2
          }
         }
        },
        "xaxis": {
         "anchor": "y",
         "domain": [
          0,
          1
         ],
         "title": {
          "text": "Artist"
         }
        },
        "yaxis": {
         "anchor": "x",
         "domain": [
          0,
          1
         ],
         "title": {
          "text": "Popularity"
         }
        }
       }
      },
      "text/html": [
       "<div>                            <div id=\"08253d94-1ae9-4db7-bc07-aff62198a1f3\" class=\"plotly-graph-div\" style=\"height:525px; width:100%;\"></div>            <script type=\"text/javascript\">                require([\"plotly\"], function(Plotly) {                    window.PLOTLYENV=window.PLOTLYENV || {};                                    if (document.getElementById(\"08253d94-1ae9-4db7-bc07-aff62198a1f3\")) {                    Plotly.newPlot(                        \"08253d94-1ae9-4db7-bc07-aff62198a1f3\",                        [{\"hovertemplate\": \"Genre=neo mellow<br>Artist=%{x}<br>Popularity=%{y}<extra></extra>\", \"legendgroup\": \"neo mellow\", \"marker\": {\"color\": \"#636efa\", \"symbol\": \"circle\"}, \"mode\": \"markers\", \"name\": \"neo mellow\", \"orientation\": \"v\", \"showlegend\": true, \"type\": \"scatter\", \"x\": [\"Train\", \"John Legend\", \"Birdy\", \"A Great Big World\", \"Birdy\", \"Birdy\", \"Birdy\", \"Birdy\", \"John Legend\"], \"xaxis\": \"x\", \"y\": [83, 86, 62, 61, 56, 49, 44, 52, 47], \"yaxis\": \"y\"}, {\"hovertemplate\": \"Genre=detroit hip hop<br>Artist=%{x}<br>Popularity=%{y}<extra></extra>\", \"legendgroup\": \"detroit hip hop\", \"marker\": {\"color\": \"#EF553B\", \"symbol\": \"circle\"}, \"mode\": \"markers\", \"name\": \"detroit hip hop\", \"orientation\": \"v\", \"showlegend\": true, \"type\": \"scatter\", \"x\": [\"Eminem\", \"Eminem\"], \"xaxis\": \"x\", \"y\": [82, 65], \"yaxis\": \"y\"}, {\"hovertemplate\": \"Genre=dance pop<br>Artist=%{x}<br>Popularity=%{y}<extra></extra>\", \"legendgroup\": \"dance pop\", \"marker\": {\"color\": \"#00cc96\", \"symbol\": \"circle\"}, \"mode\": \"markers\", \"name\": \"dance pop\", \"orientation\": \"v\", \"showlegend\": true, \"type\": \"scatter\", \"x\": [\"Kesha\", \"Lady Gaga\", \"Taio Cruz\", \"OneRepublic\", \"Flo Rida\", \"Mike Posner\", \"Lady Gaga\", \"Far East Movement\", \"Sean Kingston\", \"The Black Eyed Peas\", \"Lady Gaga\", \"Kesha\", \"The Black Eyed Peas\", \"Kesha\", \"OneRepublic\", \"Selena Gomez & The Scene\", \"Enrique Iglesias\", \"Katy Perry\", \"Katy Perry\", \"Britney Spears\", \"3OH!3\", \"Kesha\", \"The Black Eyed Peas\", \"David Guetta\", \"Christina Aguilera\", \"The Black Eyed Peas\", \"Christina Aguilera\", \"Christina Aguilera\", \"Christina Aguilera\", \"Tinie Tempah\", \"Taio Cruz\", \"Christina Perri\", \"Pitbull\", \"Beyonc\\u00e9\", \"Beyonc\\u00e9\", \"Hot Chelle Rae\", \"Lady Gaga\", \"Beyonc\\u00e9\", \"LMFAO\", \"Kesha\", \"OneRepublic\", \"The Black Eyed Peas\", \"Jennifer Lopez\", \"Chris Brown\", \"David Guetta\", \"LMFAO\", \"Lady Gaga\", \"Katy Perry\", \"Britney Spears\", \"Britney Spears\", \"Kesha\", \"Lady Gaga\", \"Lady Gaga\", \"Enrique Iglesias\", \"Mike Posner\", \"Lady Gaga\", \"Beyonc\\u00e9\", \"Britney Spears\", \"Jennifer Lopez\", \"Jennifer Lopez\", \"Tinie Tempah\", \"Christina Perri\", \"Nicki Minaj\", \"P!nk\", \"Jennifer Lopez\", \"Nicki Minaj\", \"Katy Perry\", \"Katy Perry\", \"Nicki Minaj\", \"David Guetta\", \"Selena Gomez & The Scene\", \"Kelly Clarkson\", \"P!nk\", \"Nicki Minaj\", \"Pitbull\", \"Katy Perry\", \"Katy Perry\", \"Katy Perry\", \"Jennifer Lopez\", \"Chris Brown\", \"Ellie Goulding\", \"Pitbull\", \"Gym Class Heroes\", \"P!nk\", \"Kelly Clarkson\", \"P!nk\", \"Katy Perry\", \"Miley Cyrus\", \"Miley Cyrus\", \"Robin Thicke\", \"Demi Lovato\", \"Kesha\", \"Calvin Harris\", \"Calvin Harris\", \"Britney Spears\", \"Macklemore & Ryan Lewis\", \"Pitbull\", \"Ne-Yo\", \"Macklemore & Ryan Lewis\", \"OneRepublic\", \"Ariana Grande\", \"Justin Timberlake\", \"will.i.am\", \"David Guetta\", \"Fergie\", \"Little Mix\", \"Justin Timberlake\", \"Emeli Sand\\u00e9\", \"Demi Lovato\", \"Emeli Sand\\u00e9\", \"Justin Timberlake\", \"Selena Gomez\", \"Jennifer Lopez\", \"Austin Mahone\", \"Justin Timberlake\", \"Lady Gaga\", \"Ellie Goulding\", \"Enrique Iglesias\", \"Mariah Carey\", \"Little Mix\", \"Kesha\", \"Britney Spears\", \"Kelly Clarkson\", \"Ciara\", \"Robin Thicke\", \"Pitbull\", \"Calvin Harris\", \"Pharrell Williams\", \"Katy Perry\", \"Ariana Grande\", \"Miley Cyrus\", \"Ellie Goulding\", \"Jason Derulo\", \"Christina Perri\", \"Jason Derulo\", \"OneRepublic\", \"Katy Perry\", \"Austin Mahone\", \"Fergie\", \"Beyonc\\u00e9\", \"Katy Perry\", \"Lady Gaga\", \"Demi Lovato\", \"David Guetta\", \"Pharrell Williams\", \"Beyonc\\u00e9\", \"Pitbull\", \"Beyonc\\u00e9\", \"Nicki Minaj\", \"Mariah Carey\", \"Lily Allen\", \"Jennifer Lopez\", \"Justin Timberlake\", \"Mark Ronson\", \"Ellie Goulding\", \"Jason Derulo\", \"Flo Rida\", \"Calvin Harris\", \"Zara Larsson\", \"Ariana Grande\", \"Calvin Harris\", \"Fifth Harmony\", \"Ariana Grande\", \"Clean Bandit\", \"Meghan Trainor\", \"Beyonc\\u00e9\", \"Selena Gomez\", \"David Guetta\", \"Christina Aguilera\", \"Nick Jonas\", \"Demi Lovato\", \"Macklemore & Ryan Lewis\", \"Kelly Clarkson\", \"Olly Murs\", \"Jason Derulo\", \"Selena Gomez\", \"Meghan Trainor\", \"OneRepublic\", \"Pitbull\", \"Sigala\", \"Fifth Harmony\", \"Ariana Grande\", \"Meghan Trainor\", \"Ellie Goulding\", \"Little Mix\", \"Jennifer Lopez\", \"Rudimental\", \"Robin Schulz\", \"Jennifer Lopez\", \"Madonna\", \"David Guetta\", \"Madonna\", \"Gwen Stefani\", \"Jess Glynne\", \"Pitbull\", \"David Guetta\", \"Pitbull\", \"Hilary Duff\", \"Ricky Martin\", \"Katy Perry\", \"Gwen Stefani\", \"Kelly Clarkson\", \"Enrique Iglesias\", \"Jennifer Hudson\", \"Fergie\", \"DNCE\", \"Ariana Grande\", \"Calvin Harris\", \"Lady Gaga\", \"Justin Timberlake\", \"Fifth Harmony\", \"Meghan Trainor\", \"Mike Posner\", \"Ariana Grande\", \"Hailee Steinfeld\", \"Little Mix\", \"Demi Lovato\", \"Major Lazer\", \"Meghan Trainor\", \"Major Lazer\", \"Jennifer Lopez\", \"Nick Jonas\", \"DNCE\", \"M\\u00d8\", \"Selena Gomez\", \"P!nk\", \"Meghan Trainor\", \"Selena Gomez\", \"Tove Lo\", \"Lady Gaga\", \"ZAYN\", \"Katy Perry\", \"OneRepublic\", \"Demi Lovato\", \"ZAYN\", \"Bebe Rexha\", \"Snakehips\", \"Missy Elliott\", \"Years & Years\", \"Emeli Sand\\u00e9\", \"Christina Aguilera\", \"Britney Spears\", \"Gwen Stefani\", \"Nick Jonas\", \"DNCE\", \"Missy Elliott\", \"Britney Spears\", \"Charlie Puth\", \"Hilary Duff\", \"Britney Spears\", \"Janet Jackson\", \"Ariana Grande\", \"Miley Cyrus\", \"Clean Bandit\", \"ZAYN\", \"Calvin Harris\", \"DJ Khaled\", \"Kesha\", \"Camila Cabello\", \"Jonas Blue\", \"Calvin Harris\", \"Katy Perry\", \"Katy Perry\", \"Lady Gaga\", \"OneRepublic\", \"Sigala\", \"Liam Payne\", \"Robin Schulz\", \"Katy Perry\", \"DNCE\", \"Niall Horan\", \"Miley Cyrus\", \"DNCE\", \"Fifth Harmony\", \"Little Mix\", \"Charlie Puth\", \"OneRepublic\", \"Pitbull\", \"Tove Lo\", \"Nick Jonas\", \"Pitbull\", \"DNCE\", \"Calvin Harris\", \"Camila Cabello\", \"Dua Lipa\", \"Ariana Grande\", \"Dua Lipa\", \"Selena Gomez\", \"ZAYN\", \"Charlie Puth\", \"Hailee Steinfeld\", \"Demi Lovato\", \"Lady Gaga\", \"Rudimental\", \"Halsey\", \"DJ Khaled\", \"Troye Sivan\", \"Hailee Steinfeld\", \"Selena Gomez\", \"Rita Ora\", \"Justin Timberlake\", \"Nicki Minaj\", \"Harry Styles\", \"Liam Payne\", \"ZAYN\", \"Ansel Elgort\", \"Liam Payne\", \"Dua Lipa\", \"Hayley Kiyoko\", \"P!nk\", \"DNCE\", \"David Guetta\", \"Niall Horan\", \"Rita Ora\", \"Enrique Iglesias\", \"Justin Timberlake\", \"Camila Cabello\", \"Bebe Rexha\", \"Justin Timberlake\", \"Demi Lovato\", \"Selena Gomez\", \"Mabel\", \"Calvin Harris\", \"Chris Brown\", \"Mark Ronson\", \"DJ Khaled\", \"Mark Ronson\"], \"xaxis\": \"x\", \"y\": [80, 79, 77, 77, 73, 73, 73, 72, 71, 70, 69, 69, 68, 66, 65, 64, 63, 63, 62, 62, 62, 62, 62, 61, 61, 59, 58, 56, 55, 52, 33, 81, 79, 76, 76, 75, 73, 73, 72, 72, 72, 71, 69, 69, 68, 67, 67, 66, 65, 64, 64, 64, 63, 63, 63, 61, 60, 59, 59, 58, 52, 50, 38, 38, 31, 28, 27, 25, 7, 80, 76, 74, 74, 73, 72, 71, 68, 67, 66, 65, 65, 59, 54, 0, 88, 81, 78, 78, 77, 76, 76, 75, 74, 72, 71, 70, 70, 70, 69, 69, 68, 68, 68, 67, 65, 63, 60, 60, 60, 60, 58, 57, 57, 54, 54, 52, 52, 52, 51, 50, 46, 45, 45, 43, 41, 35, 80, 79, 78, 75, 72, 71, 68, 68, 67, 66, 66, 65, 65, 65, 65, 65, 63, 61, 59, 56, 56, 52, 50, 38, 37, 28, 0, 82, 79, 77, 77, 77, 77, 76, 76, 75, 75, 73, 72, 72, 72, 72, 72, 70, 70, 70, 69, 69, 69, 69, 68, 67, 67, 67, 66, 66, 65, 65, 65, 64, 62, 60, 55, 54, 54, 52, 52, 52, 50, 46, 45, 44, 42, 41, 39, 36, 34, 18, 0, 81, 80, 80, 80, 79, 79, 79, 78, 78, 78, 77, 75, 73, 73, 73, 72, 72, 72, 72, 71, 71, 70, 70, 69, 67, 66, 66, 66, 65, 65, 64, 63, 58, 58, 57, 54, 53, 50, 50, 48, 47, 44, 41, 36, 34, 31, 80, 78, 78, 78, 78, 77, 77, 75, 75, 75, 73, 72, 71, 70, 70, 69, 69, 68, 66, 64, 62, 62, 59, 59, 59, 57, 54, 54, 53, 51, 43, 86, 85, 84, 84, 84, 83, 83, 83, 82, 81, 80, 80, 78, 76, 76, 76, 75, 74, 74, 73, 72, 72, 72, 72, 67, 67, 67, 66, 66, 65, 64, 64, 64, 62, 57, 57, 57, 44, 97, 86, 84, 81, 75, 70, 69], \"yaxis\": \"y\"}, {\"hovertemplate\": \"Genre=pop<br>Artist=%{x}<br>Popularity=%{y}<extra></extra>\", \"legendgroup\": \"pop\", \"marker\": {\"color\": \"#ab63fa\", \"symbol\": \"circle\"}, \"mode\": \"markers\", \"name\": \"pop\", \"orientation\": \"v\", \"showlegend\": true, \"type\": \"scatter\", \"x\": [\"Bruno Mars\", \"Bruno Mars\", \"Maroon 5\", \"Bruno Mars\", \"Maroon 5\", \"Bruno Mars\", \"Bruno Mars\", \"Bruno Mars\", \"Maroon 5\", \"Taylor Swift\", \"Taylor Swift\", \"Maroon 5\", \"Owl City\", \"Bruno Mars\", \"James Arthur\", \"Taylor Swift\", \"Labrinth\", \"Maroon 5\", \"Maroon 5\", \"Sam Smith\", \"MAGIC!\", \"Taylor Swift\", \"Maroon 5\", \"Bruno Mars\", \"John Newman\", \"Michael Jackson\", \"Bruno Mars\", \"Bruno Mars\", \"Ed Sheeran\", \"Sam Smith\", \"Maroon 5\", \"Maroon 5\", \"Ed Sheeran\", \"Ed Sheeran\", \"Maroon 5\", \"Ed Sheeran\", \"Taylor Swift\", \"Ed Sheeran\", \"Bruno Mars\", \"Maroon 5\", \"Cardi B\", \"Bruno Mars\", \"Cardi B\", \"Maroon 5\", \"Bruno Mars\", \"Ed Sheeran\", \"Taylor Swift\", \"Taylor Swift\", \"Maroon 5\", \"Taylor Swift\", \"Cardi B\", \"Maroon 5\", \"Lewis Capaldi\", \"Sam Smith\", \"Ed Sheeran\", \"Ed Sheeran\", \"Ed Sheeran\", \"Maroon 5\", \"Ed Sheeran\", \"Ed Sheeran\"], \"xaxis\": \"x\", \"y\": [78, 73, 65, 78, 76, 75, 73, 79, 79, 77, 75, 73, 73, 38, 77, 75, 70, 66, 65, 85, 79, 78, 78, 77, 73, 71, 68, 67, 84, 84, 81, 76, 74, 71, 66, 52, 66, 87, 83, 72, 70, 69, 85, 79, 78, 78, 75, 70, 67, 52, 45, 99, 96, 93, 92, 86, 85, 81, 78, 75], \"yaxis\": \"y\"}, {\"hovertemplate\": \"Genre=canadian pop<br>Artist=%{x}<br>Popularity=%{y}<extra></extra>\", \"legendgroup\": \"canadian pop\", \"marker\": {\"color\": \"#FFA15A\", \"symbol\": \"circle\"}, \"mode\": \"markers\", \"name\": \"canadian pop\", \"orientation\": \"v\", \"showlegend\": true, \"type\": \"scatter\", \"x\": [\"Justin Bieber\", \"Avril Lavigne\", \"Carly Rae Jepsen\", \"Justin Bieber\", \"Justin Bieber\", \"Avril Lavigne\", \"Justin Bieber\", \"Justin Bieber\", \"Justin Bieber\", \"Justin Bieber\", \"Shawn Mendes\", \"Justin Bieber\", \"Justin Bieber\", \"Justin Bieber\", \"Carly Rae Jepsen\", \"Justin Bieber\", \"Justin Bieber\", \"Justin Bieber\", \"Justin Bieber\", \"Shawn Mendes\", \"Justin Bieber\", \"Shawn Mendes\", \"Carly Rae Jepsen\", \"Shawn Mendes\", \"Carly Rae Jepsen\", \"Shawn Mendes\", \"Shawn Mendes\", \"Carly Rae Jepsen\", \"Shawn Mendes\", \"Shawn Mendes\", \"Justin Bieber\", \"Shawn Mendes\", \"Shawn Mendes\", \"Shawn Mendes\"], \"xaxis\": \"x\", \"y\": [77, 74, 76, 72, 71, 61, 61, 83, 81, 79, 78, 72, 68, 67, 66, 64, 63, 60, 83, 78, 72, 65, 63, 57, 46, 84, 81, 69, 84, 83, 77, 75, 71, 95], \"yaxis\": \"y\"}, {\"hovertemplate\": \"Genre=hip pop<br>Artist=%{x}<br>Popularity=%{y}<extra></extra>\", \"legendgroup\": \"hip pop\", \"marker\": {\"color\": \"#19d3f3\", \"symbol\": \"circle\"}, \"mode\": \"markers\", \"name\": \"hip pop\", \"orientation\": \"v\", \"showlegend\": true, \"type\": \"scatter\", \"x\": [\"Alicia Keys\", \"Alicia Keys\", \"Alicia Keys\", \"Alicia Keys\", \"Alicia Keys\", \"Alicia Keys\"], \"xaxis\": \"x\", \"y\": [76, 62, 57, 59, 30, 49], \"yaxis\": \"y\"}, {\"hovertemplate\": \"Genre=barbadian pop<br>Artist=%{x}<br>Popularity=%{y}<extra></extra>\", \"legendgroup\": \"barbadian pop\", \"marker\": {\"color\": \"#FF6692\", \"symbol\": \"circle\"}, \"mode\": \"markers\", \"name\": \"barbadian pop\", \"orientation\": \"v\", \"showlegend\": true, \"type\": \"scatter\", \"x\": [\"Rihanna\", \"Rihanna\", \"Rihanna\", \"Rihanna\", \"Rihanna\", \"Rihanna\", \"Rihanna\", \"Rihanna\", \"Rihanna\", \"Rihanna\", \"Rihanna\", \"Rihanna\", \"Rihanna\", \"Rihanna\", \"Rihanna\"], \"xaxis\": \"x\", \"y\": [73, 57, 69, 61, 58, 54, 68, 61, 57, 42, 80, 61, 80, 78, 82], \"yaxis\": \"y\"}, {\"hovertemplate\": \"Genre=atl hip hop<br>Artist=%{x}<br>Popularity=%{y}<extra></extra>\", \"legendgroup\": \"atl hip hop\", \"marker\": {\"color\": \"#B6E880\", \"symbol\": \"circle\"}, \"mode\": \"markers\", \"name\": \"atl hip hop\", \"orientation\": \"v\", \"showlegend\": true, \"type\": \"scatter\", \"x\": [\"Usher\", \"Usher\", \"T.I.\", \"T.I.\", \"Kelly Rowland\"], \"xaxis\": \"x\", \"y\": [72, 52, 49, 49, 28], \"yaxis\": \"y\"}, {\"hovertemplate\": \"Genre=australian pop<br>Artist=%{x}<br>Popularity=%{y}<extra></extra>\", \"legendgroup\": \"australian pop\", \"marker\": {\"color\": \"#FF97FF\", \"symbol\": \"circle\"}, \"mode\": \"markers\", \"name\": \"australian pop\", \"orientation\": \"v\", \"showlegend\": true, \"type\": \"scatter\", \"x\": [\"Adam Lambert\", \"Adam Lambert\", \"Jessie J\", \"Jessie J\", \"Jessie J\"], \"xaxis\": \"x\", \"y\": [66, 59, 72, 69, 61], \"yaxis\": \"y\"}, {\"hovertemplate\": \"Genre=indie pop<br>Artist=%{x}<br>Popularity=%{y}<extra></extra>\", \"legendgroup\": \"indie pop\", \"marker\": {\"color\": \"#FECB52\", \"symbol\": \"circle\"}, \"mode\": \"markers\", \"name\": \"indie pop\", \"orientation\": \"v\", \"showlegend\": true, \"type\": \"scatter\", \"x\": [\"Neon Trees\", \"Neon Trees\"], \"xaxis\": \"x\", \"y\": [65, 74], \"yaxis\": \"y\"}, {\"hovertemplate\": \"Genre=art pop<br>Artist=%{x}<br>Popularity=%{y}<extra></extra>\", \"legendgroup\": \"art pop\", \"marker\": {\"color\": \"#636efa\", \"symbol\": \"circle\"}, \"mode\": \"markers\", \"name\": \"art pop\", \"orientation\": \"v\", \"showlegend\": true, \"type\": \"scatter\", \"x\": [\"Florence + The Machine\", \"Lana Del Rey\", \"Lorde\", \"Florence + The Machine\", \"Florence + The Machine\", \"Lana Del Rey\", \"Lana Del Rey\", \"Lana Del Rey\"], \"xaxis\": \"x\", \"y\": [58, 74, 73, 47, 57, 72, 67, 54], \"yaxis\": \"y\"}, {\"hovertemplate\": \"Genre=colombian pop<br>Artist=%{x}<br>Popularity=%{y}<extra></extra>\", \"legendgroup\": \"colombian pop\", \"marker\": {\"color\": \"#EF553B\", \"symbol\": \"circle\"}, \"mode\": \"markers\", \"name\": \"colombian pop\", \"orientation\": \"v\", \"showlegend\": true, \"type\": \"scatter\", \"x\": [\"Shakira\", \"Shakira\", \"Shakira\"], \"xaxis\": \"x\", \"y\": [56, 62, 50], \"yaxis\": \"y\"}, {\"hovertemplate\": \"Genre=big room<br>Artist=%{x}<br>Popularity=%{y}<extra></extra>\", \"legendgroup\": \"big room\", \"marker\": {\"color\": \"#00cc96\", \"symbol\": \"circle\"}, \"mode\": \"markers\", \"name\": \"big room\", \"orientation\": \"v\", \"showlegend\": true, \"type\": \"scatter\", \"x\": [\"Martin Solveig\", \"Avicii\", \"Swedish House Mafia\", \"Avicii\", \"Avicii\", \"Alesso\", \"Martin Garrix\", \"Martin Garrix\", \"Galantis\", \"R3HAB\"], \"xaxis\": \"x\", \"y\": [0, 85, 78, 78, 65, 56, 81, 76, 55, 82], \"yaxis\": \"y\"}, {\"hovertemplate\": \"Genre=british soul<br>Artist=%{x}<br>Popularity=%{y}<extra></extra>\", \"legendgroup\": \"british soul\", \"marker\": {\"color\": \"#ab63fa\", \"symbol\": \"circle\"}, \"mode\": \"markers\", \"name\": \"british soul\", \"orientation\": \"v\", \"showlegend\": true, \"type\": \"scatter\", \"x\": [\"Adele\", \"Adele\", \"Adele\", \"Adele\", \"Paloma Faith\", \"Adele\", \"Adele\", \"Adele\", \"Adele\", \"Adele\", \"Adele\"], \"xaxis\": \"x\", \"y\": [80, 76, 76, 73, 69, 71, 61, 58, 0, 71, 49], \"yaxis\": \"y\"}, {\"hovertemplate\": \"Genre=chicago rap<br>Artist=%{x}<br>Popularity=%{y}<extra></extra>\", \"legendgroup\": \"chicago rap\", \"marker\": {\"color\": \"#FFA15A\", \"symbol\": \"circle\"}, \"mode\": \"markers\", \"name\": \"chicago rap\", \"orientation\": \"v\", \"showlegend\": true, \"type\": \"scatter\", \"x\": [\"Kanye West\"], \"xaxis\": \"x\", \"y\": [73], \"yaxis\": \"y\"}, {\"hovertemplate\": \"Genre=acoustic pop<br>Artist=%{x}<br>Popularity=%{y}<extra></extra>\", \"legendgroup\": \"acoustic pop\", \"marker\": {\"color\": \"#19d3f3\", \"symbol\": \"circle\"}, \"mode\": \"markers\", \"name\": \"acoustic pop\", \"orientation\": \"v\", \"showlegend\": true, \"type\": \"scatter\", \"x\": [\"Sleeping At Last\", \"Sara Bareilles\"], \"xaxis\": \"x\", \"y\": [46, 71], \"yaxis\": \"y\"}, {\"hovertemplate\": \"Genre=permanent wave<br>Artist=%{x}<br>Popularity=%{y}<extra></extra>\", \"legendgroup\": \"permanent wave\", \"marker\": {\"color\": \"#FF6692\", \"symbol\": \"circle\"}, \"mode\": \"markers\", \"name\": \"permanent wave\", \"orientation\": \"v\", \"showlegend\": true, \"type\": \"scatter\", \"x\": [\"Coldplay\", \"Coldplay\", \"Coldplay\", \"Coldplay\"], \"xaxis\": \"x\", \"y\": [79, 55, 60, 41], \"yaxis\": \"y\"}, {\"hovertemplate\": \"Genre=boy band<br>Artist=%{x}<br>Popularity=%{y}<extra></extra>\", \"legendgroup\": \"boy band\", \"marker\": {\"color\": \"#B6E880\", \"symbol\": \"circle\"}, \"mode\": \"markers\", \"name\": \"boy band\", \"orientation\": \"v\", \"showlegend\": true, \"type\": \"scatter\", \"x\": [\"One Direction\", \"The Wanted\", \"One Direction\", \"One Direction\", \"One Direction\", \"The Wanted\", \"The Wanted\", \"Jonas Brothers\", \"5 Seconds of Summer\", \"One Direction\", \"One Direction\", \"One Direction\", \"CNCO\", \"Jonas Brothers\", \"Jonas Brothers\"], \"xaxis\": \"x\", \"y\": [78, 72, 81, 73, 73, 62, 56, 52, 71, 77, 55, 51, 71, 87, 86], \"yaxis\": \"y\"}, {\"hovertemplate\": \"Genre=baroque pop<br>Artist=%{x}<br>Popularity=%{y}<extra></extra>\", \"legendgroup\": \"baroque pop\", \"marker\": {\"color\": \"#FF97FF\", \"symbol\": \"circle\"}, \"mode\": \"markers\", \"name\": \"baroque pop\", \"orientation\": \"v\", \"showlegend\": true, \"type\": \"scatter\", \"x\": [\"fun.\", \"fun.\"], \"xaxis\": \"x\", \"y\": [72, 63], \"yaxis\": \"y\"}, {\"hovertemplate\": \"Genre=celtic rock<br>Artist=%{x}<br>Popularity=%{y}<extra></extra>\", \"legendgroup\": \"celtic rock\", \"marker\": {\"color\": \"#FECB52\", \"symbol\": \"circle\"}, \"mode\": \"markers\", \"name\": \"celtic rock\", \"orientation\": \"v\", \"showlegend\": true, \"type\": \"scatter\", \"x\": [\"The Script\"], \"xaxis\": \"x\", \"y\": [80], \"yaxis\": \"y\"}, {\"hovertemplate\": \"Genre=electro<br>Artist=%{x}<br>Popularity=%{y}<extra></extra>\", \"legendgroup\": \"electro\", \"marker\": {\"color\": \"#636efa\", \"symbol\": \"circle\"}, \"mode\": \"markers\", \"name\": \"electro\", \"orientation\": \"v\", \"showlegend\": true, \"type\": \"scatter\", \"x\": [\"Daft Punk\", \"Daft Punk\"], \"xaxis\": \"x\", \"y\": [77, 72], \"yaxis\": \"y\"}, {\"hovertemplate\": \"Genre=complextro<br>Artist=%{x}<br>Popularity=%{y}<extra></extra>\", \"legendgroup\": \"complextro\", \"marker\": {\"color\": \"#EF553B\", \"symbol\": \"circle\"}, \"mode\": \"markers\", \"name\": \"complextro\", \"orientation\": \"v\", \"showlegend\": true, \"type\": \"scatter\", \"x\": [\"Zedd\", \"Zedd\", \"Zedd\", \"Zedd\", \"Zedd\", \"Zedd\"], \"xaxis\": \"x\", \"y\": [75, 64, 68, 51, 80, 66], \"yaxis\": \"y\"}, {\"hovertemplate\": \"Genre=canadian hip hop<br>Artist=%{x}<br>Popularity=%{y}<extra></extra>\", \"legendgroup\": \"canadian hip hop\", \"marker\": {\"color\": \"#00cc96\", \"symbol\": \"circle\"}, \"mode\": \"markers\", \"name\": \"canadian hip hop\", \"orientation\": \"v\", \"showlegend\": true, \"type\": \"scatter\", \"x\": [\"Drake\", \"Drake\"], \"xaxis\": \"x\", \"y\": [73, 74], \"yaxis\": \"y\"}, {\"hovertemplate\": \"Genre=candy pop<br>Artist=%{x}<br>Popularity=%{y}<extra></extra>\", \"legendgroup\": \"candy pop\", \"marker\": {\"color\": \"#ab63fa\", \"symbol\": \"circle\"}, \"mode\": \"markers\", \"name\": \"candy pop\", \"orientation\": \"v\", \"showlegend\": true, \"type\": \"scatter\", \"x\": [\"Icona Pop\", \"Charli XCX\"], \"xaxis\": \"x\", \"y\": [67, 50], \"yaxis\": \"y\"}, {\"hovertemplate\": \"Genre=alaska indie<br>Artist=%{x}<br>Popularity=%{y}<extra></extra>\", \"legendgroup\": \"alaska indie\", \"marker\": {\"color\": \"#FFA15A\", \"symbol\": \"circle\"}, \"mode\": \"markers\", \"name\": \"alaska indie\", \"orientation\": \"v\", \"showlegend\": true, \"type\": \"scatter\", \"x\": [\"Jewel\"], \"xaxis\": \"x\", \"y\": [36], \"yaxis\": \"y\"}, {\"hovertemplate\": \"Genre=folk-pop<br>Artist=%{x}<br>Popularity=%{y}<extra></extra>\", \"legendgroup\": \"folk-pop\", \"marker\": {\"color\": \"#19d3f3\", \"symbol\": \"circle\"}, \"mode\": \"markers\", \"name\": \"folk-pop\", \"orientation\": \"v\", \"showlegend\": true, \"type\": \"scatter\", \"x\": [\"Passenger\", \"Passenger\"], \"xaxis\": \"x\", \"y\": [77, 36], \"yaxis\": \"y\"}, {\"hovertemplate\": \"Genre=metropopolis<br>Artist=%{x}<br>Popularity=%{y}<extra></extra>\", \"legendgroup\": \"metropopolis\", \"marker\": {\"color\": \"#FF6692\", \"symbol\": \"circle\"}, \"mode\": \"markers\", \"name\": \"metropopolis\", \"orientation\": \"v\", \"showlegend\": true, \"type\": \"scatter\", \"x\": [\"Bastille\"], \"xaxis\": \"x\", \"y\": [73], \"yaxis\": \"y\"}, {\"hovertemplate\": \"Genre=house<br>Artist=%{x}<br>Popularity=%{y}<extra></extra>\", \"legendgroup\": \"house\", \"marker\": {\"color\": \"#B6E880\", \"symbol\": \"circle\"}, \"mode\": \"markers\", \"name\": \"house\", \"orientation\": \"v\", \"showlegend\": true, \"type\": \"scatter\", \"x\": [\"Disclosure\"], \"xaxis\": \"x\", \"y\": [72], \"yaxis\": \"y\"}, {\"hovertemplate\": \"Genre=australian hip hop<br>Artist=%{x}<br>Popularity=%{y}<extra></extra>\", \"legendgroup\": \"australian hip hop\", \"marker\": {\"color\": \"#FF97FF\", \"symbol\": \"circle\"}, \"mode\": \"markers\", \"name\": \"australian hip hop\", \"orientation\": \"v\", \"showlegend\": true, \"type\": \"scatter\", \"x\": [\"Iggy Azalea\"], \"xaxis\": \"x\", \"y\": [70], \"yaxis\": \"y\"}, {\"hovertemplate\": \"Genre=electropop<br>Artist=%{x}<br>Popularity=%{y}<extra></extra>\", \"legendgroup\": \"electropop\", \"marker\": {\"color\": \"#FECB52\", \"symbol\": \"circle\"}, \"mode\": \"markers\", \"name\": \"electropop\", \"orientation\": \"v\", \"showlegend\": true, \"type\": \"scatter\", \"x\": [\"The Chainsmokers\", \"The Chainsmokers\", \"B\\u00d8RNS\", \"The Chainsmokers\", \"The Chainsmokers\", \"The Chainsmokers\", \"The Chainsmokers\", \"The Chainsmokers\", \"The Chainsmokers\", \"SHAED\", \"The Chainsmokers\", \"The Chainsmokers\", \"The Chainsmokers\"], \"xaxis\": \"x\", \"y\": [65, 81, 76, 74, 72, 86, 78, 76, 76, 92, 83, 81, 67], \"yaxis\": \"y\"}, {\"hovertemplate\": \"Genre=australian dance<br>Artist=%{x}<br>Popularity=%{y}<extra></extra>\", \"legendgroup\": \"australian dance\", \"marker\": {\"color\": \"#636efa\", \"symbol\": \"circle\"}, \"mode\": \"markers\", \"name\": \"australian dance\", \"orientation\": \"v\", \"showlegend\": true, \"type\": \"scatter\", \"x\": [\"Sia\", \"Sia\", \"Sia\", \"Sia\", \"Sia\", \"Sia\"], \"xaxis\": \"x\", \"y\": [56, 73, 61, 64, 76, 44], \"yaxis\": \"y\"}, {\"hovertemplate\": \"Genre=hollywood<br>Artist=%{x}<br>Popularity=%{y}<extra></extra>\", \"legendgroup\": \"hollywood\", \"marker\": {\"color\": \"#EF553B\", \"symbol\": \"circle\"}, \"mode\": \"markers\", \"name\": \"hollywood\", \"orientation\": \"v\", \"showlegend\": true, \"type\": \"scatter\", \"x\": [\"Lea Michele\"], \"xaxis\": \"x\", \"y\": [37], \"yaxis\": \"y\"}, {\"hovertemplate\": \"Genre=canadian contemporary r&b<br>Artist=%{x}<br>Popularity=%{y}<extra></extra>\", \"legendgroup\": \"canadian contemporary r&b\", \"marker\": {\"color\": \"#00cc96\", \"symbol\": \"circle\"}, \"mode\": \"markers\", \"name\": \"canadian contemporary r&b\", \"orientation\": \"v\", \"showlegend\": true, \"type\": \"scatter\", \"x\": [\"The Weeknd\", \"The Weeknd\", \"Alessia Cara\", \"The Weeknd\", \"Alessia Cara\", \"Alessia Cara\", \"The Weeknd\", \"The Weeknd\", \"Alessia Cara\"], \"xaxis\": \"x\", \"y\": [84, 79, 68, 84, 79, 68, 85, 81, 71], \"yaxis\": \"y\"}, {\"hovertemplate\": \"Genre=irish singer-songwriter<br>Artist=%{x}<br>Popularity=%{y}<extra></extra>\", \"legendgroup\": \"irish singer-songwriter\", \"marker\": {\"color\": \"#ab63fa\", \"symbol\": \"circle\"}, \"mode\": \"markers\", \"name\": \"irish singer-songwriter\", \"orientation\": \"v\", \"showlegend\": true, \"type\": \"scatter\", \"x\": [\"Hozier\"], \"xaxis\": \"x\", \"y\": [81], \"yaxis\": \"y\"}, {\"hovertemplate\": \"Genre=tropical house<br>Artist=%{x}<br>Popularity=%{y}<extra></extra>\", \"legendgroup\": \"tropical house\", \"marker\": {\"color\": \"#FFA15A\", \"symbol\": \"circle\"}, \"mode\": \"markers\", \"name\": \"tropical house\", \"orientation\": \"v\", \"showlegend\": true, \"type\": \"scatter\", \"x\": [\"Mr. Probz\", \"Naughty Boy\", \"Naughty Boy\"], \"xaxis\": \"x\", \"y\": [77, 69, 69], \"yaxis\": \"y\"}, {\"hovertemplate\": \"Genre=belgian edm<br>Artist=%{x}<br>Popularity=%{y}<extra></extra>\", \"legendgroup\": \"belgian edm\", \"marker\": {\"color\": \"#19d3f3\", \"symbol\": \"circle\"}, \"mode\": \"markers\", \"name\": \"belgian edm\", \"orientation\": \"v\", \"showlegend\": true, \"type\": \"scatter\", \"x\": [\"Lost Frequencies\", \"Lost Frequencies\"], \"xaxis\": \"x\", \"y\": [61, 59], \"yaxis\": \"y\"}, {\"hovertemplate\": \"Genre=french indie pop<br>Artist=%{x}<br>Popularity=%{y}<extra></extra>\", \"legendgroup\": \"french indie pop\", \"marker\": {\"color\": \"#FF6692\", \"symbol\": \"circle\"}, \"mode\": \"markers\", \"name\": \"french indie pop\", \"orientation\": \"v\", \"showlegend\": true, \"type\": \"scatter\", \"x\": [\"Lilly Wood and The Prick\"], \"xaxis\": \"x\", \"y\": [58], \"yaxis\": \"y\"}, {\"hovertemplate\": \"Genre=hip hop<br>Artist=%{x}<br>Popularity=%{y}<extra></extra>\", \"legendgroup\": \"hip hop\", \"marker\": {\"color\": \"#B6E880\", \"symbol\": \"circle\"}, \"mode\": \"markers\", \"name\": \"hip hop\", \"orientation\": \"v\", \"showlegend\": true, \"type\": \"scatter\", \"x\": [\"Wiz Khalifa\", \"G-Eazy\", \"G-Eazy\", \"N.E.R.D\"], \"xaxis\": \"x\", \"y\": [56, 78, 78, 68], \"yaxis\": \"y\"}, {\"hovertemplate\": \"Genre=danish pop<br>Artist=%{x}<br>Popularity=%{y}<extra></extra>\", \"legendgroup\": \"danish pop\", \"marker\": {\"color\": \"#FF97FF\", \"symbol\": \"circle\"}, \"mode\": \"markers\", \"name\": \"danish pop\", \"orientation\": \"v\", \"showlegend\": true, \"type\": \"scatter\", \"x\": [\"Lukas Graham\"], \"xaxis\": \"x\", \"y\": [80], \"yaxis\": \"y\"}, {\"hovertemplate\": \"Genre=latin<br>Artist=%{x}<br>Popularity=%{y}<extra></extra>\", \"legendgroup\": \"latin\", \"marker\": {\"color\": \"#FECB52\", \"symbol\": \"circle\"}, \"mode\": \"markers\", \"name\": \"latin\", \"orientation\": \"v\", \"showlegend\": true, \"type\": \"scatter\", \"x\": [\"Joey Montana\", \"Luis Fonsi\", \"J Balvin\", \"Daddy Yankee\"], \"xaxis\": \"x\", \"y\": [29, 76, 68, 76], \"yaxis\": \"y\"}, {\"hovertemplate\": \"Genre=canadian latin<br>Artist=%{x}<br>Popularity=%{y}<extra></extra>\", \"legendgroup\": \"canadian latin\", \"marker\": {\"color\": \"#636efa\", \"symbol\": \"circle\"}, \"mode\": \"markers\", \"name\": \"canadian latin\", \"orientation\": \"v\", \"showlegend\": true, \"type\": \"scatter\", \"x\": [\"Nelly Furtado\"], \"xaxis\": \"x\", \"y\": [18], \"yaxis\": \"y\"}, {\"hovertemplate\": \"Genre=electronic trap<br>Artist=%{x}<br>Popularity=%{y}<extra></extra>\", \"legendgroup\": \"electronic trap\", \"marker\": {\"color\": \"#EF553B\", \"symbol\": \"circle\"}, \"mode\": \"markers\", \"name\": \"electronic trap\", \"orientation\": \"v\", \"showlegend\": true, \"type\": \"scatter\", \"x\": [\"DJ Snake\", \"DJ Snake\"], \"xaxis\": \"x\", \"y\": [82, 77], \"yaxis\": \"y\"}, {\"hovertemplate\": \"Genre=edm<br>Artist=%{x}<br>Popularity=%{y}<extra></extra>\", \"legendgroup\": \"edm\", \"marker\": {\"color\": \"#00cc96\", \"symbol\": \"circle\"}, \"mode\": \"markers\", \"name\": \"edm\", \"orientation\": \"v\", \"showlegend\": true, \"type\": \"scatter\", \"x\": [\"Kygo\", \"Kygo\", \"Silk City\", \"Kygo\", \"Kygo\"], \"xaxis\": \"x\", \"y\": [79, 71, 82, 71, 88], \"yaxis\": \"y\"}, {\"hovertemplate\": \"Genre=electro house<br>Artist=%{x}<br>Popularity=%{y}<extra></extra>\", \"legendgroup\": \"electro house\", \"marker\": {\"color\": \"#ab63fa\", \"symbol\": \"circle\"}, \"mode\": \"markers\", \"name\": \"electro house\", \"orientation\": \"v\", \"showlegend\": true, \"type\": \"scatter\", \"x\": [\"Alan Walker\"], \"xaxis\": \"x\", \"y\": [70], \"yaxis\": \"y\"}, {\"hovertemplate\": \"Genre=downtempo<br>Artist=%{x}<br>Popularity=%{y}<extra></extra>\", \"legendgroup\": \"downtempo\", \"marker\": {\"color\": \"#FFA15A\", \"symbol\": \"circle\"}, \"mode\": \"markers\", \"name\": \"downtempo\", \"orientation\": \"v\", \"showlegend\": true, \"type\": \"scatter\", \"x\": [\"Cashmere Cat\", \"Cashmere Cat\"], \"xaxis\": \"x\", \"y\": [59, 64], \"yaxis\": \"y\"}, {\"hovertemplate\": \"Genre=brostep<br>Artist=%{x}<br>Popularity=%{y}<extra></extra>\", \"legendgroup\": \"brostep\", \"marker\": {\"color\": \"#19d3f3\", \"symbol\": \"circle\"}, \"mode\": \"markers\", \"name\": \"brostep\", \"orientation\": \"v\", \"showlegend\": true, \"type\": \"scatter\", \"x\": [\"Marshmello\", \"Marshmello\"], \"xaxis\": \"x\", \"y\": [82, 90], \"yaxis\": \"y\"}, {\"hovertemplate\": \"Genre=contemporary country<br>Artist=%{x}<br>Popularity=%{y}<extra></extra>\", \"legendgroup\": \"contemporary country\", \"marker\": {\"color\": \"#FF6692\", \"symbol\": \"circle\"}, \"mode\": \"markers\", \"name\": \"contemporary country\", \"orientation\": \"v\", \"showlegend\": true, \"type\": \"scatter\", \"x\": [\"Dan + Shay\"], \"xaxis\": \"x\", \"y\": [76], \"yaxis\": \"y\"}, {\"hovertemplate\": \"Genre=moroccan pop<br>Artist=%{x}<br>Popularity=%{y}<extra></extra>\", \"legendgroup\": \"moroccan pop\", \"marker\": {\"color\": \"#B6E880\", \"symbol\": \"circle\"}, \"mode\": \"markers\", \"name\": \"moroccan pop\", \"orientation\": \"v\", \"showlegend\": true, \"type\": \"scatter\", \"x\": [\"RedOne\"], \"xaxis\": \"x\", \"y\": [53], \"yaxis\": \"y\"}, {\"hovertemplate\": \"Genre=escape room<br>Artist=%{x}<br>Popularity=%{y}<extra></extra>\", \"legendgroup\": \"escape room\", \"marker\": {\"color\": \"#FF97FF\", \"symbol\": \"circle\"}, \"mode\": \"markers\", \"name\": \"escape room\", \"orientation\": \"v\", \"showlegend\": true, \"type\": \"scatter\", \"x\": [\"Lizzo\", \"Lizzo\"], \"xaxis\": \"x\", \"y\": [90, 90], \"yaxis\": \"y\"}, {\"hovertemplate\": \"Genre=alternative r&b<br>Artist=%{x}<br>Popularity=%{y}<extra></extra>\", \"legendgroup\": \"alternative r&b\", \"marker\": {\"color\": \"#FECB52\", \"symbol\": \"circle\"}, \"mode\": \"markers\", \"name\": \"alternative r&b\", \"orientation\": \"v\", \"showlegend\": true, \"type\": \"scatter\", \"x\": [\"Khalid\"], \"xaxis\": \"x\", \"y\": [84], \"yaxis\": \"y\"}],                        {\"legend\": {\"title\": {\"text\": \"Genre\"}, \"tracegroupgap\": 0}, \"margin\": {\"t\": 60}, \"template\": {\"data\": {\"bar\": [{\"error_x\": {\"color\": \"#2a3f5f\"}, \"error_y\": {\"color\": \"#2a3f5f\"}, \"marker\": {\"line\": {\"color\": \"#E5ECF6\", \"width\": 0.5}}, \"type\": \"bar\"}], \"barpolar\": [{\"marker\": {\"line\": {\"color\": \"#E5ECF6\", \"width\": 0.5}}, \"type\": \"barpolar\"}], \"carpet\": [{\"aaxis\": {\"endlinecolor\": \"#2a3f5f\", \"gridcolor\": \"white\", \"linecolor\": \"white\", \"minorgridcolor\": \"white\", \"startlinecolor\": \"#2a3f5f\"}, \"baxis\": {\"endlinecolor\": \"#2a3f5f\", \"gridcolor\": \"white\", \"linecolor\": \"white\", \"minorgridcolor\": \"white\", \"startlinecolor\": \"#2a3f5f\"}, \"type\": \"carpet\"}], \"choropleth\": [{\"colorbar\": {\"outlinewidth\": 0, \"ticks\": \"\"}, \"type\": \"choropleth\"}], \"contour\": [{\"colorbar\": {\"outlinewidth\": 0, \"ticks\": \"\"}, \"colorscale\": [[0.0, \"#0d0887\"], [0.1111111111111111, \"#46039f\"], [0.2222222222222222, \"#7201a8\"], [0.3333333333333333, \"#9c179e\"], [0.4444444444444444, \"#bd3786\"], [0.5555555555555556, \"#d8576b\"], [0.6666666666666666, \"#ed7953\"], [0.7777777777777778, \"#fb9f3a\"], [0.8888888888888888, \"#fdca26\"], [1.0, \"#f0f921\"]], \"type\": \"contour\"}], \"contourcarpet\": [{\"colorbar\": {\"outlinewidth\": 0, \"ticks\": \"\"}, \"type\": \"contourcarpet\"}], \"heatmap\": [{\"colorbar\": {\"outlinewidth\": 0, \"ticks\": \"\"}, \"colorscale\": [[0.0, \"#0d0887\"], [0.1111111111111111, \"#46039f\"], [0.2222222222222222, \"#7201a8\"], [0.3333333333333333, \"#9c179e\"], [0.4444444444444444, \"#bd3786\"], [0.5555555555555556, \"#d8576b\"], [0.6666666666666666, \"#ed7953\"], [0.7777777777777778, \"#fb9f3a\"], [0.8888888888888888, \"#fdca26\"], [1.0, \"#f0f921\"]], \"type\": \"heatmap\"}], \"heatmapgl\": [{\"colorbar\": {\"outlinewidth\": 0, \"ticks\": \"\"}, \"colorscale\": [[0.0, \"#0d0887\"], [0.1111111111111111, \"#46039f\"], [0.2222222222222222, \"#7201a8\"], [0.3333333333333333, \"#9c179e\"], [0.4444444444444444, \"#bd3786\"], [0.5555555555555556, \"#d8576b\"], [0.6666666666666666, \"#ed7953\"], [0.7777777777777778, \"#fb9f3a\"], [0.8888888888888888, \"#fdca26\"], [1.0, \"#f0f921\"]], \"type\": \"heatmapgl\"}], \"histogram\": [{\"marker\": {\"colorbar\": {\"outlinewidth\": 0, \"ticks\": \"\"}}, \"type\": \"histogram\"}], \"histogram2d\": [{\"colorbar\": {\"outlinewidth\": 0, \"ticks\": \"\"}, \"colorscale\": [[0.0, \"#0d0887\"], [0.1111111111111111, \"#46039f\"], [0.2222222222222222, \"#7201a8\"], [0.3333333333333333, \"#9c179e\"], [0.4444444444444444, \"#bd3786\"], [0.5555555555555556, \"#d8576b\"], [0.6666666666666666, \"#ed7953\"], [0.7777777777777778, \"#fb9f3a\"], [0.8888888888888888, \"#fdca26\"], [1.0, \"#f0f921\"]], \"type\": \"histogram2d\"}], \"histogram2dcontour\": [{\"colorbar\": {\"outlinewidth\": 0, \"ticks\": \"\"}, \"colorscale\": [[0.0, \"#0d0887\"], [0.1111111111111111, \"#46039f\"], [0.2222222222222222, \"#7201a8\"], [0.3333333333333333, \"#9c179e\"], [0.4444444444444444, \"#bd3786\"], [0.5555555555555556, \"#d8576b\"], [0.6666666666666666, \"#ed7953\"], [0.7777777777777778, \"#fb9f3a\"], [0.8888888888888888, \"#fdca26\"], [1.0, \"#f0f921\"]], \"type\": \"histogram2dcontour\"}], \"mesh3d\": [{\"colorbar\": {\"outlinewidth\": 0, \"ticks\": \"\"}, \"type\": \"mesh3d\"}], \"parcoords\": [{\"line\": {\"colorbar\": {\"outlinewidth\": 0, \"ticks\": \"\"}}, \"type\": \"parcoords\"}], \"pie\": [{\"automargin\": true, \"type\": \"pie\"}], \"scatter\": [{\"marker\": {\"colorbar\": {\"outlinewidth\": 0, \"ticks\": \"\"}}, \"type\": \"scatter\"}], \"scatter3d\": [{\"line\": {\"colorbar\": {\"outlinewidth\": 0, \"ticks\": \"\"}}, \"marker\": {\"colorbar\": {\"outlinewidth\": 0, \"ticks\": \"\"}}, \"type\": \"scatter3d\"}], \"scattercarpet\": [{\"marker\": {\"colorbar\": {\"outlinewidth\": 0, \"ticks\": \"\"}}, \"type\": \"scattercarpet\"}], \"scattergeo\": [{\"marker\": {\"colorbar\": {\"outlinewidth\": 0, \"ticks\": \"\"}}, \"type\": \"scattergeo\"}], \"scattergl\": [{\"marker\": {\"colorbar\": {\"outlinewidth\": 0, \"ticks\": \"\"}}, \"type\": \"scattergl\"}], \"scattermapbox\": [{\"marker\": {\"colorbar\": {\"outlinewidth\": 0, \"ticks\": \"\"}}, \"type\": \"scattermapbox\"}], \"scatterpolar\": [{\"marker\": {\"colorbar\": {\"outlinewidth\": 0, \"ticks\": \"\"}}, \"type\": \"scatterpolar\"}], \"scatterpolargl\": [{\"marker\": {\"colorbar\": {\"outlinewidth\": 0, \"ticks\": \"\"}}, \"type\": \"scatterpolargl\"}], \"scatterternary\": [{\"marker\": {\"colorbar\": {\"outlinewidth\": 0, \"ticks\": \"\"}}, \"type\": \"scatterternary\"}], \"surface\": [{\"colorbar\": {\"outlinewidth\": 0, \"ticks\": \"\"}, \"colorscale\": [[0.0, \"#0d0887\"], [0.1111111111111111, \"#46039f\"], [0.2222222222222222, \"#7201a8\"], [0.3333333333333333, \"#9c179e\"], [0.4444444444444444, \"#bd3786\"], [0.5555555555555556, \"#d8576b\"], [0.6666666666666666, \"#ed7953\"], [0.7777777777777778, \"#fb9f3a\"], [0.8888888888888888, \"#fdca26\"], [1.0, \"#f0f921\"]], \"type\": \"surface\"}], \"table\": [{\"cells\": {\"fill\": {\"color\": \"#EBF0F8\"}, \"line\": {\"color\": \"white\"}}, \"header\": {\"fill\": {\"color\": \"#C8D4E3\"}, \"line\": {\"color\": \"white\"}}, \"type\": \"table\"}]}, \"layout\": {\"annotationdefaults\": {\"arrowcolor\": \"#2a3f5f\", \"arrowhead\": 0, \"arrowwidth\": 1}, \"autotypenumbers\": \"strict\", \"coloraxis\": {\"colorbar\": {\"outlinewidth\": 0, \"ticks\": \"\"}}, \"colorscale\": {\"diverging\": [[0, \"#8e0152\"], [0.1, \"#c51b7d\"], [0.2, \"#de77ae\"], [0.3, \"#f1b6da\"], [0.4, \"#fde0ef\"], [0.5, \"#f7f7f7\"], [0.6, \"#e6f5d0\"], [0.7, \"#b8e186\"], [0.8, \"#7fbc41\"], [0.9, \"#4d9221\"], [1, \"#276419\"]], \"sequential\": [[0.0, \"#0d0887\"], [0.1111111111111111, \"#46039f\"], [0.2222222222222222, \"#7201a8\"], [0.3333333333333333, \"#9c179e\"], [0.4444444444444444, \"#bd3786\"], [0.5555555555555556, \"#d8576b\"], [0.6666666666666666, \"#ed7953\"], [0.7777777777777778, \"#fb9f3a\"], [0.8888888888888888, \"#fdca26\"], [1.0, \"#f0f921\"]], \"sequentialminus\": [[0.0, \"#0d0887\"], [0.1111111111111111, \"#46039f\"], [0.2222222222222222, \"#7201a8\"], [0.3333333333333333, \"#9c179e\"], [0.4444444444444444, \"#bd3786\"], [0.5555555555555556, \"#d8576b\"], [0.6666666666666666, \"#ed7953\"], [0.7777777777777778, \"#fb9f3a\"], [0.8888888888888888, \"#fdca26\"], [1.0, \"#f0f921\"]]}, \"colorway\": [\"#636efa\", \"#EF553B\", \"#00cc96\", \"#ab63fa\", \"#FFA15A\", \"#19d3f3\", \"#FF6692\", \"#B6E880\", \"#FF97FF\", \"#FECB52\"], \"font\": {\"color\": \"#2a3f5f\"}, \"geo\": {\"bgcolor\": \"white\", \"lakecolor\": \"white\", \"landcolor\": \"#E5ECF6\", \"showlakes\": true, \"showland\": true, \"subunitcolor\": \"white\"}, \"hoverlabel\": {\"align\": \"left\"}, \"hovermode\": \"closest\", \"mapbox\": {\"style\": \"light\"}, \"paper_bgcolor\": \"white\", \"plot_bgcolor\": \"#E5ECF6\", \"polar\": {\"angularaxis\": {\"gridcolor\": \"white\", \"linecolor\": \"white\", \"ticks\": \"\"}, \"bgcolor\": \"#E5ECF6\", \"radialaxis\": {\"gridcolor\": \"white\", \"linecolor\": \"white\", \"ticks\": \"\"}}, \"scene\": {\"xaxis\": {\"backgroundcolor\": \"#E5ECF6\", \"gridcolor\": \"white\", \"gridwidth\": 2, \"linecolor\": \"white\", \"showbackground\": true, \"ticks\": \"\", \"zerolinecolor\": \"white\"}, \"yaxis\": {\"backgroundcolor\": \"#E5ECF6\", \"gridcolor\": \"white\", \"gridwidth\": 2, \"linecolor\": \"white\", \"showbackground\": true, \"ticks\": \"\", \"zerolinecolor\": \"white\"}, \"zaxis\": {\"backgroundcolor\": \"#E5ECF6\", \"gridcolor\": \"white\", \"gridwidth\": 2, \"linecolor\": \"white\", \"showbackground\": true, \"ticks\": \"\", \"zerolinecolor\": \"white\"}}, \"shapedefaults\": {\"line\": {\"color\": \"#2a3f5f\"}}, \"ternary\": {\"aaxis\": {\"gridcolor\": \"white\", \"linecolor\": \"white\", \"ticks\": \"\"}, \"baxis\": {\"gridcolor\": \"white\", \"linecolor\": \"white\", \"ticks\": \"\"}, \"bgcolor\": \"#E5ECF6\", \"caxis\": {\"gridcolor\": \"white\", \"linecolor\": \"white\", \"ticks\": \"\"}}, \"title\": {\"x\": 0.05}, \"xaxis\": {\"automargin\": true, \"gridcolor\": \"white\", \"linecolor\": \"white\", \"ticks\": \"\", \"title\": {\"standoff\": 15}, \"zerolinecolor\": \"white\", \"zerolinewidth\": 2}, \"yaxis\": {\"automargin\": true, \"gridcolor\": \"white\", \"linecolor\": \"white\", \"ticks\": \"\", \"title\": {\"standoff\": 15}, \"zerolinecolor\": \"white\", \"zerolinewidth\": 2}}}, \"xaxis\": {\"anchor\": \"y\", \"domain\": [0.0, 1.0], \"title\": {\"text\": \"Artist\"}}, \"yaxis\": {\"anchor\": \"x\", \"domain\": [0.0, 1.0], \"title\": {\"text\": \"Popularity\"}}},                        {\"responsive\": true}                    ).then(function(){\n",
       "                            \n",
       "var gd = document.getElementById('08253d94-1ae9-4db7-bc07-aff62198a1f3');\n",
       "var x = new MutationObserver(function (mutations, observer) {{\n",
       "        var display = window.getComputedStyle(gd).display;\n",
       "        if (!display || display === 'none') {{\n",
       "            console.log([gd, 'removed!']);\n",
       "            Plotly.purge(gd);\n",
       "            observer.disconnect();\n",
       "        }}\n",
       "}});\n",
       "\n",
       "// Listen for the removal of the full notebook cells\n",
       "var notebookContainer = gd.closest('#notebook-container');\n",
       "if (notebookContainer) {{\n",
       "    x.observe(notebookContainer, {childList: true});\n",
       "}}\n",
       "\n",
       "// Listen for the clearing of the current output cell\n",
       "var outputEl = gd.closest('.output');\n",
       "if (outputEl) {{\n",
       "    x.observe(outputEl, {childList: true});\n",
       "}}\n",
       "\n",
       "                        })                };                });            </script>        </div>"
      ]
     },
     "metadata": {},
     "output_type": "display_data"
    }
   ],
   "source": [
    "# Artist vs Popularity\n",
    "\n",
    "px.scatter(\n",
    "    spotify_df,\n",
    "    x = 'Artist',\n",
    "    y = 'Popularity',\n",
    "    color = 'Genre',\n",
    "\n",
    "\n",
    ")"
   ]
  },
  {
   "cell_type": "code",
   "execution_count": null,
   "metadata": {},
   "outputs": [],
   "source": [
    "# Artist Popularity by rating vs Popularity by count\n"
   ]
  },
  {
   "cell_type": "code",
   "execution_count": null,
   "metadata": {},
   "outputs": [],
   "source": [
    "# Do a correlation chart for the features of the top Songs by Popularity rating"
   ]
  }
 ],
 "metadata": {
  "kernelspec": {
   "display_name": "Python 3",
   "language": "python",
   "name": "python3"
  },
  "language_info": {
   "codemirror_mode": {
    "name": "ipython",
    "version": 3
   },
   "file_extension": ".py",
   "mimetype": "text/x-python",
   "name": "python",
   "nbconvert_exporter": "python",
   "pygments_lexer": "ipython3",
   "version": "3.8.5"
  }
 },
 "nbformat": 4,
 "nbformat_minor": 4
}
